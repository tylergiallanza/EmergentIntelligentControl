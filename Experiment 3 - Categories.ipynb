{
 "cells": [
  {
   "cell_type": "code",
   "execution_count": 1,
   "metadata": {},
   "outputs": [],
   "source": [
    "%load_ext autoreload\n",
    "%autoreload 2\n",
    "\n",
    "import sys\n",
    "import warnings\n",
    "sys.path.append('..')\n",
    "warnings.filterwarnings('ignore')\n",
    "\n",
    "import numpy as np\n",
    "import pandas as pd\n",
    "import pingouin as pg\n",
    "import plotly.express as px\n",
    "from sklearn.metrics.pairwise import cosine_similarity\n",
    "from scipy.stats import pearsonr\n",
    "import torch\n",
    "\n",
    "import experiment3\n",
    "import utils"
   ]
  },
  {
   "cell_type": "markdown",
   "metadata": {},
   "source": [
    "# Setup"
   ]
  },
  {
   "cell_type": "code",
   "execution_count": 2,
   "metadata": {},
   "outputs": [],
   "source": [
    "params = utils.Map(\n",
    "    n_participants = 20,\n",
    "    state_d = 14, # dimensionality of the state input\n",
    "    context_d = 4, # dimensionality of the learned context representations\n",
    "    semantic_d = 32, # dimensionality of the context-dependent semantic representations\n",
    "    output_d = 5, # dimensionality of the output layer\n",
    "    semantic_lr = 2, # learning rate for the semantic pathway\n",
    "    episodic_lr = .5, # learning rate for the episodic pathway\n",
    "    persistance = 1, # bias towards memory retention in the recurrent context module\n",
    "    temperature = .05 # temperature for EM retrieval (lower is more argmax-like)\n",
    ")"
   ]
  },
  {
   "cell_type": "markdown",
   "metadata": {},
   "source": [
    "# Run experiment"
   ]
  },
  {
   "cell_type": "code",
   "execution_count": 3,
   "metadata": {},
   "outputs": [],
   "source": [
    "performance_data, model_data = experiment3.run_experiment(params)"
   ]
  },
  {
   "cell_type": "markdown",
   "metadata": {},
   "source": [
    "# Plot Results"
   ]
  },
  {
   "cell_type": "markdown",
   "metadata": {},
   "source": [
    "## Model Results"
   ]
  },
  {
   "cell_type": "code",
   "execution_count": 4,
   "metadata": {},
   "outputs": [
    {
     "data": {
      "application/vnd.plotly.v1+json": {
       "config": {
        "plotlyServerURL": "https://plot.ly"
       },
       "data": [
        {
         "error_y": {
          "array": [
           0.009735988582789654,
           0.010038740747199015,
           0.01297517873317724,
           0.01296300403780739
          ]
         },
         "hovertemplate": "paradigm=Blocked<br>Trial=%{x}<br>Accuracy=%{y}<extra></extra>",
         "legendgroup": "Blocked",
         "line": {
          "color": "#95DFCD",
          "dash": "solid",
          "width": 4
         },
         "marker": {
          "color": "#95DFCD",
          "size": 10,
          "symbol": "circle"
         },
         "mode": "markers+lines",
         "name": "Blocked",
         "orientation": "v",
         "showlegend": true,
         "type": "scatter",
         "x": [
          50,
          100,
          150,
          200
         ],
         "xaxis": "x",
         "y": [
          0.6930000000000001,
          0.7195000000000001,
          0.7925000000000002,
          0.8685000000000003
         ],
         "yaxis": "y"
        },
        {
         "error_y": {
          "array": [
           0.009851529403039292,
           0.010049875621120894,
           0.008561695601862256,
           0.008792191511730583,
           0.010415070053078207,
           0.013695946384548288,
           0.010424540883491182,
           0.015507213940954275
          ]
         },
         "hovertemplate": "paradigm=Interleaved<br>Trial=%{x}<br>Accuracy=%{y}<extra></extra>",
         "legendgroup": "Interleaved",
         "line": {
          "color": "#D985CB",
          "dash": "solid",
          "width": 4
         },
         "marker": {
          "color": "#D985CB",
          "size": 10,
          "symbol": "circle"
         },
         "mode": "markers+lines",
         "name": "Interleaved",
         "orientation": "v",
         "showlegend": true,
         "type": "scatter",
         "x": [
          50,
          100,
          150,
          200,
          250,
          300,
          350,
          400
         ],
         "xaxis": "x",
         "y": [
          0.656,
          0.7010000000000001,
          0.7115000000000001,
          0.7325000000000002,
          0.7470000000000001,
          0.7540000000000001,
          0.7805000000000002,
          0.7890000000000001
         ],
         "yaxis": "y"
        },
        {
         "error_y": {
          "array": [
           0.009045935405939027,
           0.013366789166870974,
           0.014478205035591662,
           0.009580682318301262
          ]
         },
         "hovertemplate": "paradigm=Blocked2<br>Trial=%{x}<br>Accuracy=%{y}<extra></extra>",
         "legendgroup": "Blocked2",
         "line": {
          "color": "#95DFCD",
          "dash": "solid",
          "width": 4
         },
         "marker": {
          "color": "#95DFCD",
          "size": 10,
          "symbol": "circle"
         },
         "mode": "markers+lines",
         "name": "Blocked2",
         "orientation": "v",
         "showlegend": true,
         "type": "scatter",
         "x": [
          250,
          300,
          350,
          400
         ],
         "xaxis": "x",
         "y": [
          0.7005000000000001,
          0.7695000000000001,
          0.8485000000000001,
          0.9260000000000002
         ],
         "yaxis": "y"
        }
       ],
       "layout": {
        "height": 500,
        "legend": {
         "title": {
          "text": "paradigm"
         },
         "tracegroupgap": 0
        },
        "margin": {
         "t": 60
        },
        "plot_bgcolor": "white",
        "showlegend": false,
        "template": {
         "data": {
          "bar": [
           {
            "error_x": {
             "color": "#2a3f5f"
            },
            "error_y": {
             "color": "#2a3f5f"
            },
            "marker": {
             "line": {
              "color": "#E5ECF6",
              "width": 0.5
             },
             "pattern": {
              "fillmode": "overlay",
              "size": 10,
              "solidity": 0.2
             }
            },
            "type": "bar"
           }
          ],
          "barpolar": [
           {
            "marker": {
             "line": {
              "color": "#E5ECF6",
              "width": 0.5
             },
             "pattern": {
              "fillmode": "overlay",
              "size": 10,
              "solidity": 0.2
             }
            },
            "type": "barpolar"
           }
          ],
          "carpet": [
           {
            "aaxis": {
             "endlinecolor": "#2a3f5f",
             "gridcolor": "white",
             "linecolor": "white",
             "minorgridcolor": "white",
             "startlinecolor": "#2a3f5f"
            },
            "baxis": {
             "endlinecolor": "#2a3f5f",
             "gridcolor": "white",
             "linecolor": "white",
             "minorgridcolor": "white",
             "startlinecolor": "#2a3f5f"
            },
            "type": "carpet"
           }
          ],
          "choropleth": [
           {
            "colorbar": {
             "outlinewidth": 0,
             "ticks": ""
            },
            "type": "choropleth"
           }
          ],
          "contour": [
           {
            "colorbar": {
             "outlinewidth": 0,
             "ticks": ""
            },
            "colorscale": [
             [
              0,
              "#0d0887"
             ],
             [
              0.1111111111111111,
              "#46039f"
             ],
             [
              0.2222222222222222,
              "#7201a8"
             ],
             [
              0.3333333333333333,
              "#9c179e"
             ],
             [
              0.4444444444444444,
              "#bd3786"
             ],
             [
              0.5555555555555556,
              "#d8576b"
             ],
             [
              0.6666666666666666,
              "#ed7953"
             ],
             [
              0.7777777777777778,
              "#fb9f3a"
             ],
             [
              0.8888888888888888,
              "#fdca26"
             ],
             [
              1,
              "#f0f921"
             ]
            ],
            "type": "contour"
           }
          ],
          "contourcarpet": [
           {
            "colorbar": {
             "outlinewidth": 0,
             "ticks": ""
            },
            "type": "contourcarpet"
           }
          ],
          "heatmap": [
           {
            "colorbar": {
             "outlinewidth": 0,
             "ticks": ""
            },
            "colorscale": [
             [
              0,
              "#0d0887"
             ],
             [
              0.1111111111111111,
              "#46039f"
             ],
             [
              0.2222222222222222,
              "#7201a8"
             ],
             [
              0.3333333333333333,
              "#9c179e"
             ],
             [
              0.4444444444444444,
              "#bd3786"
             ],
             [
              0.5555555555555556,
              "#d8576b"
             ],
             [
              0.6666666666666666,
              "#ed7953"
             ],
             [
              0.7777777777777778,
              "#fb9f3a"
             ],
             [
              0.8888888888888888,
              "#fdca26"
             ],
             [
              1,
              "#f0f921"
             ]
            ],
            "type": "heatmap"
           }
          ],
          "heatmapgl": [
           {
            "colorbar": {
             "outlinewidth": 0,
             "ticks": ""
            },
            "colorscale": [
             [
              0,
              "#0d0887"
             ],
             [
              0.1111111111111111,
              "#46039f"
             ],
             [
              0.2222222222222222,
              "#7201a8"
             ],
             [
              0.3333333333333333,
              "#9c179e"
             ],
             [
              0.4444444444444444,
              "#bd3786"
             ],
             [
              0.5555555555555556,
              "#d8576b"
             ],
             [
              0.6666666666666666,
              "#ed7953"
             ],
             [
              0.7777777777777778,
              "#fb9f3a"
             ],
             [
              0.8888888888888888,
              "#fdca26"
             ],
             [
              1,
              "#f0f921"
             ]
            ],
            "type": "heatmapgl"
           }
          ],
          "histogram": [
           {
            "marker": {
             "pattern": {
              "fillmode": "overlay",
              "size": 10,
              "solidity": 0.2
             }
            },
            "type": "histogram"
           }
          ],
          "histogram2d": [
           {
            "colorbar": {
             "outlinewidth": 0,
             "ticks": ""
            },
            "colorscale": [
             [
              0,
              "#0d0887"
             ],
             [
              0.1111111111111111,
              "#46039f"
             ],
             [
              0.2222222222222222,
              "#7201a8"
             ],
             [
              0.3333333333333333,
              "#9c179e"
             ],
             [
              0.4444444444444444,
              "#bd3786"
             ],
             [
              0.5555555555555556,
              "#d8576b"
             ],
             [
              0.6666666666666666,
              "#ed7953"
             ],
             [
              0.7777777777777778,
              "#fb9f3a"
             ],
             [
              0.8888888888888888,
              "#fdca26"
             ],
             [
              1,
              "#f0f921"
             ]
            ],
            "type": "histogram2d"
           }
          ],
          "histogram2dcontour": [
           {
            "colorbar": {
             "outlinewidth": 0,
             "ticks": ""
            },
            "colorscale": [
             [
              0,
              "#0d0887"
             ],
             [
              0.1111111111111111,
              "#46039f"
             ],
             [
              0.2222222222222222,
              "#7201a8"
             ],
             [
              0.3333333333333333,
              "#9c179e"
             ],
             [
              0.4444444444444444,
              "#bd3786"
             ],
             [
              0.5555555555555556,
              "#d8576b"
             ],
             [
              0.6666666666666666,
              "#ed7953"
             ],
             [
              0.7777777777777778,
              "#fb9f3a"
             ],
             [
              0.8888888888888888,
              "#fdca26"
             ],
             [
              1,
              "#f0f921"
             ]
            ],
            "type": "histogram2dcontour"
           }
          ],
          "mesh3d": [
           {
            "colorbar": {
             "outlinewidth": 0,
             "ticks": ""
            },
            "type": "mesh3d"
           }
          ],
          "parcoords": [
           {
            "line": {
             "colorbar": {
              "outlinewidth": 0,
              "ticks": ""
             }
            },
            "type": "parcoords"
           }
          ],
          "pie": [
           {
            "automargin": true,
            "type": "pie"
           }
          ],
          "scatter": [
           {
            "marker": {
             "colorbar": {
              "outlinewidth": 0,
              "ticks": ""
             }
            },
            "type": "scatter"
           }
          ],
          "scatter3d": [
           {
            "line": {
             "colorbar": {
              "outlinewidth": 0,
              "ticks": ""
             }
            },
            "marker": {
             "colorbar": {
              "outlinewidth": 0,
              "ticks": ""
             }
            },
            "type": "scatter3d"
           }
          ],
          "scattercarpet": [
           {
            "marker": {
             "colorbar": {
              "outlinewidth": 0,
              "ticks": ""
             }
            },
            "type": "scattercarpet"
           }
          ],
          "scattergeo": [
           {
            "marker": {
             "colorbar": {
              "outlinewidth": 0,
              "ticks": ""
             }
            },
            "type": "scattergeo"
           }
          ],
          "scattergl": [
           {
            "marker": {
             "colorbar": {
              "outlinewidth": 0,
              "ticks": ""
             }
            },
            "type": "scattergl"
           }
          ],
          "scattermapbox": [
           {
            "marker": {
             "colorbar": {
              "outlinewidth": 0,
              "ticks": ""
             }
            },
            "type": "scattermapbox"
           }
          ],
          "scatterpolar": [
           {
            "marker": {
             "colorbar": {
              "outlinewidth": 0,
              "ticks": ""
             }
            },
            "type": "scatterpolar"
           }
          ],
          "scatterpolargl": [
           {
            "marker": {
             "colorbar": {
              "outlinewidth": 0,
              "ticks": ""
             }
            },
            "type": "scatterpolargl"
           }
          ],
          "scatterternary": [
           {
            "marker": {
             "colorbar": {
              "outlinewidth": 0,
              "ticks": ""
             }
            },
            "type": "scatterternary"
           }
          ],
          "surface": [
           {
            "colorbar": {
             "outlinewidth": 0,
             "ticks": ""
            },
            "colorscale": [
             [
              0,
              "#0d0887"
             ],
             [
              0.1111111111111111,
              "#46039f"
             ],
             [
              0.2222222222222222,
              "#7201a8"
             ],
             [
              0.3333333333333333,
              "#9c179e"
             ],
             [
              0.4444444444444444,
              "#bd3786"
             ],
             [
              0.5555555555555556,
              "#d8576b"
             ],
             [
              0.6666666666666666,
              "#ed7953"
             ],
             [
              0.7777777777777778,
              "#fb9f3a"
             ],
             [
              0.8888888888888888,
              "#fdca26"
             ],
             [
              1,
              "#f0f921"
             ]
            ],
            "type": "surface"
           }
          ],
          "table": [
           {
            "cells": {
             "fill": {
              "color": "#EBF0F8"
             },
             "line": {
              "color": "white"
             }
            },
            "header": {
             "fill": {
              "color": "#C8D4E3"
             },
             "line": {
              "color": "white"
             }
            },
            "type": "table"
           }
          ]
         },
         "layout": {
          "annotationdefaults": {
           "arrowcolor": "#2a3f5f",
           "arrowhead": 0,
           "arrowwidth": 1
          },
          "autotypenumbers": "strict",
          "coloraxis": {
           "colorbar": {
            "outlinewidth": 0,
            "ticks": ""
           }
          },
          "colorscale": {
           "diverging": [
            [
             0,
             "#8e0152"
            ],
            [
             0.1,
             "#c51b7d"
            ],
            [
             0.2,
             "#de77ae"
            ],
            [
             0.3,
             "#f1b6da"
            ],
            [
             0.4,
             "#fde0ef"
            ],
            [
             0.5,
             "#f7f7f7"
            ],
            [
             0.6,
             "#e6f5d0"
            ],
            [
             0.7,
             "#b8e186"
            ],
            [
             0.8,
             "#7fbc41"
            ],
            [
             0.9,
             "#4d9221"
            ],
            [
             1,
             "#276419"
            ]
           ],
           "sequential": [
            [
             0,
             "#0d0887"
            ],
            [
             0.1111111111111111,
             "#46039f"
            ],
            [
             0.2222222222222222,
             "#7201a8"
            ],
            [
             0.3333333333333333,
             "#9c179e"
            ],
            [
             0.4444444444444444,
             "#bd3786"
            ],
            [
             0.5555555555555556,
             "#d8576b"
            ],
            [
             0.6666666666666666,
             "#ed7953"
            ],
            [
             0.7777777777777778,
             "#fb9f3a"
            ],
            [
             0.8888888888888888,
             "#fdca26"
            ],
            [
             1,
             "#f0f921"
            ]
           ],
           "sequentialminus": [
            [
             0,
             "#0d0887"
            ],
            [
             0.1111111111111111,
             "#46039f"
            ],
            [
             0.2222222222222222,
             "#7201a8"
            ],
            [
             0.3333333333333333,
             "#9c179e"
            ],
            [
             0.4444444444444444,
             "#bd3786"
            ],
            [
             0.5555555555555556,
             "#d8576b"
            ],
            [
             0.6666666666666666,
             "#ed7953"
            ],
            [
             0.7777777777777778,
             "#fb9f3a"
            ],
            [
             0.8888888888888888,
             "#fdca26"
            ],
            [
             1,
             "#f0f921"
            ]
           ]
          },
          "colorway": [
           "#636efa",
           "#EF553B",
           "#00cc96",
           "#ab63fa",
           "#FFA15A",
           "#19d3f3",
           "#FF6692",
           "#B6E880",
           "#FF97FF",
           "#FECB52"
          ],
          "font": {
           "color": "#2a3f5f"
          },
          "geo": {
           "bgcolor": "white",
           "lakecolor": "white",
           "landcolor": "#E5ECF6",
           "showlakes": true,
           "showland": true,
           "subunitcolor": "white"
          },
          "hoverlabel": {
           "align": "left"
          },
          "hovermode": "closest",
          "mapbox": {
           "style": "light"
          },
          "paper_bgcolor": "white",
          "plot_bgcolor": "#E5ECF6",
          "polar": {
           "angularaxis": {
            "gridcolor": "white",
            "linecolor": "white",
            "ticks": ""
           },
           "bgcolor": "#E5ECF6",
           "radialaxis": {
            "gridcolor": "white",
            "linecolor": "white",
            "ticks": ""
           }
          },
          "scene": {
           "xaxis": {
            "backgroundcolor": "#E5ECF6",
            "gridcolor": "white",
            "gridwidth": 2,
            "linecolor": "white",
            "showbackground": true,
            "ticks": "",
            "zerolinecolor": "white"
           },
           "yaxis": {
            "backgroundcolor": "#E5ECF6",
            "gridcolor": "white",
            "gridwidth": 2,
            "linecolor": "white",
            "showbackground": true,
            "ticks": "",
            "zerolinecolor": "white"
           },
           "zaxis": {
            "backgroundcolor": "#E5ECF6",
            "gridcolor": "white",
            "gridwidth": 2,
            "linecolor": "white",
            "showbackground": true,
            "ticks": "",
            "zerolinecolor": "white"
           }
          },
          "shapedefaults": {
           "line": {
            "color": "#2a3f5f"
           }
          },
          "ternary": {
           "aaxis": {
            "gridcolor": "white",
            "linecolor": "white",
            "ticks": ""
           },
           "baxis": {
            "gridcolor": "white",
            "linecolor": "white",
            "ticks": ""
           },
           "bgcolor": "#E5ECF6",
           "caxis": {
            "gridcolor": "white",
            "linecolor": "white",
            "ticks": ""
           }
          },
          "title": {
           "x": 0.05
          },
          "xaxis": {
           "automargin": true,
           "gridcolor": "white",
           "linecolor": "white",
           "ticks": "",
           "title": {
            "standoff": 15
           },
           "zerolinecolor": "white",
           "zerolinewidth": 2
          },
          "yaxis": {
           "automargin": true,
           "gridcolor": "white",
           "linecolor": "white",
           "ticks": "",
           "title": {
            "standoff": 15
           },
           "zerolinecolor": "white",
           "zerolinewidth": 2
          }
         }
        },
        "width": 1000,
        "xaxis": {
         "anchor": "y",
         "domain": [
          0,
          1
         ],
         "linecolor": "black",
         "linewidth": 1.5,
         "mirror": true,
         "range": [
          0,
          410
         ],
         "showgrid": false,
         "showline": true,
         "tickfont": {
          "size": 20
         },
         "ticks": "outside",
         "title": {
          "font": {
           "size": 24
          },
          "text": "Trial"
         }
        },
        "yaxis": {
         "anchor": "x",
         "domain": [
          0,
          1
         ],
         "linecolor": "black",
         "linewidth": 1.5,
         "mirror": true,
         "range": [
          0.5,
          1
         ],
         "showgrid": false,
         "showline": true,
         "tickfont": {
          "size": 20
         },
         "ticks": "outside",
         "title": {
          "font": {
           "size": 24
          },
          "text": "Accuracy"
         }
        }
       }
      }
     },
     "metadata": {},
     "output_type": "display_data"
    },
    {
     "data": {
      "text/html": [
       "<div>\n",
       "<style scoped>\n",
       "    .dataframe tbody tr th:only-of-type {\n",
       "        vertical-align: middle;\n",
       "    }\n",
       "\n",
       "    .dataframe tbody tr th {\n",
       "        vertical-align: top;\n",
       "    }\n",
       "\n",
       "    .dataframe thead th {\n",
       "        text-align: right;\n",
       "    }\n",
       "</style>\n",
       "<table border=\"1\" class=\"dataframe\">\n",
       "  <thead>\n",
       "    <tr style=\"text-align: right;\">\n",
       "      <th></th>\n",
       "      <th>Contrast</th>\n",
       "      <th>A</th>\n",
       "      <th>B</th>\n",
       "      <th>Paired</th>\n",
       "      <th>Parametric</th>\n",
       "      <th>T</th>\n",
       "      <th>dof</th>\n",
       "      <th>alternative</th>\n",
       "      <th>p-unc</th>\n",
       "      <th>BF10</th>\n",
       "      <th>hedges</th>\n",
       "    </tr>\n",
       "  </thead>\n",
       "  <tbody>\n",
       "    <tr>\n",
       "      <th>0</th>\n",
       "      <td>paradigm</td>\n",
       "      <td>Blocked</td>\n",
       "      <td>Interleaved</td>\n",
       "      <td>False</td>\n",
       "      <td>True</td>\n",
       "      <td>2.521542</td>\n",
       "      <td>38.0</td>\n",
       "      <td>two-sided</td>\n",
       "      <td>0.015997</td>\n",
       "      <td>3.471</td>\n",
       "      <td>0.781539</td>\n",
       "    </tr>\n",
       "  </tbody>\n",
       "</table>\n",
       "</div>"
      ],
      "text/plain": [
       "   Contrast        A            B  Paired  Parametric         T   dof  \\\n",
       "0  paradigm  Blocked  Interleaved   False        True  2.521542  38.0   \n",
       "\n",
       "  alternative     p-unc   BF10    hedges  \n",
       "0   two-sided  0.015997  3.471  0.781539  "
      ]
     },
     "metadata": {},
     "output_type": "display_data"
    },
    {
     "data": {
      "application/vnd.plotly.v1+json": {
       "config": {
        "plotlyServerURL": "https://plot.ly"
       },
       "data": [
        {
         "alignmentgroup": "True",
         "error_y": {
          "array": [
           0.004313037571376494
          ]
         },
         "hovertemplate": "Training Type=%{x}<br>Accuracy=%{y}<extra></extra>",
         "legendgroup": "Blocked",
         "marker": {
          "color": "#95DFCD",
          "pattern": {
           "shape": ""
          }
         },
         "name": "Blocked",
         "offsetgroup": "Blocked",
         "orientation": "v",
         "showlegend": true,
         "textposition": "auto",
         "type": "bar",
         "x": [
          "Blocked"
         ],
         "xaxis": "x",
         "y": [
          0.8221925000000002
         ],
         "yaxis": "y"
        },
        {
         "alignmentgroup": "True",
         "error_y": {
          "array": [
           0.010523445690957233
          ]
         },
         "hovertemplate": "Training Type=%{x}<br>Accuracy=%{y}<extra></extra>",
         "legendgroup": "Interleaved",
         "marker": {
          "color": "#D985CB",
          "pattern": {
           "shape": ""
          }
         },
         "name": "Interleaved",
         "offsetgroup": "Interleaved",
         "orientation": "v",
         "showlegend": true,
         "textposition": "auto",
         "type": "bar",
         "x": [
          "Interleaved"
         ],
         "xaxis": "x",
         "y": [
          0.7935150000000002
         ],
         "yaxis": "y"
        }
       ],
       "layout": {
        "barmode": "relative",
        "height": 500,
        "legend": {
         "title": {
          "text": "Training Type"
         },
         "tracegroupgap": 0
        },
        "margin": {
         "t": 60
        },
        "plot_bgcolor": "white",
        "showlegend": false,
        "template": {
         "data": {
          "bar": [
           {
            "error_x": {
             "color": "#2a3f5f"
            },
            "error_y": {
             "color": "#2a3f5f"
            },
            "marker": {
             "line": {
              "color": "#E5ECF6",
              "width": 0.5
             },
             "pattern": {
              "fillmode": "overlay",
              "size": 10,
              "solidity": 0.2
             }
            },
            "type": "bar"
           }
          ],
          "barpolar": [
           {
            "marker": {
             "line": {
              "color": "#E5ECF6",
              "width": 0.5
             },
             "pattern": {
              "fillmode": "overlay",
              "size": 10,
              "solidity": 0.2
             }
            },
            "type": "barpolar"
           }
          ],
          "carpet": [
           {
            "aaxis": {
             "endlinecolor": "#2a3f5f",
             "gridcolor": "white",
             "linecolor": "white",
             "minorgridcolor": "white",
             "startlinecolor": "#2a3f5f"
            },
            "baxis": {
             "endlinecolor": "#2a3f5f",
             "gridcolor": "white",
             "linecolor": "white",
             "minorgridcolor": "white",
             "startlinecolor": "#2a3f5f"
            },
            "type": "carpet"
           }
          ],
          "choropleth": [
           {
            "colorbar": {
             "outlinewidth": 0,
             "ticks": ""
            },
            "type": "choropleth"
           }
          ],
          "contour": [
           {
            "colorbar": {
             "outlinewidth": 0,
             "ticks": ""
            },
            "colorscale": [
             [
              0,
              "#0d0887"
             ],
             [
              0.1111111111111111,
              "#46039f"
             ],
             [
              0.2222222222222222,
              "#7201a8"
             ],
             [
              0.3333333333333333,
              "#9c179e"
             ],
             [
              0.4444444444444444,
              "#bd3786"
             ],
             [
              0.5555555555555556,
              "#d8576b"
             ],
             [
              0.6666666666666666,
              "#ed7953"
             ],
             [
              0.7777777777777778,
              "#fb9f3a"
             ],
             [
              0.8888888888888888,
              "#fdca26"
             ],
             [
              1,
              "#f0f921"
             ]
            ],
            "type": "contour"
           }
          ],
          "contourcarpet": [
           {
            "colorbar": {
             "outlinewidth": 0,
             "ticks": ""
            },
            "type": "contourcarpet"
           }
          ],
          "heatmap": [
           {
            "colorbar": {
             "outlinewidth": 0,
             "ticks": ""
            },
            "colorscale": [
             [
              0,
              "#0d0887"
             ],
             [
              0.1111111111111111,
              "#46039f"
             ],
             [
              0.2222222222222222,
              "#7201a8"
             ],
             [
              0.3333333333333333,
              "#9c179e"
             ],
             [
              0.4444444444444444,
              "#bd3786"
             ],
             [
              0.5555555555555556,
              "#d8576b"
             ],
             [
              0.6666666666666666,
              "#ed7953"
             ],
             [
              0.7777777777777778,
              "#fb9f3a"
             ],
             [
              0.8888888888888888,
              "#fdca26"
             ],
             [
              1,
              "#f0f921"
             ]
            ],
            "type": "heatmap"
           }
          ],
          "heatmapgl": [
           {
            "colorbar": {
             "outlinewidth": 0,
             "ticks": ""
            },
            "colorscale": [
             [
              0,
              "#0d0887"
             ],
             [
              0.1111111111111111,
              "#46039f"
             ],
             [
              0.2222222222222222,
              "#7201a8"
             ],
             [
              0.3333333333333333,
              "#9c179e"
             ],
             [
              0.4444444444444444,
              "#bd3786"
             ],
             [
              0.5555555555555556,
              "#d8576b"
             ],
             [
              0.6666666666666666,
              "#ed7953"
             ],
             [
              0.7777777777777778,
              "#fb9f3a"
             ],
             [
              0.8888888888888888,
              "#fdca26"
             ],
             [
              1,
              "#f0f921"
             ]
            ],
            "type": "heatmapgl"
           }
          ],
          "histogram": [
           {
            "marker": {
             "pattern": {
              "fillmode": "overlay",
              "size": 10,
              "solidity": 0.2
             }
            },
            "type": "histogram"
           }
          ],
          "histogram2d": [
           {
            "colorbar": {
             "outlinewidth": 0,
             "ticks": ""
            },
            "colorscale": [
             [
              0,
              "#0d0887"
             ],
             [
              0.1111111111111111,
              "#46039f"
             ],
             [
              0.2222222222222222,
              "#7201a8"
             ],
             [
              0.3333333333333333,
              "#9c179e"
             ],
             [
              0.4444444444444444,
              "#bd3786"
             ],
             [
              0.5555555555555556,
              "#d8576b"
             ],
             [
              0.6666666666666666,
              "#ed7953"
             ],
             [
              0.7777777777777778,
              "#fb9f3a"
             ],
             [
              0.8888888888888888,
              "#fdca26"
             ],
             [
              1,
              "#f0f921"
             ]
            ],
            "type": "histogram2d"
           }
          ],
          "histogram2dcontour": [
           {
            "colorbar": {
             "outlinewidth": 0,
             "ticks": ""
            },
            "colorscale": [
             [
              0,
              "#0d0887"
             ],
             [
              0.1111111111111111,
              "#46039f"
             ],
             [
              0.2222222222222222,
              "#7201a8"
             ],
             [
              0.3333333333333333,
              "#9c179e"
             ],
             [
              0.4444444444444444,
              "#bd3786"
             ],
             [
              0.5555555555555556,
              "#d8576b"
             ],
             [
              0.6666666666666666,
              "#ed7953"
             ],
             [
              0.7777777777777778,
              "#fb9f3a"
             ],
             [
              0.8888888888888888,
              "#fdca26"
             ],
             [
              1,
              "#f0f921"
             ]
            ],
            "type": "histogram2dcontour"
           }
          ],
          "mesh3d": [
           {
            "colorbar": {
             "outlinewidth": 0,
             "ticks": ""
            },
            "type": "mesh3d"
           }
          ],
          "parcoords": [
           {
            "line": {
             "colorbar": {
              "outlinewidth": 0,
              "ticks": ""
             }
            },
            "type": "parcoords"
           }
          ],
          "pie": [
           {
            "automargin": true,
            "type": "pie"
           }
          ],
          "scatter": [
           {
            "marker": {
             "colorbar": {
              "outlinewidth": 0,
              "ticks": ""
             }
            },
            "type": "scatter"
           }
          ],
          "scatter3d": [
           {
            "line": {
             "colorbar": {
              "outlinewidth": 0,
              "ticks": ""
             }
            },
            "marker": {
             "colorbar": {
              "outlinewidth": 0,
              "ticks": ""
             }
            },
            "type": "scatter3d"
           }
          ],
          "scattercarpet": [
           {
            "marker": {
             "colorbar": {
              "outlinewidth": 0,
              "ticks": ""
             }
            },
            "type": "scattercarpet"
           }
          ],
          "scattergeo": [
           {
            "marker": {
             "colorbar": {
              "outlinewidth": 0,
              "ticks": ""
             }
            },
            "type": "scattergeo"
           }
          ],
          "scattergl": [
           {
            "marker": {
             "colorbar": {
              "outlinewidth": 0,
              "ticks": ""
             }
            },
            "type": "scattergl"
           }
          ],
          "scattermapbox": [
           {
            "marker": {
             "colorbar": {
              "outlinewidth": 0,
              "ticks": ""
             }
            },
            "type": "scattermapbox"
           }
          ],
          "scatterpolar": [
           {
            "marker": {
             "colorbar": {
              "outlinewidth": 0,
              "ticks": ""
             }
            },
            "type": "scatterpolar"
           }
          ],
          "scatterpolargl": [
           {
            "marker": {
             "colorbar": {
              "outlinewidth": 0,
              "ticks": ""
             }
            },
            "type": "scatterpolargl"
           }
          ],
          "scatterternary": [
           {
            "marker": {
             "colorbar": {
              "outlinewidth": 0,
              "ticks": ""
             }
            },
            "type": "scatterternary"
           }
          ],
          "surface": [
           {
            "colorbar": {
             "outlinewidth": 0,
             "ticks": ""
            },
            "colorscale": [
             [
              0,
              "#0d0887"
             ],
             [
              0.1111111111111111,
              "#46039f"
             ],
             [
              0.2222222222222222,
              "#7201a8"
             ],
             [
              0.3333333333333333,
              "#9c179e"
             ],
             [
              0.4444444444444444,
              "#bd3786"
             ],
             [
              0.5555555555555556,
              "#d8576b"
             ],
             [
              0.6666666666666666,
              "#ed7953"
             ],
             [
              0.7777777777777778,
              "#fb9f3a"
             ],
             [
              0.8888888888888888,
              "#fdca26"
             ],
             [
              1,
              "#f0f921"
             ]
            ],
            "type": "surface"
           }
          ],
          "table": [
           {
            "cells": {
             "fill": {
              "color": "#EBF0F8"
             },
             "line": {
              "color": "white"
             }
            },
            "header": {
             "fill": {
              "color": "#C8D4E3"
             },
             "line": {
              "color": "white"
             }
            },
            "type": "table"
           }
          ]
         },
         "layout": {
          "annotationdefaults": {
           "arrowcolor": "#2a3f5f",
           "arrowhead": 0,
           "arrowwidth": 1
          },
          "autotypenumbers": "strict",
          "coloraxis": {
           "colorbar": {
            "outlinewidth": 0,
            "ticks": ""
           }
          },
          "colorscale": {
           "diverging": [
            [
             0,
             "#8e0152"
            ],
            [
             0.1,
             "#c51b7d"
            ],
            [
             0.2,
             "#de77ae"
            ],
            [
             0.3,
             "#f1b6da"
            ],
            [
             0.4,
             "#fde0ef"
            ],
            [
             0.5,
             "#f7f7f7"
            ],
            [
             0.6,
             "#e6f5d0"
            ],
            [
             0.7,
             "#b8e186"
            ],
            [
             0.8,
             "#7fbc41"
            ],
            [
             0.9,
             "#4d9221"
            ],
            [
             1,
             "#276419"
            ]
           ],
           "sequential": [
            [
             0,
             "#0d0887"
            ],
            [
             0.1111111111111111,
             "#46039f"
            ],
            [
             0.2222222222222222,
             "#7201a8"
            ],
            [
             0.3333333333333333,
             "#9c179e"
            ],
            [
             0.4444444444444444,
             "#bd3786"
            ],
            [
             0.5555555555555556,
             "#d8576b"
            ],
            [
             0.6666666666666666,
             "#ed7953"
            ],
            [
             0.7777777777777778,
             "#fb9f3a"
            ],
            [
             0.8888888888888888,
             "#fdca26"
            ],
            [
             1,
             "#f0f921"
            ]
           ],
           "sequentialminus": [
            [
             0,
             "#0d0887"
            ],
            [
             0.1111111111111111,
             "#46039f"
            ],
            [
             0.2222222222222222,
             "#7201a8"
            ],
            [
             0.3333333333333333,
             "#9c179e"
            ],
            [
             0.4444444444444444,
             "#bd3786"
            ],
            [
             0.5555555555555556,
             "#d8576b"
            ],
            [
             0.6666666666666666,
             "#ed7953"
            ],
            [
             0.7777777777777778,
             "#fb9f3a"
            ],
            [
             0.8888888888888888,
             "#fdca26"
            ],
            [
             1,
             "#f0f921"
            ]
           ]
          },
          "colorway": [
           "#636efa",
           "#EF553B",
           "#00cc96",
           "#ab63fa",
           "#FFA15A",
           "#19d3f3",
           "#FF6692",
           "#B6E880",
           "#FF97FF",
           "#FECB52"
          ],
          "font": {
           "color": "#2a3f5f"
          },
          "geo": {
           "bgcolor": "white",
           "lakecolor": "white",
           "landcolor": "#E5ECF6",
           "showlakes": true,
           "showland": true,
           "subunitcolor": "white"
          },
          "hoverlabel": {
           "align": "left"
          },
          "hovermode": "closest",
          "mapbox": {
           "style": "light"
          },
          "paper_bgcolor": "white",
          "plot_bgcolor": "#E5ECF6",
          "polar": {
           "angularaxis": {
            "gridcolor": "white",
            "linecolor": "white",
            "ticks": ""
           },
           "bgcolor": "#E5ECF6",
           "radialaxis": {
            "gridcolor": "white",
            "linecolor": "white",
            "ticks": ""
           }
          },
          "scene": {
           "xaxis": {
            "backgroundcolor": "#E5ECF6",
            "gridcolor": "white",
            "gridwidth": 2,
            "linecolor": "white",
            "showbackground": true,
            "ticks": "",
            "zerolinecolor": "white"
           },
           "yaxis": {
            "backgroundcolor": "#E5ECF6",
            "gridcolor": "white",
            "gridwidth": 2,
            "linecolor": "white",
            "showbackground": true,
            "ticks": "",
            "zerolinecolor": "white"
           },
           "zaxis": {
            "backgroundcolor": "#E5ECF6",
            "gridcolor": "white",
            "gridwidth": 2,
            "linecolor": "white",
            "showbackground": true,
            "ticks": "",
            "zerolinecolor": "white"
           }
          },
          "shapedefaults": {
           "line": {
            "color": "#2a3f5f"
           }
          },
          "ternary": {
           "aaxis": {
            "gridcolor": "white",
            "linecolor": "white",
            "ticks": ""
           },
           "baxis": {
            "gridcolor": "white",
            "linecolor": "white",
            "ticks": ""
           },
           "bgcolor": "#E5ECF6",
           "caxis": {
            "gridcolor": "white",
            "linecolor": "white",
            "ticks": ""
           }
          },
          "title": {
           "x": 0.05
          },
          "xaxis": {
           "automargin": true,
           "gridcolor": "white",
           "linecolor": "white",
           "ticks": "",
           "title": {
            "standoff": 15
           },
           "zerolinecolor": "white",
           "zerolinewidth": 2
          },
          "yaxis": {
           "automargin": true,
           "gridcolor": "white",
           "linecolor": "white",
           "ticks": "",
           "title": {
            "standoff": 15
           },
           "zerolinecolor": "white",
           "zerolinewidth": 2
          }
         }
        },
        "width": 500,
        "xaxis": {
         "anchor": "y",
         "categoryarray": [
          "Blocked",
          "Interleaved"
         ],
         "categoryorder": "array",
         "domain": [
          0,
          1
         ],
         "linecolor": "black",
         "linewidth": 1.5,
         "mirror": true,
         "showgrid": false,
         "showline": true,
         "tickfont": {
          "size": 20
         },
         "ticks": "outside",
         "title": {
          "font": {
           "size": 24
          },
          "text": "Training Type"
         }
        },
        "yaxis": {
         "anchor": "x",
         "domain": [
          0,
          1
         ],
         "linecolor": "black",
         "linewidth": 1.5,
         "mirror": true,
         "range": [
          0.5,
          1
         ],
         "showgrid": false,
         "showline": true,
         "showticklabels": false,
         "tickfont": {
          "size": 20
         },
         "tickmode": "array",
         "ticks": "outside",
         "tickvals": [],
         "title": {}
        }
       }
      }
     },
     "metadata": {},
     "output_type": "display_data"
    },
    {
     "data": {
      "application/vnd.plotly.v1+json": {
       "config": {
        "plotlyServerURL": "https://plot.ly"
       },
       "data": [
        {
         "error_y": {
          "array": [
           0.013016184257745407,
           0.015901009567419244,
           0.015305657708662415,
           0.012473129012738596
          ]
         },
         "hovertemplate": "paradigm=Blocked<br>pathway=Episodic<br>Trial=%{x}<br>Accuracy=%{y}<extra></extra>",
         "legendgroup": "Blocked, Episodic",
         "line": {
          "color": "#95DFCD",
          "dash": "solid",
          "width": 4
         },
         "marker": {
          "color": "#95DFCD",
          "size": 10,
          "symbol": "circle"
         },
         "mode": "markers+lines",
         "name": "Blocked, Episodic",
         "orientation": "v",
         "showlegend": true,
         "type": "scatter",
         "x": [
          50,
          100,
          150,
          200
         ],
         "xaxis": "x",
         "y": [
          0.8090000000000002,
          0.8740000000000002,
          0.8930000000000003,
          0.8980000000000002
         ],
         "yaxis": "y"
        },
        {
         "error_y": {
          "array": [
           0.020989972543298412,
           0.013983072473153875,
           0.017069517305789053,
           0.021100012471934465
          ]
         },
         "hovertemplate": "paradigm=Blocked<br>pathway=Semantic<br>Trial=%{x}<br>Accuracy=%{y}<extra></extra>",
         "legendgroup": "Blocked, Semantic",
         "line": {
          "color": "#95DFCD",
          "dash": "dot",
          "width": 4
         },
         "marker": {
          "color": "#95DFCD",
          "size": 10,
          "symbol": "circle"
         },
         "mode": "markers+lines",
         "name": "Blocked, Semantic",
         "orientation": "v",
         "showlegend": true,
         "type": "scatter",
         "x": [
          50,
          100,
          150,
          200
         ],
         "xaxis": "x",
         "y": [
          0.577,
          0.5650000000000001,
          0.6920000000000001,
          0.8390000000000002
         ],
         "yaxis": "y"
        },
        {
         "error_y": {
          "array": [
           0.01055312375804585,
           0.012886141066236536,
           0.011598548003499137,
           0.011832159566199244,
           0.012180657660924216,
           0.015259164631891167,
           0.012191455161192558,
           0.013603405146467844
          ]
         },
         "hovertemplate": "paradigm=Interleaved<br>pathway=Episodic<br>Trial=%{x}<br>Accuracy=%{y}<extra></extra>",
         "legendgroup": "Interleaved, Episodic",
         "line": {
          "color": "#D985CB",
          "dash": "solid",
          "width": 4
         },
         "marker": {
          "color": "#D985CB",
          "size": 10,
          "symbol": "circle"
         },
         "mode": "markers+lines",
         "name": "Interleaved, Episodic",
         "orientation": "v",
         "showlegend": true,
         "type": "scatter",
         "x": [
          50,
          100,
          150,
          200,
          250,
          300,
          350,
          400
         ],
         "xaxis": "x",
         "y": [
          0.7580000000000001,
          0.8450000000000003,
          0.8380000000000003,
          0.8500000000000002,
          0.8490000000000002,
          0.8440000000000001,
          0.8640000000000002,
          0.8420000000000002
         ],
         "yaxis": "y"
        },
        {
         "error_y": {
          "array": [
           0.015633971108825133,
           0.017904718578308384,
           0.010748316881701704,
           0.015000000000000006,
           0.013983072473153887,
           0.02184153455183376,
           0.018821879765175888,
           0.023197096006998274
          ]
         },
         "hovertemplate": "paradigm=Interleaved<br>pathway=Semantic<br>Trial=%{x}<br>Accuracy=%{y}<extra></extra>",
         "legendgroup": "Interleaved, Semantic",
         "line": {
          "color": "#D985CB",
          "dash": "dot",
          "width": 4
         },
         "marker": {
          "color": "#D985CB",
          "size": 10,
          "symbol": "circle"
         },
         "mode": "markers+lines",
         "name": "Interleaved, Semantic",
         "orientation": "v",
         "showlegend": true,
         "type": "scatter",
         "x": [
          50,
          100,
          150,
          200,
          250,
          300,
          350,
          400
         ],
         "xaxis": "x",
         "y": [
          0.554,
          0.557,
          0.585,
          0.615,
          0.645,
          0.664,
          0.6970000000000001,
          0.7360000000000001
         ],
         "yaxis": "y"
        },
        {
         "error_y": {
          "array": [
           0.009676341196308063,
           0.013010117520404537,
           0.017507892956877307,
           0.011424811411549598
          ]
         },
         "hovertemplate": "paradigm=Blocked2<br>pathway=Episodic<br>Trial=%{x}<br>Accuracy=%{y}<extra></extra>",
         "legendgroup": "Blocked2, Episodic",
         "line": {
          "color": "#95DFCD",
          "dash": "solid",
          "width": 4
         },
         "marker": {
          "color": "#95DFCD",
          "size": 10,
          "symbol": "circle"
         },
         "mode": "markers+lines",
         "name": "Blocked2, Episodic",
         "orientation": "v",
         "showlegend": true,
         "type": "scatter",
         "x": [
          250,
          300,
          350,
          400
         ],
         "xaxis": "x",
         "y": [
          0.8110000000000002,
          0.8720000000000002,
          0.8840000000000001,
          0.9000000000000001
         ],
         "yaxis": "y"
        },
        {
         "error_y": {
          "array": [
           0.013954814298487222,
           0.018653347378448003,
           0.020989972543298423,
           0.012260333987036581
          ]
         },
         "hovertemplate": "paradigm=Blocked2<br>pathway=Semantic<br>Trial=%{x}<br>Accuracy=%{y}<extra></extra>",
         "legendgroup": "Blocked2, Semantic",
         "line": {
          "color": "#95DFCD",
          "dash": "dot",
          "width": 4
         },
         "marker": {
          "color": "#95DFCD",
          "size": 10,
          "symbol": "circle"
         },
         "mode": "markers+lines",
         "name": "Blocked2, Semantic",
         "orientation": "v",
         "showlegend": true,
         "type": "scatter",
         "x": [
          250,
          300,
          350,
          400
         ],
         "xaxis": "x",
         "y": [
          0.59,
          0.667,
          0.8130000000000003,
          0.9520000000000003
         ],
         "yaxis": "y"
        }
       ],
       "layout": {
        "height": 500,
        "legend": {
         "title": {
          "text": "paradigm, pathway"
         },
         "tracegroupgap": 0
        },
        "margin": {
         "t": 60
        },
        "plot_bgcolor": "white",
        "showlegend": false,
        "template": {
         "data": {
          "bar": [
           {
            "error_x": {
             "color": "#2a3f5f"
            },
            "error_y": {
             "color": "#2a3f5f"
            },
            "marker": {
             "line": {
              "color": "#E5ECF6",
              "width": 0.5
             },
             "pattern": {
              "fillmode": "overlay",
              "size": 10,
              "solidity": 0.2
             }
            },
            "type": "bar"
           }
          ],
          "barpolar": [
           {
            "marker": {
             "line": {
              "color": "#E5ECF6",
              "width": 0.5
             },
             "pattern": {
              "fillmode": "overlay",
              "size": 10,
              "solidity": 0.2
             }
            },
            "type": "barpolar"
           }
          ],
          "carpet": [
           {
            "aaxis": {
             "endlinecolor": "#2a3f5f",
             "gridcolor": "white",
             "linecolor": "white",
             "minorgridcolor": "white",
             "startlinecolor": "#2a3f5f"
            },
            "baxis": {
             "endlinecolor": "#2a3f5f",
             "gridcolor": "white",
             "linecolor": "white",
             "minorgridcolor": "white",
             "startlinecolor": "#2a3f5f"
            },
            "type": "carpet"
           }
          ],
          "choropleth": [
           {
            "colorbar": {
             "outlinewidth": 0,
             "ticks": ""
            },
            "type": "choropleth"
           }
          ],
          "contour": [
           {
            "colorbar": {
             "outlinewidth": 0,
             "ticks": ""
            },
            "colorscale": [
             [
              0,
              "#0d0887"
             ],
             [
              0.1111111111111111,
              "#46039f"
             ],
             [
              0.2222222222222222,
              "#7201a8"
             ],
             [
              0.3333333333333333,
              "#9c179e"
             ],
             [
              0.4444444444444444,
              "#bd3786"
             ],
             [
              0.5555555555555556,
              "#d8576b"
             ],
             [
              0.6666666666666666,
              "#ed7953"
             ],
             [
              0.7777777777777778,
              "#fb9f3a"
             ],
             [
              0.8888888888888888,
              "#fdca26"
             ],
             [
              1,
              "#f0f921"
             ]
            ],
            "type": "contour"
           }
          ],
          "contourcarpet": [
           {
            "colorbar": {
             "outlinewidth": 0,
             "ticks": ""
            },
            "type": "contourcarpet"
           }
          ],
          "heatmap": [
           {
            "colorbar": {
             "outlinewidth": 0,
             "ticks": ""
            },
            "colorscale": [
             [
              0,
              "#0d0887"
             ],
             [
              0.1111111111111111,
              "#46039f"
             ],
             [
              0.2222222222222222,
              "#7201a8"
             ],
             [
              0.3333333333333333,
              "#9c179e"
             ],
             [
              0.4444444444444444,
              "#bd3786"
             ],
             [
              0.5555555555555556,
              "#d8576b"
             ],
             [
              0.6666666666666666,
              "#ed7953"
             ],
             [
              0.7777777777777778,
              "#fb9f3a"
             ],
             [
              0.8888888888888888,
              "#fdca26"
             ],
             [
              1,
              "#f0f921"
             ]
            ],
            "type": "heatmap"
           }
          ],
          "heatmapgl": [
           {
            "colorbar": {
             "outlinewidth": 0,
             "ticks": ""
            },
            "colorscale": [
             [
              0,
              "#0d0887"
             ],
             [
              0.1111111111111111,
              "#46039f"
             ],
             [
              0.2222222222222222,
              "#7201a8"
             ],
             [
              0.3333333333333333,
              "#9c179e"
             ],
             [
              0.4444444444444444,
              "#bd3786"
             ],
             [
              0.5555555555555556,
              "#d8576b"
             ],
             [
              0.6666666666666666,
              "#ed7953"
             ],
             [
              0.7777777777777778,
              "#fb9f3a"
             ],
             [
              0.8888888888888888,
              "#fdca26"
             ],
             [
              1,
              "#f0f921"
             ]
            ],
            "type": "heatmapgl"
           }
          ],
          "histogram": [
           {
            "marker": {
             "pattern": {
              "fillmode": "overlay",
              "size": 10,
              "solidity": 0.2
             }
            },
            "type": "histogram"
           }
          ],
          "histogram2d": [
           {
            "colorbar": {
             "outlinewidth": 0,
             "ticks": ""
            },
            "colorscale": [
             [
              0,
              "#0d0887"
             ],
             [
              0.1111111111111111,
              "#46039f"
             ],
             [
              0.2222222222222222,
              "#7201a8"
             ],
             [
              0.3333333333333333,
              "#9c179e"
             ],
             [
              0.4444444444444444,
              "#bd3786"
             ],
             [
              0.5555555555555556,
              "#d8576b"
             ],
             [
              0.6666666666666666,
              "#ed7953"
             ],
             [
              0.7777777777777778,
              "#fb9f3a"
             ],
             [
              0.8888888888888888,
              "#fdca26"
             ],
             [
              1,
              "#f0f921"
             ]
            ],
            "type": "histogram2d"
           }
          ],
          "histogram2dcontour": [
           {
            "colorbar": {
             "outlinewidth": 0,
             "ticks": ""
            },
            "colorscale": [
             [
              0,
              "#0d0887"
             ],
             [
              0.1111111111111111,
              "#46039f"
             ],
             [
              0.2222222222222222,
              "#7201a8"
             ],
             [
              0.3333333333333333,
              "#9c179e"
             ],
             [
              0.4444444444444444,
              "#bd3786"
             ],
             [
              0.5555555555555556,
              "#d8576b"
             ],
             [
              0.6666666666666666,
              "#ed7953"
             ],
             [
              0.7777777777777778,
              "#fb9f3a"
             ],
             [
              0.8888888888888888,
              "#fdca26"
             ],
             [
              1,
              "#f0f921"
             ]
            ],
            "type": "histogram2dcontour"
           }
          ],
          "mesh3d": [
           {
            "colorbar": {
             "outlinewidth": 0,
             "ticks": ""
            },
            "type": "mesh3d"
           }
          ],
          "parcoords": [
           {
            "line": {
             "colorbar": {
              "outlinewidth": 0,
              "ticks": ""
             }
            },
            "type": "parcoords"
           }
          ],
          "pie": [
           {
            "automargin": true,
            "type": "pie"
           }
          ],
          "scatter": [
           {
            "marker": {
             "colorbar": {
              "outlinewidth": 0,
              "ticks": ""
             }
            },
            "type": "scatter"
           }
          ],
          "scatter3d": [
           {
            "line": {
             "colorbar": {
              "outlinewidth": 0,
              "ticks": ""
             }
            },
            "marker": {
             "colorbar": {
              "outlinewidth": 0,
              "ticks": ""
             }
            },
            "type": "scatter3d"
           }
          ],
          "scattercarpet": [
           {
            "marker": {
             "colorbar": {
              "outlinewidth": 0,
              "ticks": ""
             }
            },
            "type": "scattercarpet"
           }
          ],
          "scattergeo": [
           {
            "marker": {
             "colorbar": {
              "outlinewidth": 0,
              "ticks": ""
             }
            },
            "type": "scattergeo"
           }
          ],
          "scattergl": [
           {
            "marker": {
             "colorbar": {
              "outlinewidth": 0,
              "ticks": ""
             }
            },
            "type": "scattergl"
           }
          ],
          "scattermapbox": [
           {
            "marker": {
             "colorbar": {
              "outlinewidth": 0,
              "ticks": ""
             }
            },
            "type": "scattermapbox"
           }
          ],
          "scatterpolar": [
           {
            "marker": {
             "colorbar": {
              "outlinewidth": 0,
              "ticks": ""
             }
            },
            "type": "scatterpolar"
           }
          ],
          "scatterpolargl": [
           {
            "marker": {
             "colorbar": {
              "outlinewidth": 0,
              "ticks": ""
             }
            },
            "type": "scatterpolargl"
           }
          ],
          "scatterternary": [
           {
            "marker": {
             "colorbar": {
              "outlinewidth": 0,
              "ticks": ""
             }
            },
            "type": "scatterternary"
           }
          ],
          "surface": [
           {
            "colorbar": {
             "outlinewidth": 0,
             "ticks": ""
            },
            "colorscale": [
             [
              0,
              "#0d0887"
             ],
             [
              0.1111111111111111,
              "#46039f"
             ],
             [
              0.2222222222222222,
              "#7201a8"
             ],
             [
              0.3333333333333333,
              "#9c179e"
             ],
             [
              0.4444444444444444,
              "#bd3786"
             ],
             [
              0.5555555555555556,
              "#d8576b"
             ],
             [
              0.6666666666666666,
              "#ed7953"
             ],
             [
              0.7777777777777778,
              "#fb9f3a"
             ],
             [
              0.8888888888888888,
              "#fdca26"
             ],
             [
              1,
              "#f0f921"
             ]
            ],
            "type": "surface"
           }
          ],
          "table": [
           {
            "cells": {
             "fill": {
              "color": "#EBF0F8"
             },
             "line": {
              "color": "white"
             }
            },
            "header": {
             "fill": {
              "color": "#C8D4E3"
             },
             "line": {
              "color": "white"
             }
            },
            "type": "table"
           }
          ]
         },
         "layout": {
          "annotationdefaults": {
           "arrowcolor": "#2a3f5f",
           "arrowhead": 0,
           "arrowwidth": 1
          },
          "autotypenumbers": "strict",
          "coloraxis": {
           "colorbar": {
            "outlinewidth": 0,
            "ticks": ""
           }
          },
          "colorscale": {
           "diverging": [
            [
             0,
             "#8e0152"
            ],
            [
             0.1,
             "#c51b7d"
            ],
            [
             0.2,
             "#de77ae"
            ],
            [
             0.3,
             "#f1b6da"
            ],
            [
             0.4,
             "#fde0ef"
            ],
            [
             0.5,
             "#f7f7f7"
            ],
            [
             0.6,
             "#e6f5d0"
            ],
            [
             0.7,
             "#b8e186"
            ],
            [
             0.8,
             "#7fbc41"
            ],
            [
             0.9,
             "#4d9221"
            ],
            [
             1,
             "#276419"
            ]
           ],
           "sequential": [
            [
             0,
             "#0d0887"
            ],
            [
             0.1111111111111111,
             "#46039f"
            ],
            [
             0.2222222222222222,
             "#7201a8"
            ],
            [
             0.3333333333333333,
             "#9c179e"
            ],
            [
             0.4444444444444444,
             "#bd3786"
            ],
            [
             0.5555555555555556,
             "#d8576b"
            ],
            [
             0.6666666666666666,
             "#ed7953"
            ],
            [
             0.7777777777777778,
             "#fb9f3a"
            ],
            [
             0.8888888888888888,
             "#fdca26"
            ],
            [
             1,
             "#f0f921"
            ]
           ],
           "sequentialminus": [
            [
             0,
             "#0d0887"
            ],
            [
             0.1111111111111111,
             "#46039f"
            ],
            [
             0.2222222222222222,
             "#7201a8"
            ],
            [
             0.3333333333333333,
             "#9c179e"
            ],
            [
             0.4444444444444444,
             "#bd3786"
            ],
            [
             0.5555555555555556,
             "#d8576b"
            ],
            [
             0.6666666666666666,
             "#ed7953"
            ],
            [
             0.7777777777777778,
             "#fb9f3a"
            ],
            [
             0.8888888888888888,
             "#fdca26"
            ],
            [
             1,
             "#f0f921"
            ]
           ]
          },
          "colorway": [
           "#636efa",
           "#EF553B",
           "#00cc96",
           "#ab63fa",
           "#FFA15A",
           "#19d3f3",
           "#FF6692",
           "#B6E880",
           "#FF97FF",
           "#FECB52"
          ],
          "font": {
           "color": "#2a3f5f"
          },
          "geo": {
           "bgcolor": "white",
           "lakecolor": "white",
           "landcolor": "#E5ECF6",
           "showlakes": true,
           "showland": true,
           "subunitcolor": "white"
          },
          "hoverlabel": {
           "align": "left"
          },
          "hovermode": "closest",
          "mapbox": {
           "style": "light"
          },
          "paper_bgcolor": "white",
          "plot_bgcolor": "#E5ECF6",
          "polar": {
           "angularaxis": {
            "gridcolor": "white",
            "linecolor": "white",
            "ticks": ""
           },
           "bgcolor": "#E5ECF6",
           "radialaxis": {
            "gridcolor": "white",
            "linecolor": "white",
            "ticks": ""
           }
          },
          "scene": {
           "xaxis": {
            "backgroundcolor": "#E5ECF6",
            "gridcolor": "white",
            "gridwidth": 2,
            "linecolor": "white",
            "showbackground": true,
            "ticks": "",
            "zerolinecolor": "white"
           },
           "yaxis": {
            "backgroundcolor": "#E5ECF6",
            "gridcolor": "white",
            "gridwidth": 2,
            "linecolor": "white",
            "showbackground": true,
            "ticks": "",
            "zerolinecolor": "white"
           },
           "zaxis": {
            "backgroundcolor": "#E5ECF6",
            "gridcolor": "white",
            "gridwidth": 2,
            "linecolor": "white",
            "showbackground": true,
            "ticks": "",
            "zerolinecolor": "white"
           }
          },
          "shapedefaults": {
           "line": {
            "color": "#2a3f5f"
           }
          },
          "ternary": {
           "aaxis": {
            "gridcolor": "white",
            "linecolor": "white",
            "ticks": ""
           },
           "baxis": {
            "gridcolor": "white",
            "linecolor": "white",
            "ticks": ""
           },
           "bgcolor": "#E5ECF6",
           "caxis": {
            "gridcolor": "white",
            "linecolor": "white",
            "ticks": ""
           }
          },
          "title": {
           "x": 0.05
          },
          "xaxis": {
           "automargin": true,
           "gridcolor": "white",
           "linecolor": "white",
           "ticks": "",
           "title": {
            "standoff": 15
           },
           "zerolinecolor": "white",
           "zerolinewidth": 2
          },
          "yaxis": {
           "automargin": true,
           "gridcolor": "white",
           "linecolor": "white",
           "ticks": "",
           "title": {
            "standoff": 15
           },
           "zerolinecolor": "white",
           "zerolinewidth": 2
          }
         }
        },
        "width": 1000,
        "xaxis": {
         "anchor": "y",
         "domain": [
          0,
          1
         ],
         "linecolor": "black",
         "linewidth": 1.5,
         "mirror": true,
         "range": [
          0,
          410
         ],
         "showgrid": false,
         "showline": true,
         "tickfont": {
          "size": 20
         },
         "ticks": "outside",
         "title": {
          "font": {
           "size": 24
          },
          "text": "Trial"
         }
        },
        "yaxis": {
         "anchor": "x",
         "domain": [
          0,
          1
         ],
         "linecolor": "black",
         "linewidth": 1.5,
         "mirror": true,
         "range": [
          0.5,
          1
         ],
         "showgrid": false,
         "showline": true,
         "tickfont": {
          "size": 20
         },
         "ticks": "outside",
         "title": {
          "font": {
           "size": 24
          },
          "text": "Accuracy"
         }
        }
       }
      }
     },
     "metadata": {},
     "output_type": "display_data"
    }
   ],
   "source": [
    "# Train data\n",
    "plot_data = pd.DataFrame(performance_data)\n",
    "plot_data = plot_data[plot_data.pathway=='Combined']\n",
    "plot_data = plot_data.groupby(['trial','paradigm']).agg(**{'accuracy':('accuracy','mean'),'error':('accuracy','sem')}).reset_index()\n",
    "plot_data = plot_data[plot_data.trial%50==0]\n",
    "plot_data = plot_data[(plot_data.trial>0)&(plot_data.trial<401)]\n",
    "\n",
    "# Split blocked data into two to remove line between the blocks, following Flesch et al., 2018\n",
    "plot_data.loc[(plot_data.paradigm=='Blocked')&(plot_data.trial>200),'paradigm'] = 'Blocked2'\n",
    "\n",
    "# Create the line plot\n",
    "plot_data['Accuracy'] = plot_data['accuracy']\n",
    "plot_data['Trial'] = plot_data['trial']\n",
    "fig = px.line(plot_data,x='Trial',y='Accuracy',color='paradigm',error_y='error',markers=True,range_y=[.5,1],range_x=[0,410])\n",
    "fig = utils.format_figure(fig,width=1000,height=500,showlegend=False)\n",
    "fig = utils.change_figure_colors(fig,['#95DFCD','#D985CB','#95DFCD'])\n",
    "fig.update_traces(line=dict(width=4),marker=dict(size=10))\n",
    "fig.show()\n",
    "\n",
    "# Test data\n",
    "plot_data = pd.DataFrame(performance_data)\n",
    "plot_data = plot_data[plot_data.pathway=='Combined']\n",
    "plot_data = plot_data[plot_data.trial>400].groupby(['seed','paradigm']).mean().reset_index()\n",
    "display(pg.pairwise_tests(plot_data,dv='accuracy',between='paradigm'))\n",
    "plot_data = plot_data.groupby(['paradigm']).agg(**{'accuracy':('accuracy','mean'),'error':('accuracy','sem')}).reset_index()\n",
    "plot_data['Accuracy'] = plot_data['accuracy']\n",
    "plot_data['Training Type'] = plot_data['paradigm']\n",
    "fig = px.bar(plot_data,x='Training Type',color='Training Type',y='Accuracy',error_y='error',range_y=[.5,1])\n",
    "fig = utils.format_figure(fig,width=500,height=500,showlegend=False)\n",
    "fig = utils.change_figure_colors(fig,['#95DFCD','#D985CB'])\n",
    "fig.update_yaxes(title=None,showticklabels=False,tickmode='array',tickvals=[])\n",
    "fig.show()\n",
    "\n",
    "# EM vs SM data\n",
    "plot_data = pd.DataFrame(performance_data)\n",
    "plot_data = plot_data[plot_data.pathway!='Combined']\n",
    "plot_data = plot_data.groupby(['trial','paradigm','pathway']).agg(**{'accuracy':('accuracy','mean'),'error':('accuracy','std')}).reset_index()\n",
    "plot_data['error'] /= np.sqrt(params.n_participants)\n",
    "plot_data = plot_data[plot_data.trial%50==0]\n",
    "plot_data = plot_data[(plot_data.trial>0)&(plot_data.trial<401)]\n",
    "\n",
    "# Split blocked data into two to remove line between the blocks, following Flesch et al., 2018\n",
    "plot_data.loc[(plot_data.paradigm=='Blocked')&(plot_data.trial>200),'paradigm'] = 'Blocked2'\n",
    "\n",
    "# Create the line plot\n",
    "plot_data['Accuracy'] = plot_data['accuracy']\n",
    "plot_data['Trial'] = plot_data['trial']\n",
    "fig = px.line(plot_data,x='Trial',y='Accuracy',color='paradigm',line_dash='pathway',error_y='error',markers=True,range_y=[.5,1],range_x=[0,410])\n",
    "fig = utils.format_figure(fig,width=1000,height=500,showlegend=False)\n",
    "fig = utils.change_figure_colors(fig,['#95DFCD','#95DFCD','#D985CB','#D985CB','#95DFCD','#95DFCD'])\n",
    "fig.update_traces(line=dict(width=4),marker=dict(size=10))\n",
    "fig.show()"
   ]
  },
  {
   "cell_type": "markdown",
   "metadata": {},
   "source": [
    "## Human Results"
   ]
  },
  {
   "cell_type": "code",
   "execution_count": 5,
   "metadata": {},
   "outputs": [
    {
     "data": {
      "text/plain": [
       "'\\n\\n@Declan to replicate above plots for behavioral results from Flesch et al., 2018\\n\\n'"
      ]
     },
     "execution_count": 5,
     "metadata": {},
     "output_type": "execute_result"
    }
   ],
   "source": [
    "\"\"\"\n",
    "\n",
    "@Declan to replicate above plots for behavioral results from Flesch et al., 2018\n",
    "\n",
    "\"\"\""
   ]
  },
  {
   "cell_type": "markdown",
   "metadata": {},
   "source": [
    "# Analyze semantic representations"
   ]
  },
  {
   "cell_type": "code",
   "execution_count": 7,
   "metadata": {},
   "outputs": [
    {
     "data": {
      "text/html": [
       "<div>\n",
       "<style scoped>\n",
       "    .dataframe tbody tr th:only-of-type {\n",
       "        vertical-align: middle;\n",
       "    }\n",
       "\n",
       "    .dataframe tbody tr th {\n",
       "        vertical-align: top;\n",
       "    }\n",
       "\n",
       "    .dataframe thead th {\n",
       "        text-align: right;\n",
       "    }\n",
       "</style>\n",
       "<table border=\"1\" class=\"dataframe\">\n",
       "  <thead>\n",
       "    <tr style=\"text-align: right;\">\n",
       "      <th></th>\n",
       "      <th>Contrast</th>\n",
       "      <th>Representation Type</th>\n",
       "      <th>A</th>\n",
       "      <th>B</th>\n",
       "      <th>Paired</th>\n",
       "      <th>Parametric</th>\n",
       "      <th>U-val</th>\n",
       "      <th>alternative</th>\n",
       "      <th>p-unc</th>\n",
       "      <th>hedges</th>\n",
       "    </tr>\n",
       "  </thead>\n",
       "  <tbody>\n",
       "    <tr>\n",
       "      <th>0</th>\n",
       "      <td>Representation Type</td>\n",
       "      <td>-</td>\n",
       "      <td>Separate</td>\n",
       "      <td>Shared</td>\n",
       "      <td>False</td>\n",
       "      <td>False</td>\n",
       "      <td>651.0</td>\n",
       "      <td>two-sided</td>\n",
       "      <td>0.153021</td>\n",
       "      <td>-0.258082</td>\n",
       "    </tr>\n",
       "    <tr>\n",
       "      <th>1</th>\n",
       "      <td>paradigm</td>\n",
       "      <td>-</td>\n",
       "      <td>Blocked</td>\n",
       "      <td>Interleaved</td>\n",
       "      <td>False</td>\n",
       "      <td>False</td>\n",
       "      <td>851.0</td>\n",
       "      <td>two-sided</td>\n",
       "      <td>0.627012</td>\n",
       "      <td>0.244770</td>\n",
       "    </tr>\n",
       "    <tr>\n",
       "      <th>2</th>\n",
       "      <td>Representation Type * paradigm</td>\n",
       "      <td>Separate</td>\n",
       "      <td>Blocked</td>\n",
       "      <td>Interleaved</td>\n",
       "      <td>False</td>\n",
       "      <td>False</td>\n",
       "      <td>305.0</td>\n",
       "      <td>two-sided</td>\n",
       "      <td>0.004703</td>\n",
       "      <td>1.035028</td>\n",
       "    </tr>\n",
       "    <tr>\n",
       "      <th>3</th>\n",
       "      <td>Representation Type * paradigm</td>\n",
       "      <td>Shared</td>\n",
       "      <td>Blocked</td>\n",
       "      <td>Interleaved</td>\n",
       "      <td>False</td>\n",
       "      <td>False</td>\n",
       "      <td>96.0</td>\n",
       "      <td>two-sided</td>\n",
       "      <td>0.005115</td>\n",
       "      <td>-0.609967</td>\n",
       "    </tr>\n",
       "  </tbody>\n",
       "</table>\n",
       "</div>"
      ],
      "text/plain": [
       "                         Contrast Representation Type         A            B  \\\n",
       "0             Representation Type                   -  Separate       Shared   \n",
       "1                        paradigm                   -   Blocked  Interleaved   \n",
       "2  Representation Type * paradigm            Separate   Blocked  Interleaved   \n",
       "3  Representation Type * paradigm              Shared   Blocked  Interleaved   \n",
       "\n",
       "  Paired  Parametric  U-val alternative     p-unc    hedges  \n",
       "0  False       False  651.0   two-sided  0.153021 -0.258082  \n",
       "1  False       False  851.0   two-sided  0.627012  0.244770  \n",
       "2  False       False  305.0   two-sided  0.004703  1.035028  \n",
       "3  False       False   96.0   two-sided  0.005115 -0.609967  "
      ]
     },
     "metadata": {},
     "output_type": "display_data"
    },
    {
     "data": {
      "application/vnd.plotly.v1+json": {
       "config": {
        "plotlyServerURL": "https://plot.ly"
       },
       "data": [
        {
         "alignmentgroup": "True",
         "error_y": {
          "array": [
           0.04287190368964171,
           0.027748999443014517
          ]
         },
         "hovertemplate": "paradigm=Blocked<br>Representation Type=%{x}<br>Correlation=%{y}<extra></extra>",
         "legendgroup": "Blocked",
         "marker": {
          "color": "#95DFCD",
          "pattern": {
           "shape": ""
          }
         },
         "name": "Blocked",
         "offsetgroup": "Blocked",
         "orientation": "v",
         "showlegend": true,
         "textposition": "auto",
         "type": "bar",
         "x": [
          "Separate",
          "Shared"
         ],
         "xaxis": "x",
         "y": [
          0.5939230680965685,
          0.49301456850327374
         ],
         "yaxis": "y"
        },
        {
         "alignmentgroup": "True",
         "error_y": {
          "array": [
           0.04132896705176118,
           0.04465118887444921
          ]
         },
         "hovertemplate": "paradigm=Interleaved<br>Representation Type=%{x}<br>Correlation=%{y}<extra></extra>",
         "legendgroup": "Interleaved",
         "marker": {
          "color": "#D985CB",
          "pattern": {
           "shape": ""
          }
         },
         "name": "Interleaved",
         "offsetgroup": "Interleaved",
         "orientation": "v",
         "showlegend": true,
         "textposition": "auto",
         "type": "bar",
         "x": [
          "Separate",
          "Shared"
         ],
         "xaxis": "x",
         "y": [
          0.395065551884086,
          0.5964739925669602
         ],
         "yaxis": "y"
        }
       ],
       "layout": {
        "barmode": "group",
        "height": 500,
        "legend": {
         "title": {
          "text": "paradigm"
         },
         "tracegroupgap": 0
        },
        "margin": {
         "t": 60
        },
        "plot_bgcolor": "white",
        "template": {
         "data": {
          "bar": [
           {
            "error_x": {
             "color": "#2a3f5f"
            },
            "error_y": {
             "color": "#2a3f5f"
            },
            "marker": {
             "line": {
              "color": "#E5ECF6",
              "width": 0.5
             },
             "pattern": {
              "fillmode": "overlay",
              "size": 10,
              "solidity": 0.2
             }
            },
            "type": "bar"
           }
          ],
          "barpolar": [
           {
            "marker": {
             "line": {
              "color": "#E5ECF6",
              "width": 0.5
             },
             "pattern": {
              "fillmode": "overlay",
              "size": 10,
              "solidity": 0.2
             }
            },
            "type": "barpolar"
           }
          ],
          "carpet": [
           {
            "aaxis": {
             "endlinecolor": "#2a3f5f",
             "gridcolor": "white",
             "linecolor": "white",
             "minorgridcolor": "white",
             "startlinecolor": "#2a3f5f"
            },
            "baxis": {
             "endlinecolor": "#2a3f5f",
             "gridcolor": "white",
             "linecolor": "white",
             "minorgridcolor": "white",
             "startlinecolor": "#2a3f5f"
            },
            "type": "carpet"
           }
          ],
          "choropleth": [
           {
            "colorbar": {
             "outlinewidth": 0,
             "ticks": ""
            },
            "type": "choropleth"
           }
          ],
          "contour": [
           {
            "colorbar": {
             "outlinewidth": 0,
             "ticks": ""
            },
            "colorscale": [
             [
              0,
              "#0d0887"
             ],
             [
              0.1111111111111111,
              "#46039f"
             ],
             [
              0.2222222222222222,
              "#7201a8"
             ],
             [
              0.3333333333333333,
              "#9c179e"
             ],
             [
              0.4444444444444444,
              "#bd3786"
             ],
             [
              0.5555555555555556,
              "#d8576b"
             ],
             [
              0.6666666666666666,
              "#ed7953"
             ],
             [
              0.7777777777777778,
              "#fb9f3a"
             ],
             [
              0.8888888888888888,
              "#fdca26"
             ],
             [
              1,
              "#f0f921"
             ]
            ],
            "type": "contour"
           }
          ],
          "contourcarpet": [
           {
            "colorbar": {
             "outlinewidth": 0,
             "ticks": ""
            },
            "type": "contourcarpet"
           }
          ],
          "heatmap": [
           {
            "colorbar": {
             "outlinewidth": 0,
             "ticks": ""
            },
            "colorscale": [
             [
              0,
              "#0d0887"
             ],
             [
              0.1111111111111111,
              "#46039f"
             ],
             [
              0.2222222222222222,
              "#7201a8"
             ],
             [
              0.3333333333333333,
              "#9c179e"
             ],
             [
              0.4444444444444444,
              "#bd3786"
             ],
             [
              0.5555555555555556,
              "#d8576b"
             ],
             [
              0.6666666666666666,
              "#ed7953"
             ],
             [
              0.7777777777777778,
              "#fb9f3a"
             ],
             [
              0.8888888888888888,
              "#fdca26"
             ],
             [
              1,
              "#f0f921"
             ]
            ],
            "type": "heatmap"
           }
          ],
          "heatmapgl": [
           {
            "colorbar": {
             "outlinewidth": 0,
             "ticks": ""
            },
            "colorscale": [
             [
              0,
              "#0d0887"
             ],
             [
              0.1111111111111111,
              "#46039f"
             ],
             [
              0.2222222222222222,
              "#7201a8"
             ],
             [
              0.3333333333333333,
              "#9c179e"
             ],
             [
              0.4444444444444444,
              "#bd3786"
             ],
             [
              0.5555555555555556,
              "#d8576b"
             ],
             [
              0.6666666666666666,
              "#ed7953"
             ],
             [
              0.7777777777777778,
              "#fb9f3a"
             ],
             [
              0.8888888888888888,
              "#fdca26"
             ],
             [
              1,
              "#f0f921"
             ]
            ],
            "type": "heatmapgl"
           }
          ],
          "histogram": [
           {
            "marker": {
             "pattern": {
              "fillmode": "overlay",
              "size": 10,
              "solidity": 0.2
             }
            },
            "type": "histogram"
           }
          ],
          "histogram2d": [
           {
            "colorbar": {
             "outlinewidth": 0,
             "ticks": ""
            },
            "colorscale": [
             [
              0,
              "#0d0887"
             ],
             [
              0.1111111111111111,
              "#46039f"
             ],
             [
              0.2222222222222222,
              "#7201a8"
             ],
             [
              0.3333333333333333,
              "#9c179e"
             ],
             [
              0.4444444444444444,
              "#bd3786"
             ],
             [
              0.5555555555555556,
              "#d8576b"
             ],
             [
              0.6666666666666666,
              "#ed7953"
             ],
             [
              0.7777777777777778,
              "#fb9f3a"
             ],
             [
              0.8888888888888888,
              "#fdca26"
             ],
             [
              1,
              "#f0f921"
             ]
            ],
            "type": "histogram2d"
           }
          ],
          "histogram2dcontour": [
           {
            "colorbar": {
             "outlinewidth": 0,
             "ticks": ""
            },
            "colorscale": [
             [
              0,
              "#0d0887"
             ],
             [
              0.1111111111111111,
              "#46039f"
             ],
             [
              0.2222222222222222,
              "#7201a8"
             ],
             [
              0.3333333333333333,
              "#9c179e"
             ],
             [
              0.4444444444444444,
              "#bd3786"
             ],
             [
              0.5555555555555556,
              "#d8576b"
             ],
             [
              0.6666666666666666,
              "#ed7953"
             ],
             [
              0.7777777777777778,
              "#fb9f3a"
             ],
             [
              0.8888888888888888,
              "#fdca26"
             ],
             [
              1,
              "#f0f921"
             ]
            ],
            "type": "histogram2dcontour"
           }
          ],
          "mesh3d": [
           {
            "colorbar": {
             "outlinewidth": 0,
             "ticks": ""
            },
            "type": "mesh3d"
           }
          ],
          "parcoords": [
           {
            "line": {
             "colorbar": {
              "outlinewidth": 0,
              "ticks": ""
             }
            },
            "type": "parcoords"
           }
          ],
          "pie": [
           {
            "automargin": true,
            "type": "pie"
           }
          ],
          "scatter": [
           {
            "marker": {
             "colorbar": {
              "outlinewidth": 0,
              "ticks": ""
             }
            },
            "type": "scatter"
           }
          ],
          "scatter3d": [
           {
            "line": {
             "colorbar": {
              "outlinewidth": 0,
              "ticks": ""
             }
            },
            "marker": {
             "colorbar": {
              "outlinewidth": 0,
              "ticks": ""
             }
            },
            "type": "scatter3d"
           }
          ],
          "scattercarpet": [
           {
            "marker": {
             "colorbar": {
              "outlinewidth": 0,
              "ticks": ""
             }
            },
            "type": "scattercarpet"
           }
          ],
          "scattergeo": [
           {
            "marker": {
             "colorbar": {
              "outlinewidth": 0,
              "ticks": ""
             }
            },
            "type": "scattergeo"
           }
          ],
          "scattergl": [
           {
            "marker": {
             "colorbar": {
              "outlinewidth": 0,
              "ticks": ""
             }
            },
            "type": "scattergl"
           }
          ],
          "scattermapbox": [
           {
            "marker": {
             "colorbar": {
              "outlinewidth": 0,
              "ticks": ""
             }
            },
            "type": "scattermapbox"
           }
          ],
          "scatterpolar": [
           {
            "marker": {
             "colorbar": {
              "outlinewidth": 0,
              "ticks": ""
             }
            },
            "type": "scatterpolar"
           }
          ],
          "scatterpolargl": [
           {
            "marker": {
             "colorbar": {
              "outlinewidth": 0,
              "ticks": ""
             }
            },
            "type": "scatterpolargl"
           }
          ],
          "scatterternary": [
           {
            "marker": {
             "colorbar": {
              "outlinewidth": 0,
              "ticks": ""
             }
            },
            "type": "scatterternary"
           }
          ],
          "surface": [
           {
            "colorbar": {
             "outlinewidth": 0,
             "ticks": ""
            },
            "colorscale": [
             [
              0,
              "#0d0887"
             ],
             [
              0.1111111111111111,
              "#46039f"
             ],
             [
              0.2222222222222222,
              "#7201a8"
             ],
             [
              0.3333333333333333,
              "#9c179e"
             ],
             [
              0.4444444444444444,
              "#bd3786"
             ],
             [
              0.5555555555555556,
              "#d8576b"
             ],
             [
              0.6666666666666666,
              "#ed7953"
             ],
             [
              0.7777777777777778,
              "#fb9f3a"
             ],
             [
              0.8888888888888888,
              "#fdca26"
             ],
             [
              1,
              "#f0f921"
             ]
            ],
            "type": "surface"
           }
          ],
          "table": [
           {
            "cells": {
             "fill": {
              "color": "#EBF0F8"
             },
             "line": {
              "color": "white"
             }
            },
            "header": {
             "fill": {
              "color": "#C8D4E3"
             },
             "line": {
              "color": "white"
             }
            },
            "type": "table"
           }
          ]
         },
         "layout": {
          "annotationdefaults": {
           "arrowcolor": "#2a3f5f",
           "arrowhead": 0,
           "arrowwidth": 1
          },
          "autotypenumbers": "strict",
          "coloraxis": {
           "colorbar": {
            "outlinewidth": 0,
            "ticks": ""
           }
          },
          "colorscale": {
           "diverging": [
            [
             0,
             "#8e0152"
            ],
            [
             0.1,
             "#c51b7d"
            ],
            [
             0.2,
             "#de77ae"
            ],
            [
             0.3,
             "#f1b6da"
            ],
            [
             0.4,
             "#fde0ef"
            ],
            [
             0.5,
             "#f7f7f7"
            ],
            [
             0.6,
             "#e6f5d0"
            ],
            [
             0.7,
             "#b8e186"
            ],
            [
             0.8,
             "#7fbc41"
            ],
            [
             0.9,
             "#4d9221"
            ],
            [
             1,
             "#276419"
            ]
           ],
           "sequential": [
            [
             0,
             "#0d0887"
            ],
            [
             0.1111111111111111,
             "#46039f"
            ],
            [
             0.2222222222222222,
             "#7201a8"
            ],
            [
             0.3333333333333333,
             "#9c179e"
            ],
            [
             0.4444444444444444,
             "#bd3786"
            ],
            [
             0.5555555555555556,
             "#d8576b"
            ],
            [
             0.6666666666666666,
             "#ed7953"
            ],
            [
             0.7777777777777778,
             "#fb9f3a"
            ],
            [
             0.8888888888888888,
             "#fdca26"
            ],
            [
             1,
             "#f0f921"
            ]
           ],
           "sequentialminus": [
            [
             0,
             "#0d0887"
            ],
            [
             0.1111111111111111,
             "#46039f"
            ],
            [
             0.2222222222222222,
             "#7201a8"
            ],
            [
             0.3333333333333333,
             "#9c179e"
            ],
            [
             0.4444444444444444,
             "#bd3786"
            ],
            [
             0.5555555555555556,
             "#d8576b"
            ],
            [
             0.6666666666666666,
             "#ed7953"
            ],
            [
             0.7777777777777778,
             "#fb9f3a"
            ],
            [
             0.8888888888888888,
             "#fdca26"
            ],
            [
             1,
             "#f0f921"
            ]
           ]
          },
          "colorway": [
           "#636efa",
           "#EF553B",
           "#00cc96",
           "#ab63fa",
           "#FFA15A",
           "#19d3f3",
           "#FF6692",
           "#B6E880",
           "#FF97FF",
           "#FECB52"
          ],
          "font": {
           "color": "#2a3f5f"
          },
          "geo": {
           "bgcolor": "white",
           "lakecolor": "white",
           "landcolor": "#E5ECF6",
           "showlakes": true,
           "showland": true,
           "subunitcolor": "white"
          },
          "hoverlabel": {
           "align": "left"
          },
          "hovermode": "closest",
          "mapbox": {
           "style": "light"
          },
          "paper_bgcolor": "white",
          "plot_bgcolor": "#E5ECF6",
          "polar": {
           "angularaxis": {
            "gridcolor": "white",
            "linecolor": "white",
            "ticks": ""
           },
           "bgcolor": "#E5ECF6",
           "radialaxis": {
            "gridcolor": "white",
            "linecolor": "white",
            "ticks": ""
           }
          },
          "scene": {
           "xaxis": {
            "backgroundcolor": "#E5ECF6",
            "gridcolor": "white",
            "gridwidth": 2,
            "linecolor": "white",
            "showbackground": true,
            "ticks": "",
            "zerolinecolor": "white"
           },
           "yaxis": {
            "backgroundcolor": "#E5ECF6",
            "gridcolor": "white",
            "gridwidth": 2,
            "linecolor": "white",
            "showbackground": true,
            "ticks": "",
            "zerolinecolor": "white"
           },
           "zaxis": {
            "backgroundcolor": "#E5ECF6",
            "gridcolor": "white",
            "gridwidth": 2,
            "linecolor": "white",
            "showbackground": true,
            "ticks": "",
            "zerolinecolor": "white"
           }
          },
          "shapedefaults": {
           "line": {
            "color": "#2a3f5f"
           }
          },
          "ternary": {
           "aaxis": {
            "gridcolor": "white",
            "linecolor": "white",
            "ticks": ""
           },
           "baxis": {
            "gridcolor": "white",
            "linecolor": "white",
            "ticks": ""
           },
           "bgcolor": "#E5ECF6",
           "caxis": {
            "gridcolor": "white",
            "linecolor": "white",
            "ticks": ""
           }
          },
          "title": {
           "x": 0.05
          },
          "xaxis": {
           "automargin": true,
           "gridcolor": "white",
           "linecolor": "white",
           "ticks": "",
           "title": {
            "standoff": 15
           },
           "zerolinecolor": "white",
           "zerolinewidth": 2
          },
          "yaxis": {
           "automargin": true,
           "gridcolor": "white",
           "linecolor": "white",
           "ticks": "",
           "title": {
            "standoff": 15
           },
           "zerolinecolor": "white",
           "zerolinewidth": 2
          }
         }
        },
        "width": 1000,
        "xaxis": {
         "anchor": "y",
         "domain": [
          0,
          1
         ],
         "linecolor": "black",
         "linewidth": 1.5,
         "mirror": true,
         "showgrid": false,
         "showline": true,
         "tickfont": {
          "size": 20
         },
         "ticks": "outside",
         "title": {
          "font": {
           "size": 24
          },
          "text": "Representation Type"
         }
        },
        "yaxis": {
         "anchor": "x",
         "domain": [
          0,
          1
         ],
         "linecolor": "black",
         "linewidth": 1.5,
         "mirror": true,
         "range": [
          0,
          1
         ],
         "showgrid": false,
         "showline": true,
         "tickfont": {
          "size": 20
         },
         "ticks": "outside",
         "title": {
          "font": {
           "size": 24
          },
          "text": "Correlation"
         }
        }
       }
      }
     },
     "metadata": {},
     "output_type": "display_data"
    }
   ],
   "source": [
    "xs = torch.tensor(np.load('data/exp3_reps.npy')).float()\n",
    "separate_sim = experiment3.get_template_rdm('separate')\n",
    "shared_sim = experiment3.get_template_rdm('shared')\n",
    "\n",
    "rdms = []\n",
    "corr_data = []\n",
    "for row_idx,row in enumerate(model_data):\n",
    "    embedding = experiment3.get_embedding(row,xs)\n",
    "    rdms.append(-cosine_similarity(embedding))\n",
    "    embedding_sim = cosine_similarity(embedding)[np.triu_indices(len(embedding),k=1)]\n",
    "    separate_corr = pearsonr(separate_sim,embedding_sim)[0]\n",
    "    shared_corr = pearsonr(shared_sim,embedding_sim)[0]\n",
    "    corr_data.append({'paradigm':row['paradigm'],'Correlation':separate_corr,'Representation Type':'Separate','seed':row['seed']})\n",
    "    corr_data.append({'paradigm':row['paradigm'],'Correlation':shared_corr,'Representation Type':'Shared','seed':row['seed']})\n",
    "corr_data = pd.DataFrame(corr_data)\n",
    "display(pg.pairwise_ttests(corr_data,dv='Correlation',between=['Representation Type','paradigm'],parametric=False))\n",
    "corr_data = corr_data.groupby(['paradigm','Representation Type']).agg(**{'Correlation':('Correlation','mean'),\n",
    "                                                                        'error':('Correlation','sem')}).reset_index()\n",
    "fig = px.bar(corr_data,x='Representation Type',y='Correlation',error_y='error',color='paradigm',barmode='group',range_y=[0,1])\n",
    "fig = utils.format_figure(fig,width=1000,height=500)\n",
    "fig = utils.change_figure_colors(fig,['#95DFCD','#D985CB'])\n",
    "fig.show()"
   ]
  },
  {
   "cell_type": "code",
   "execution_count": 9,
   "metadata": {},
   "outputs": [
    {
     "data": {
      "application/vnd.plotly.v1+json": {
       "config": {
        "plotlyServerURL": "https://plot.ly"
       },
       "data": [
        {
         "hovertemplate": "symbol=0<br>0=%{x}<br>2=%{y}<br>size=%{marker.size}<br>color=%{marker.color}<extra></extra>",
         "legendgroup": "0",
         "marker": {
          "color": [
           1,
           2,
           3,
           4,
           5,
           1,
           2,
           3,
           4,
           5,
           1,
           2,
           3,
           4,
           5,
           1,
           2,
           3,
           4,
           5,
           1,
           2,
           3,
           4,
           5
          ],
          "coloraxis": "coloraxis",
          "size": [
           1,
           1,
           1,
           1,
           1,
           2,
           2,
           2,
           2,
           2,
           3,
           3,
           3,
           3,
           3,
           4,
           4,
           4,
           4,
           4,
           5,
           5,
           5,
           5,
           5
          ],
          "sizemode": "area",
          "sizeref": 0.0125,
          "symbol": "circle"
         },
         "mode": "markers",
         "name": "0",
         "orientation": "v",
         "showlegend": true,
         "type": "scatter",
         "x": [
          -1.2392969313279258,
          -1.3181614638609949,
          -1.3245087764578574,
          -1.2645986219587804,
          -1.2386575927252306,
          -0.8426129997393588,
          -1.019108135979046,
          -1.066939032267645,
          -1.0102530253320423,
          -1.008875003286632,
          -0.4296896997885117,
          -0.6275711022582762,
          -0.7114311912697484,
          -0.6966629955613414,
          -0.7144164323366942,
          0.2107297387013256,
          -0.0020162464811127045,
          -0.12660964406003833,
          -0.1145133753083306,
          -0.13348928328714876,
          0.7121537498884175,
          0.5545484277925923,
          0.4766979625151636,
          0.44804044036077034,
          0.41922984167197075
         ],
         "xaxis": "x",
         "y": [
          -0.09098786053572033,
          0.22548735478837897,
          0.42285984930439147,
          0.6666903571125591,
          0.8666719876063644,
          -0.056504428769733106,
          0.17419306675910948,
          0.34360592615278934,
          0.6264773814286442,
          0.8361145025012091,
          -0.030876670603552675,
          0.23450137663715387,
          0.3733369057623057,
          0.6239209159567407,
          0.8860825981752447,
          -0.12267410003944806,
          0.07479113358071982,
          0.20843270908826766,
          0.4495175492205815,
          0.7090968278166835,
          -0.23471267190790107,
          -0.042032046323202954,
          0.10741883137974706,
          0.256105112873489,
          0.46160202653774257
         ],
         "yaxis": "y"
        },
        {
         "hovertemplate": "symbol=1<br>0=%{x}<br>2=%{y}<br>size=%{marker.size}<br>color=%{marker.color}<extra></extra>",
         "legendgroup": "1",
         "marker": {
          "color": [
           1,
           2,
           3,
           4,
           5,
           1,
           2,
           3,
           4,
           5,
           1,
           2,
           3,
           4,
           5,
           1,
           2,
           3,
           4,
           5,
           1,
           2,
           3,
           4,
           5
          ],
          "coloraxis": "coloraxis",
          "size": [
           1,
           1,
           1,
           1,
           1,
           2,
           2,
           2,
           2,
           2,
           3,
           3,
           3,
           3,
           3,
           4,
           4,
           4,
           4,
           4,
           5,
           5,
           5,
           5,
           5
          ],
          "sizemode": "area",
          "sizeref": 0.0125,
          "symbol": "diamond"
         },
         "mode": "markers",
         "name": "1",
         "orientation": "v",
         "showlegend": true,
         "type": "scatter",
         "x": [
          0.5167548534311233,
          0.05940439337999699,
          0.16367858006439479,
          0.36695399046576505,
          0.46093435158592067,
          0.3007604838629529,
          0.05088870973495437,
          0.17217942381584117,
          0.44767469144051386,
          0.5927243383360573,
          0.22712743523199486,
          0.3255149753253149,
          0.43044413969041495,
          0.5972960495553148,
          0.6498061016249641,
          0.4694715104641854,
          0.4806063606212382,
          0.6215067133364993,
          0.7449123266916775,
          0.7780372444262131,
          0.5051499058446771,
          0.6327302837137881,
          0.776545394045087,
          0.8557015547725113,
          0.8412075808950755
         ],
         "xaxis": "x",
         "y": [
          -1.7092689465420146,
          -0.9076909750283981,
          -0.14395280957860984,
          0.4042075776941381,
          0.6417370616879856,
          -1.5930008960759068,
          -0.7896883253476632,
          -0.05526037529548709,
          0.4218662772079976,
          0.6415606300194723,
          -1.749791435486127,
          -0.9484227777332395,
          -0.1457206954729795,
          0.3753349592397086,
          0.597682655887928,
          -1.6280694717041486,
          -0.8048334553051377,
          -0.0785440727162519,
          0.40391776966332915,
          0.6020296860864235,
          -1.655355680941258,
          -0.7788950116674551,
          -0.047862801113550374,
          0.399979187526631,
          0.5789232904920478
         ],
         "yaxis": "y"
        }
       ],
       "layout": {
        "coloraxis": {
         "colorbar": {
          "title": {
           "text": "color"
          }
         },
         "colorscale": [
          [
           0,
           "#0d0887"
          ],
          [
           0.1111111111111111,
           "#46039f"
          ],
          [
           0.2222222222222222,
           "#7201a8"
          ],
          [
           0.3333333333333333,
           "#9c179e"
          ],
          [
           0.4444444444444444,
           "#bd3786"
          ],
          [
           0.5555555555555556,
           "#d8576b"
          ],
          [
           0.6666666666666666,
           "#ed7953"
          ],
          [
           0.7777777777777778,
           "#fb9f3a"
          ],
          [
           0.8888888888888888,
           "#fdca26"
          ],
          [
           1,
           "#f0f921"
          ]
         ]
        },
        "height": 500,
        "legend": {
         "itemsizing": "constant",
         "title": {
          "text": "symbol"
         },
         "tracegroupgap": 0
        },
        "margin": {
         "t": 60
        },
        "plot_bgcolor": "white",
        "template": {
         "data": {
          "bar": [
           {
            "error_x": {
             "color": "#2a3f5f"
            },
            "error_y": {
             "color": "#2a3f5f"
            },
            "marker": {
             "line": {
              "color": "#E5ECF6",
              "width": 0.5
             },
             "pattern": {
              "fillmode": "overlay",
              "size": 10,
              "solidity": 0.2
             }
            },
            "type": "bar"
           }
          ],
          "barpolar": [
           {
            "marker": {
             "line": {
              "color": "#E5ECF6",
              "width": 0.5
             },
             "pattern": {
              "fillmode": "overlay",
              "size": 10,
              "solidity": 0.2
             }
            },
            "type": "barpolar"
           }
          ],
          "carpet": [
           {
            "aaxis": {
             "endlinecolor": "#2a3f5f",
             "gridcolor": "white",
             "linecolor": "white",
             "minorgridcolor": "white",
             "startlinecolor": "#2a3f5f"
            },
            "baxis": {
             "endlinecolor": "#2a3f5f",
             "gridcolor": "white",
             "linecolor": "white",
             "minorgridcolor": "white",
             "startlinecolor": "#2a3f5f"
            },
            "type": "carpet"
           }
          ],
          "choropleth": [
           {
            "colorbar": {
             "outlinewidth": 0,
             "ticks": ""
            },
            "type": "choropleth"
           }
          ],
          "contour": [
           {
            "colorbar": {
             "outlinewidth": 0,
             "ticks": ""
            },
            "colorscale": [
             [
              0,
              "#0d0887"
             ],
             [
              0.1111111111111111,
              "#46039f"
             ],
             [
              0.2222222222222222,
              "#7201a8"
             ],
             [
              0.3333333333333333,
              "#9c179e"
             ],
             [
              0.4444444444444444,
              "#bd3786"
             ],
             [
              0.5555555555555556,
              "#d8576b"
             ],
             [
              0.6666666666666666,
              "#ed7953"
             ],
             [
              0.7777777777777778,
              "#fb9f3a"
             ],
             [
              0.8888888888888888,
              "#fdca26"
             ],
             [
              1,
              "#f0f921"
             ]
            ],
            "type": "contour"
           }
          ],
          "contourcarpet": [
           {
            "colorbar": {
             "outlinewidth": 0,
             "ticks": ""
            },
            "type": "contourcarpet"
           }
          ],
          "heatmap": [
           {
            "colorbar": {
             "outlinewidth": 0,
             "ticks": ""
            },
            "colorscale": [
             [
              0,
              "#0d0887"
             ],
             [
              0.1111111111111111,
              "#46039f"
             ],
             [
              0.2222222222222222,
              "#7201a8"
             ],
             [
              0.3333333333333333,
              "#9c179e"
             ],
             [
              0.4444444444444444,
              "#bd3786"
             ],
             [
              0.5555555555555556,
              "#d8576b"
             ],
             [
              0.6666666666666666,
              "#ed7953"
             ],
             [
              0.7777777777777778,
              "#fb9f3a"
             ],
             [
              0.8888888888888888,
              "#fdca26"
             ],
             [
              1,
              "#f0f921"
             ]
            ],
            "type": "heatmap"
           }
          ],
          "heatmapgl": [
           {
            "colorbar": {
             "outlinewidth": 0,
             "ticks": ""
            },
            "colorscale": [
             [
              0,
              "#0d0887"
             ],
             [
              0.1111111111111111,
              "#46039f"
             ],
             [
              0.2222222222222222,
              "#7201a8"
             ],
             [
              0.3333333333333333,
              "#9c179e"
             ],
             [
              0.4444444444444444,
              "#bd3786"
             ],
             [
              0.5555555555555556,
              "#d8576b"
             ],
             [
              0.6666666666666666,
              "#ed7953"
             ],
             [
              0.7777777777777778,
              "#fb9f3a"
             ],
             [
              0.8888888888888888,
              "#fdca26"
             ],
             [
              1,
              "#f0f921"
             ]
            ],
            "type": "heatmapgl"
           }
          ],
          "histogram": [
           {
            "marker": {
             "pattern": {
              "fillmode": "overlay",
              "size": 10,
              "solidity": 0.2
             }
            },
            "type": "histogram"
           }
          ],
          "histogram2d": [
           {
            "colorbar": {
             "outlinewidth": 0,
             "ticks": ""
            },
            "colorscale": [
             [
              0,
              "#0d0887"
             ],
             [
              0.1111111111111111,
              "#46039f"
             ],
             [
              0.2222222222222222,
              "#7201a8"
             ],
             [
              0.3333333333333333,
              "#9c179e"
             ],
             [
              0.4444444444444444,
              "#bd3786"
             ],
             [
              0.5555555555555556,
              "#d8576b"
             ],
             [
              0.6666666666666666,
              "#ed7953"
             ],
             [
              0.7777777777777778,
              "#fb9f3a"
             ],
             [
              0.8888888888888888,
              "#fdca26"
             ],
             [
              1,
              "#f0f921"
             ]
            ],
            "type": "histogram2d"
           }
          ],
          "histogram2dcontour": [
           {
            "colorbar": {
             "outlinewidth": 0,
             "ticks": ""
            },
            "colorscale": [
             [
              0,
              "#0d0887"
             ],
             [
              0.1111111111111111,
              "#46039f"
             ],
             [
              0.2222222222222222,
              "#7201a8"
             ],
             [
              0.3333333333333333,
              "#9c179e"
             ],
             [
              0.4444444444444444,
              "#bd3786"
             ],
             [
              0.5555555555555556,
              "#d8576b"
             ],
             [
              0.6666666666666666,
              "#ed7953"
             ],
             [
              0.7777777777777778,
              "#fb9f3a"
             ],
             [
              0.8888888888888888,
              "#fdca26"
             ],
             [
              1,
              "#f0f921"
             ]
            ],
            "type": "histogram2dcontour"
           }
          ],
          "mesh3d": [
           {
            "colorbar": {
             "outlinewidth": 0,
             "ticks": ""
            },
            "type": "mesh3d"
           }
          ],
          "parcoords": [
           {
            "line": {
             "colorbar": {
              "outlinewidth": 0,
              "ticks": ""
             }
            },
            "type": "parcoords"
           }
          ],
          "pie": [
           {
            "automargin": true,
            "type": "pie"
           }
          ],
          "scatter": [
           {
            "marker": {
             "colorbar": {
              "outlinewidth": 0,
              "ticks": ""
             }
            },
            "type": "scatter"
           }
          ],
          "scatter3d": [
           {
            "line": {
             "colorbar": {
              "outlinewidth": 0,
              "ticks": ""
             }
            },
            "marker": {
             "colorbar": {
              "outlinewidth": 0,
              "ticks": ""
             }
            },
            "type": "scatter3d"
           }
          ],
          "scattercarpet": [
           {
            "marker": {
             "colorbar": {
              "outlinewidth": 0,
              "ticks": ""
             }
            },
            "type": "scattercarpet"
           }
          ],
          "scattergeo": [
           {
            "marker": {
             "colorbar": {
              "outlinewidth": 0,
              "ticks": ""
             }
            },
            "type": "scattergeo"
           }
          ],
          "scattergl": [
           {
            "marker": {
             "colorbar": {
              "outlinewidth": 0,
              "ticks": ""
             }
            },
            "type": "scattergl"
           }
          ],
          "scattermapbox": [
           {
            "marker": {
             "colorbar": {
              "outlinewidth": 0,
              "ticks": ""
             }
            },
            "type": "scattermapbox"
           }
          ],
          "scatterpolar": [
           {
            "marker": {
             "colorbar": {
              "outlinewidth": 0,
              "ticks": ""
             }
            },
            "type": "scatterpolar"
           }
          ],
          "scatterpolargl": [
           {
            "marker": {
             "colorbar": {
              "outlinewidth": 0,
              "ticks": ""
             }
            },
            "type": "scatterpolargl"
           }
          ],
          "scatterternary": [
           {
            "marker": {
             "colorbar": {
              "outlinewidth": 0,
              "ticks": ""
             }
            },
            "type": "scatterternary"
           }
          ],
          "surface": [
           {
            "colorbar": {
             "outlinewidth": 0,
             "ticks": ""
            },
            "colorscale": [
             [
              0,
              "#0d0887"
             ],
             [
              0.1111111111111111,
              "#46039f"
             ],
             [
              0.2222222222222222,
              "#7201a8"
             ],
             [
              0.3333333333333333,
              "#9c179e"
             ],
             [
              0.4444444444444444,
              "#bd3786"
             ],
             [
              0.5555555555555556,
              "#d8576b"
             ],
             [
              0.6666666666666666,
              "#ed7953"
             ],
             [
              0.7777777777777778,
              "#fb9f3a"
             ],
             [
              0.8888888888888888,
              "#fdca26"
             ],
             [
              1,
              "#f0f921"
             ]
            ],
            "type": "surface"
           }
          ],
          "table": [
           {
            "cells": {
             "fill": {
              "color": "#EBF0F8"
             },
             "line": {
              "color": "white"
             }
            },
            "header": {
             "fill": {
              "color": "#C8D4E3"
             },
             "line": {
              "color": "white"
             }
            },
            "type": "table"
           }
          ]
         },
         "layout": {
          "annotationdefaults": {
           "arrowcolor": "#2a3f5f",
           "arrowhead": 0,
           "arrowwidth": 1
          },
          "autotypenumbers": "strict",
          "coloraxis": {
           "colorbar": {
            "outlinewidth": 0,
            "ticks": ""
           }
          },
          "colorscale": {
           "diverging": [
            [
             0,
             "#8e0152"
            ],
            [
             0.1,
             "#c51b7d"
            ],
            [
             0.2,
             "#de77ae"
            ],
            [
             0.3,
             "#f1b6da"
            ],
            [
             0.4,
             "#fde0ef"
            ],
            [
             0.5,
             "#f7f7f7"
            ],
            [
             0.6,
             "#e6f5d0"
            ],
            [
             0.7,
             "#b8e186"
            ],
            [
             0.8,
             "#7fbc41"
            ],
            [
             0.9,
             "#4d9221"
            ],
            [
             1,
             "#276419"
            ]
           ],
           "sequential": [
            [
             0,
             "#0d0887"
            ],
            [
             0.1111111111111111,
             "#46039f"
            ],
            [
             0.2222222222222222,
             "#7201a8"
            ],
            [
             0.3333333333333333,
             "#9c179e"
            ],
            [
             0.4444444444444444,
             "#bd3786"
            ],
            [
             0.5555555555555556,
             "#d8576b"
            ],
            [
             0.6666666666666666,
             "#ed7953"
            ],
            [
             0.7777777777777778,
             "#fb9f3a"
            ],
            [
             0.8888888888888888,
             "#fdca26"
            ],
            [
             1,
             "#f0f921"
            ]
           ],
           "sequentialminus": [
            [
             0,
             "#0d0887"
            ],
            [
             0.1111111111111111,
             "#46039f"
            ],
            [
             0.2222222222222222,
             "#7201a8"
            ],
            [
             0.3333333333333333,
             "#9c179e"
            ],
            [
             0.4444444444444444,
             "#bd3786"
            ],
            [
             0.5555555555555556,
             "#d8576b"
            ],
            [
             0.6666666666666666,
             "#ed7953"
            ],
            [
             0.7777777777777778,
             "#fb9f3a"
            ],
            [
             0.8888888888888888,
             "#fdca26"
            ],
            [
             1,
             "#f0f921"
            ]
           ]
          },
          "colorway": [
           "#636efa",
           "#EF553B",
           "#00cc96",
           "#ab63fa",
           "#FFA15A",
           "#19d3f3",
           "#FF6692",
           "#B6E880",
           "#FF97FF",
           "#FECB52"
          ],
          "font": {
           "color": "#2a3f5f"
          },
          "geo": {
           "bgcolor": "white",
           "lakecolor": "white",
           "landcolor": "#E5ECF6",
           "showlakes": true,
           "showland": true,
           "subunitcolor": "white"
          },
          "hoverlabel": {
           "align": "left"
          },
          "hovermode": "closest",
          "mapbox": {
           "style": "light"
          },
          "paper_bgcolor": "white",
          "plot_bgcolor": "#E5ECF6",
          "polar": {
           "angularaxis": {
            "gridcolor": "white",
            "linecolor": "white",
            "ticks": ""
           },
           "bgcolor": "#E5ECF6",
           "radialaxis": {
            "gridcolor": "white",
            "linecolor": "white",
            "ticks": ""
           }
          },
          "scene": {
           "xaxis": {
            "backgroundcolor": "#E5ECF6",
            "gridcolor": "white",
            "gridwidth": 2,
            "linecolor": "white",
            "showbackground": true,
            "ticks": "",
            "zerolinecolor": "white"
           },
           "yaxis": {
            "backgroundcolor": "#E5ECF6",
            "gridcolor": "white",
            "gridwidth": 2,
            "linecolor": "white",
            "showbackground": true,
            "ticks": "",
            "zerolinecolor": "white"
           },
           "zaxis": {
            "backgroundcolor": "#E5ECF6",
            "gridcolor": "white",
            "gridwidth": 2,
            "linecolor": "white",
            "showbackground": true,
            "ticks": "",
            "zerolinecolor": "white"
           }
          },
          "shapedefaults": {
           "line": {
            "color": "#2a3f5f"
           }
          },
          "ternary": {
           "aaxis": {
            "gridcolor": "white",
            "linecolor": "white",
            "ticks": ""
           },
           "baxis": {
            "gridcolor": "white",
            "linecolor": "white",
            "ticks": ""
           },
           "bgcolor": "#E5ECF6",
           "caxis": {
            "gridcolor": "white",
            "linecolor": "white",
            "ticks": ""
           }
          },
          "title": {
           "x": 0.05
          },
          "xaxis": {
           "automargin": true,
           "gridcolor": "white",
           "linecolor": "white",
           "ticks": "",
           "title": {
            "standoff": 15
           },
           "zerolinecolor": "white",
           "zerolinewidth": 2
          },
          "yaxis": {
           "automargin": true,
           "gridcolor": "white",
           "linecolor": "white",
           "ticks": "",
           "title": {
            "standoff": 15
           },
           "zerolinecolor": "white",
           "zerolinewidth": 2
          }
         }
        },
        "width": 500,
        "xaxis": {
         "anchor": "y",
         "domain": [
          0,
          1
         ],
         "linecolor": "black",
         "linewidth": 1.5,
         "mirror": true,
         "showgrid": false,
         "showline": true,
         "tickfont": {
          "size": 20
         },
         "ticks": "outside",
         "title": {
          "font": {
           "size": 24
          },
          "text": "0"
         }
        },
        "yaxis": {
         "anchor": "x",
         "domain": [
          0,
          1
         ],
         "linecolor": "black",
         "linewidth": 1.5,
         "mirror": true,
         "showgrid": false,
         "showline": true,
         "tickfont": {
          "size": 20
         },
         "ticks": "outside",
         "title": {
          "font": {
           "size": 24
          },
          "text": "2"
         }
        }
       }
      }
     },
     "metadata": {},
     "output_type": "display_data"
    },
    {
     "data": {
      "application/vnd.plotly.v1+json": {
       "config": {
        "plotlyServerURL": "https://plot.ly"
       },
       "data": [
        {
         "hovertemplate": "symbol=0<br>1=%{x}<br>2=%{y}<br>size=%{marker.size}<br>color=%{marker.color}<extra></extra>",
         "legendgroup": "0",
         "marker": {
          "color": [
           1,
           2,
           3,
           4,
           5,
           1,
           2,
           3,
           4,
           5,
           1,
           2,
           3,
           4,
           5,
           1,
           2,
           3,
           4,
           5,
           1,
           2,
           3,
           4,
           5
          ],
          "coloraxis": "coloraxis",
          "size": [
           1,
           1,
           1,
           1,
           1,
           2,
           2,
           2,
           2,
           2,
           3,
           3,
           3,
           3,
           3,
           4,
           4,
           4,
           4,
           4,
           5,
           5,
           5,
           5,
           5
          ],
          "sizemode": "area",
          "sizeref": 0.0125,
          "symbol": "circle"
         },
         "mode": "markers",
         "name": "0",
         "orientation": "v",
         "showlegend": true,
         "type": "scatter",
         "x": [
          0.4843603588566642,
          0.6135298017055,
          0.7463640664421889,
          0.5408557277509409,
          0.3569317426065975,
          0.5253814597794519,
          0.6854037666553885,
          0.8318622803139757,
          0.5863617839489463,
          0.38092952826817983,
          0.9056769274733059,
          1.0651039469909007,
          1.1932756953247838,
          0.9780543245228894,
          0.7291616371752228,
          0.9480905147663455,
          1.128335449190713,
          1.2481948340121034,
          1.0615463198771296,
          0.8621866866058921,
          0.9575251821576678,
          1.105874820851676,
          1.2037753267971698,
          0.9922480904962249,
          0.7856900869471208
         ],
         "xaxis": "x",
         "y": [
          -0.09098786053572033,
          0.22548735478837897,
          0.42285984930439147,
          0.6666903571125591,
          0.8666719876063644,
          -0.056504428769733106,
          0.17419306675910948,
          0.34360592615278934,
          0.6264773814286442,
          0.8361145025012091,
          -0.030876670603552675,
          0.23450137663715387,
          0.3733369057623057,
          0.6239209159567407,
          0.8860825981752447,
          -0.12267410003944806,
          0.07479113358071982,
          0.20843270908826766,
          0.4495175492205815,
          0.7090968278166835,
          -0.23471267190790107,
          -0.042032046323202954,
          0.10741883137974706,
          0.256105112873489,
          0.46160202653774257
         ],
         "yaxis": "y"
        },
        {
         "hovertemplate": "symbol=1<br>1=%{x}<br>2=%{y}<br>size=%{marker.size}<br>color=%{marker.color}<extra></extra>",
         "legendgroup": "1",
         "marker": {
          "color": [
           1,
           2,
           3,
           4,
           5,
           1,
           2,
           3,
           4,
           5,
           1,
           2,
           3,
           4,
           5,
           1,
           2,
           3,
           4,
           5,
           1,
           2,
           3,
           4,
           5
          ],
          "coloraxis": "coloraxis",
          "size": [
           1,
           1,
           1,
           1,
           1,
           2,
           2,
           2,
           2,
           2,
           3,
           3,
           3,
           3,
           3,
           4,
           4,
           4,
           4,
           4,
           5,
           5,
           5,
           5,
           5
          ],
          "sizemode": "area",
          "sizeref": 0.0125,
          "symbol": "diamond"
         },
         "mode": "markers",
         "name": "1",
         "orientation": "v",
         "showlegend": true,
         "type": "scatter",
         "x": [
          -1.010936873969208,
          -1.0584243953472476,
          -0.8842284176857921,
          -0.8030352154447967,
          -0.7224614926699559,
          -1.1748139149234578,
          -1.204782104487533,
          -1.0597601679057655,
          -0.9099268837872057,
          -0.7962614069198665,
          -1.0866381800341223,
          -0.9359892026122575,
          -0.7840903238531631,
          -0.7270649530348623,
          -0.6987368808546904,
          -0.9412718082696924,
          -0.8626814713196872,
          -0.7086393669412325,
          -0.7042791872480748,
          -0.7010775641670844,
          -0.7184847211238767,
          -0.6643546349771323,
          -0.5202580271916615,
          -0.586264678245052,
          -0.6522584865035621
         ],
         "xaxis": "x",
         "y": [
          -1.7092689465420146,
          -0.9076909750283981,
          -0.14395280957860984,
          0.4042075776941381,
          0.6417370616879856,
          -1.5930008960759068,
          -0.7896883253476632,
          -0.05526037529548709,
          0.4218662772079976,
          0.6415606300194723,
          -1.749791435486127,
          -0.9484227777332395,
          -0.1457206954729795,
          0.3753349592397086,
          0.597682655887928,
          -1.6280694717041486,
          -0.8048334553051377,
          -0.0785440727162519,
          0.40391776966332915,
          0.6020296860864235,
          -1.655355680941258,
          -0.7788950116674551,
          -0.047862801113550374,
          0.399979187526631,
          0.5789232904920478
         ],
         "yaxis": "y"
        }
       ],
       "layout": {
        "coloraxis": {
         "colorbar": {
          "title": {
           "text": "color"
          }
         },
         "colorscale": [
          [
           0,
           "#0d0887"
          ],
          [
           0.1111111111111111,
           "#46039f"
          ],
          [
           0.2222222222222222,
           "#7201a8"
          ],
          [
           0.3333333333333333,
           "#9c179e"
          ],
          [
           0.4444444444444444,
           "#bd3786"
          ],
          [
           0.5555555555555556,
           "#d8576b"
          ],
          [
           0.6666666666666666,
           "#ed7953"
          ],
          [
           0.7777777777777778,
           "#fb9f3a"
          ],
          [
           0.8888888888888888,
           "#fdca26"
          ],
          [
           1,
           "#f0f921"
          ]
         ]
        },
        "height": 500,
        "legend": {
         "itemsizing": "constant",
         "title": {
          "text": "symbol"
         },
         "tracegroupgap": 0
        },
        "margin": {
         "t": 60
        },
        "plot_bgcolor": "white",
        "template": {
         "data": {
          "bar": [
           {
            "error_x": {
             "color": "#2a3f5f"
            },
            "error_y": {
             "color": "#2a3f5f"
            },
            "marker": {
             "line": {
              "color": "#E5ECF6",
              "width": 0.5
             },
             "pattern": {
              "fillmode": "overlay",
              "size": 10,
              "solidity": 0.2
             }
            },
            "type": "bar"
           }
          ],
          "barpolar": [
           {
            "marker": {
             "line": {
              "color": "#E5ECF6",
              "width": 0.5
             },
             "pattern": {
              "fillmode": "overlay",
              "size": 10,
              "solidity": 0.2
             }
            },
            "type": "barpolar"
           }
          ],
          "carpet": [
           {
            "aaxis": {
             "endlinecolor": "#2a3f5f",
             "gridcolor": "white",
             "linecolor": "white",
             "minorgridcolor": "white",
             "startlinecolor": "#2a3f5f"
            },
            "baxis": {
             "endlinecolor": "#2a3f5f",
             "gridcolor": "white",
             "linecolor": "white",
             "minorgridcolor": "white",
             "startlinecolor": "#2a3f5f"
            },
            "type": "carpet"
           }
          ],
          "choropleth": [
           {
            "colorbar": {
             "outlinewidth": 0,
             "ticks": ""
            },
            "type": "choropleth"
           }
          ],
          "contour": [
           {
            "colorbar": {
             "outlinewidth": 0,
             "ticks": ""
            },
            "colorscale": [
             [
              0,
              "#0d0887"
             ],
             [
              0.1111111111111111,
              "#46039f"
             ],
             [
              0.2222222222222222,
              "#7201a8"
             ],
             [
              0.3333333333333333,
              "#9c179e"
             ],
             [
              0.4444444444444444,
              "#bd3786"
             ],
             [
              0.5555555555555556,
              "#d8576b"
             ],
             [
              0.6666666666666666,
              "#ed7953"
             ],
             [
              0.7777777777777778,
              "#fb9f3a"
             ],
             [
              0.8888888888888888,
              "#fdca26"
             ],
             [
              1,
              "#f0f921"
             ]
            ],
            "type": "contour"
           }
          ],
          "contourcarpet": [
           {
            "colorbar": {
             "outlinewidth": 0,
             "ticks": ""
            },
            "type": "contourcarpet"
           }
          ],
          "heatmap": [
           {
            "colorbar": {
             "outlinewidth": 0,
             "ticks": ""
            },
            "colorscale": [
             [
              0,
              "#0d0887"
             ],
             [
              0.1111111111111111,
              "#46039f"
             ],
             [
              0.2222222222222222,
              "#7201a8"
             ],
             [
              0.3333333333333333,
              "#9c179e"
             ],
             [
              0.4444444444444444,
              "#bd3786"
             ],
             [
              0.5555555555555556,
              "#d8576b"
             ],
             [
              0.6666666666666666,
              "#ed7953"
             ],
             [
              0.7777777777777778,
              "#fb9f3a"
             ],
             [
              0.8888888888888888,
              "#fdca26"
             ],
             [
              1,
              "#f0f921"
             ]
            ],
            "type": "heatmap"
           }
          ],
          "heatmapgl": [
           {
            "colorbar": {
             "outlinewidth": 0,
             "ticks": ""
            },
            "colorscale": [
             [
              0,
              "#0d0887"
             ],
             [
              0.1111111111111111,
              "#46039f"
             ],
             [
              0.2222222222222222,
              "#7201a8"
             ],
             [
              0.3333333333333333,
              "#9c179e"
             ],
             [
              0.4444444444444444,
              "#bd3786"
             ],
             [
              0.5555555555555556,
              "#d8576b"
             ],
             [
              0.6666666666666666,
              "#ed7953"
             ],
             [
              0.7777777777777778,
              "#fb9f3a"
             ],
             [
              0.8888888888888888,
              "#fdca26"
             ],
             [
              1,
              "#f0f921"
             ]
            ],
            "type": "heatmapgl"
           }
          ],
          "histogram": [
           {
            "marker": {
             "pattern": {
              "fillmode": "overlay",
              "size": 10,
              "solidity": 0.2
             }
            },
            "type": "histogram"
           }
          ],
          "histogram2d": [
           {
            "colorbar": {
             "outlinewidth": 0,
             "ticks": ""
            },
            "colorscale": [
             [
              0,
              "#0d0887"
             ],
             [
              0.1111111111111111,
              "#46039f"
             ],
             [
              0.2222222222222222,
              "#7201a8"
             ],
             [
              0.3333333333333333,
              "#9c179e"
             ],
             [
              0.4444444444444444,
              "#bd3786"
             ],
             [
              0.5555555555555556,
              "#d8576b"
             ],
             [
              0.6666666666666666,
              "#ed7953"
             ],
             [
              0.7777777777777778,
              "#fb9f3a"
             ],
             [
              0.8888888888888888,
              "#fdca26"
             ],
             [
              1,
              "#f0f921"
             ]
            ],
            "type": "histogram2d"
           }
          ],
          "histogram2dcontour": [
           {
            "colorbar": {
             "outlinewidth": 0,
             "ticks": ""
            },
            "colorscale": [
             [
              0,
              "#0d0887"
             ],
             [
              0.1111111111111111,
              "#46039f"
             ],
             [
              0.2222222222222222,
              "#7201a8"
             ],
             [
              0.3333333333333333,
              "#9c179e"
             ],
             [
              0.4444444444444444,
              "#bd3786"
             ],
             [
              0.5555555555555556,
              "#d8576b"
             ],
             [
              0.6666666666666666,
              "#ed7953"
             ],
             [
              0.7777777777777778,
              "#fb9f3a"
             ],
             [
              0.8888888888888888,
              "#fdca26"
             ],
             [
              1,
              "#f0f921"
             ]
            ],
            "type": "histogram2dcontour"
           }
          ],
          "mesh3d": [
           {
            "colorbar": {
             "outlinewidth": 0,
             "ticks": ""
            },
            "type": "mesh3d"
           }
          ],
          "parcoords": [
           {
            "line": {
             "colorbar": {
              "outlinewidth": 0,
              "ticks": ""
             }
            },
            "type": "parcoords"
           }
          ],
          "pie": [
           {
            "automargin": true,
            "type": "pie"
           }
          ],
          "scatter": [
           {
            "marker": {
             "colorbar": {
              "outlinewidth": 0,
              "ticks": ""
             }
            },
            "type": "scatter"
           }
          ],
          "scatter3d": [
           {
            "line": {
             "colorbar": {
              "outlinewidth": 0,
              "ticks": ""
             }
            },
            "marker": {
             "colorbar": {
              "outlinewidth": 0,
              "ticks": ""
             }
            },
            "type": "scatter3d"
           }
          ],
          "scattercarpet": [
           {
            "marker": {
             "colorbar": {
              "outlinewidth": 0,
              "ticks": ""
             }
            },
            "type": "scattercarpet"
           }
          ],
          "scattergeo": [
           {
            "marker": {
             "colorbar": {
              "outlinewidth": 0,
              "ticks": ""
             }
            },
            "type": "scattergeo"
           }
          ],
          "scattergl": [
           {
            "marker": {
             "colorbar": {
              "outlinewidth": 0,
              "ticks": ""
             }
            },
            "type": "scattergl"
           }
          ],
          "scattermapbox": [
           {
            "marker": {
             "colorbar": {
              "outlinewidth": 0,
              "ticks": ""
             }
            },
            "type": "scattermapbox"
           }
          ],
          "scatterpolar": [
           {
            "marker": {
             "colorbar": {
              "outlinewidth": 0,
              "ticks": ""
             }
            },
            "type": "scatterpolar"
           }
          ],
          "scatterpolargl": [
           {
            "marker": {
             "colorbar": {
              "outlinewidth": 0,
              "ticks": ""
             }
            },
            "type": "scatterpolargl"
           }
          ],
          "scatterternary": [
           {
            "marker": {
             "colorbar": {
              "outlinewidth": 0,
              "ticks": ""
             }
            },
            "type": "scatterternary"
           }
          ],
          "surface": [
           {
            "colorbar": {
             "outlinewidth": 0,
             "ticks": ""
            },
            "colorscale": [
             [
              0,
              "#0d0887"
             ],
             [
              0.1111111111111111,
              "#46039f"
             ],
             [
              0.2222222222222222,
              "#7201a8"
             ],
             [
              0.3333333333333333,
              "#9c179e"
             ],
             [
              0.4444444444444444,
              "#bd3786"
             ],
             [
              0.5555555555555556,
              "#d8576b"
             ],
             [
              0.6666666666666666,
              "#ed7953"
             ],
             [
              0.7777777777777778,
              "#fb9f3a"
             ],
             [
              0.8888888888888888,
              "#fdca26"
             ],
             [
              1,
              "#f0f921"
             ]
            ],
            "type": "surface"
           }
          ],
          "table": [
           {
            "cells": {
             "fill": {
              "color": "#EBF0F8"
             },
             "line": {
              "color": "white"
             }
            },
            "header": {
             "fill": {
              "color": "#C8D4E3"
             },
             "line": {
              "color": "white"
             }
            },
            "type": "table"
           }
          ]
         },
         "layout": {
          "annotationdefaults": {
           "arrowcolor": "#2a3f5f",
           "arrowhead": 0,
           "arrowwidth": 1
          },
          "autotypenumbers": "strict",
          "coloraxis": {
           "colorbar": {
            "outlinewidth": 0,
            "ticks": ""
           }
          },
          "colorscale": {
           "diverging": [
            [
             0,
             "#8e0152"
            ],
            [
             0.1,
             "#c51b7d"
            ],
            [
             0.2,
             "#de77ae"
            ],
            [
             0.3,
             "#f1b6da"
            ],
            [
             0.4,
             "#fde0ef"
            ],
            [
             0.5,
             "#f7f7f7"
            ],
            [
             0.6,
             "#e6f5d0"
            ],
            [
             0.7,
             "#b8e186"
            ],
            [
             0.8,
             "#7fbc41"
            ],
            [
             0.9,
             "#4d9221"
            ],
            [
             1,
             "#276419"
            ]
           ],
           "sequential": [
            [
             0,
             "#0d0887"
            ],
            [
             0.1111111111111111,
             "#46039f"
            ],
            [
             0.2222222222222222,
             "#7201a8"
            ],
            [
             0.3333333333333333,
             "#9c179e"
            ],
            [
             0.4444444444444444,
             "#bd3786"
            ],
            [
             0.5555555555555556,
             "#d8576b"
            ],
            [
             0.6666666666666666,
             "#ed7953"
            ],
            [
             0.7777777777777778,
             "#fb9f3a"
            ],
            [
             0.8888888888888888,
             "#fdca26"
            ],
            [
             1,
             "#f0f921"
            ]
           ],
           "sequentialminus": [
            [
             0,
             "#0d0887"
            ],
            [
             0.1111111111111111,
             "#46039f"
            ],
            [
             0.2222222222222222,
             "#7201a8"
            ],
            [
             0.3333333333333333,
             "#9c179e"
            ],
            [
             0.4444444444444444,
             "#bd3786"
            ],
            [
             0.5555555555555556,
             "#d8576b"
            ],
            [
             0.6666666666666666,
             "#ed7953"
            ],
            [
             0.7777777777777778,
             "#fb9f3a"
            ],
            [
             0.8888888888888888,
             "#fdca26"
            ],
            [
             1,
             "#f0f921"
            ]
           ]
          },
          "colorway": [
           "#636efa",
           "#EF553B",
           "#00cc96",
           "#ab63fa",
           "#FFA15A",
           "#19d3f3",
           "#FF6692",
           "#B6E880",
           "#FF97FF",
           "#FECB52"
          ],
          "font": {
           "color": "#2a3f5f"
          },
          "geo": {
           "bgcolor": "white",
           "lakecolor": "white",
           "landcolor": "#E5ECF6",
           "showlakes": true,
           "showland": true,
           "subunitcolor": "white"
          },
          "hoverlabel": {
           "align": "left"
          },
          "hovermode": "closest",
          "mapbox": {
           "style": "light"
          },
          "paper_bgcolor": "white",
          "plot_bgcolor": "#E5ECF6",
          "polar": {
           "angularaxis": {
            "gridcolor": "white",
            "linecolor": "white",
            "ticks": ""
           },
           "bgcolor": "#E5ECF6",
           "radialaxis": {
            "gridcolor": "white",
            "linecolor": "white",
            "ticks": ""
           }
          },
          "scene": {
           "xaxis": {
            "backgroundcolor": "#E5ECF6",
            "gridcolor": "white",
            "gridwidth": 2,
            "linecolor": "white",
            "showbackground": true,
            "ticks": "",
            "zerolinecolor": "white"
           },
           "yaxis": {
            "backgroundcolor": "#E5ECF6",
            "gridcolor": "white",
            "gridwidth": 2,
            "linecolor": "white",
            "showbackground": true,
            "ticks": "",
            "zerolinecolor": "white"
           },
           "zaxis": {
            "backgroundcolor": "#E5ECF6",
            "gridcolor": "white",
            "gridwidth": 2,
            "linecolor": "white",
            "showbackground": true,
            "ticks": "",
            "zerolinecolor": "white"
           }
          },
          "shapedefaults": {
           "line": {
            "color": "#2a3f5f"
           }
          },
          "ternary": {
           "aaxis": {
            "gridcolor": "white",
            "linecolor": "white",
            "ticks": ""
           },
           "baxis": {
            "gridcolor": "white",
            "linecolor": "white",
            "ticks": ""
           },
           "bgcolor": "#E5ECF6",
           "caxis": {
            "gridcolor": "white",
            "linecolor": "white",
            "ticks": ""
           }
          },
          "title": {
           "x": 0.05
          },
          "xaxis": {
           "automargin": true,
           "gridcolor": "white",
           "linecolor": "white",
           "ticks": "",
           "title": {
            "standoff": 15
           },
           "zerolinecolor": "white",
           "zerolinewidth": 2
          },
          "yaxis": {
           "automargin": true,
           "gridcolor": "white",
           "linecolor": "white",
           "ticks": "",
           "title": {
            "standoff": 15
           },
           "zerolinecolor": "white",
           "zerolinewidth": 2
          }
         }
        },
        "width": 500,
        "xaxis": {
         "anchor": "y",
         "domain": [
          0,
          1
         ],
         "linecolor": "black",
         "linewidth": 1.5,
         "mirror": true,
         "showgrid": false,
         "showline": true,
         "tickfont": {
          "size": 20
         },
         "ticks": "outside",
         "title": {
          "font": {
           "size": 24
          },
          "text": "1"
         }
        },
        "yaxis": {
         "anchor": "x",
         "domain": [
          0,
          1
         ],
         "linecolor": "black",
         "linewidth": 1.5,
         "mirror": true,
         "showgrid": false,
         "showline": true,
         "tickfont": {
          "size": 20
         },
         "ticks": "outside",
         "title": {
          "font": {
           "size": 24
          },
          "text": "2"
         }
        }
       }
      }
     },
     "metadata": {},
     "output_type": "display_data"
    },
    {
     "data": {
      "application/vnd.plotly.v1+json": {
       "config": {
        "plotlyServerURL": "https://plot.ly"
       },
       "data": [
        {
         "coloraxis": "coloraxis",
         "hovertemplate": "x: %{x}<br>y: %{y}<br>color: %{z}<extra></extra>",
         "name": "0",
         "type": "heatmap",
         "xaxis": "x",
         "yaxis": "y",
         "z": [
          [
           1,
           0.9874570369720459,
           0.9721683859825134,
           0.9530043601989746,
           0.9250562191009521,
           0.9826372265815735,
           0.9608423709869385,
           0.9492186903953552,
           0.9375175833702087,
           0.9135722517967224,
           0.9152319431304932,
           0.9196378588676453,
           0.9162651896476746,
           0.9088582992553711,
           0.8919827938079834,
           0.7686110138893127,
           0.8059867024421692,
           0.8253301978111267,
           0.8205620646476746,
           0.813461422920227,
           0.6305714845657349,
           0.6765286326408386,
           0.7031192779541016,
           0.6946090459823608,
           0.689759373664856,
           0.2199666053056717,
           0.3288406431674957,
           0.47136861085891724,
           0.4369265139102936,
           0.40250757336616516,
           0.20484600961208344,
           0.2840088903903961,
           0.35410937666893005,
           0.31811991333961487,
           0.2862400412559509,
           0.2000848948955536,
           0.2895597815513611,
           0.3707960247993469,
           0.32389143109321594,
           0.29014551639556885,
           0.1997629553079605,
           0.2756941020488739,
           0.31893497705459595,
           0.2598247230052948,
           0.22222162783145905,
           0.20001520216464996,
           0.27712684869766235,
           0.31763947010040283,
           0.2455620914697647,
           0.20435050129890442
          ],
          [
           0.9874570369720459,
           1,
           0.9953842759132385,
           0.9811217784881592,
           0.9547292590141296,
           0.9834808707237244,
           0.9861679077148438,
           0.9816445112228394,
           0.9730311632156372,
           0.94874507188797,
           0.9190578460693359,
           0.9430908560752869,
           0.9431711435317993,
           0.9389421343803406,
           0.9231975674629211,
           0.7775141596794128,
           0.8326494097709656,
           0.8544480800628662,
           0.8518856167793274,
           0.845028817653656,
           0.6304377913475037,
           0.6975762844085693,
           0.7292543053627014,
           0.7263987064361572,
           0.7245209813117981,
           0.16139905154705048,
           0.29953354597091675,
           0.5027839541435242,
           0.5055137872695923,
           0.48263368010520935,
           0.15605585277080536,
           0.27455413341522217,
           0.4047139585018158,
           0.397897332906723,
           0.3732585608959198,
           0.149667888879776,
           0.2805807888507843,
           0.426971971988678,
           0.40969252586364746,
           0.38319697976112366,
           0.15109141170978546,
           0.27536118030548096,
           0.38031938672065735,
           0.3443315923213959,
           0.3131856322288513,
           0.1422264575958252,
           0.26278597116470337,
           0.3695449233055115,
           0.3238827884197235,
           0.29312676191329956
          ],
          [
           0.9721683859825134,
           0.9953842759132385,
           1,
           0.990851640701294,
           0.967582643032074,
           0.973851203918457,
           0.9863348007202148,
           0.9894269108772278,
           0.9863050580024719,
           0.9653669595718384,
           0.9229703545570374,
           0.9527314305305481,
           0.9568997621536255,
           0.956633448600769,
           0.9431871175765991,
           0.7902951240539551,
           0.8495215773582458,
           0.8743247985839844,
           0.8759879469871521,
           0.8715270161628723,
           0.6443048119544983,
           0.7183119654655457,
           0.7538450956344604,
           0.7565301060676575,
           0.7585021257400513,
           0.13449832797050476,
           0.2761581242084503,
           0.5076859593391418,
           0.5413289666175842,
           0.532061755657196,
           0.13002917170524597,
           0.25662389397621155,
           0.4165388345718384,
           0.4365927278995514,
           0.4257132411003113,
           0.13077616691589355,
           0.2758183479309082,
           0.4556093215942383,
           0.4614318311214447,
           0.4434767961502075,
           0.13516969978809357,
           0.2774903178215027,
           0.4157472252845764,
           0.39875897765159607,
           0.37434759736061096,
           0.12724493443965912,
           0.2670702040195465,
           0.41082608699798584,
           0.3813682794570923,
           0.3559543788433075
          ],
          [
           0.9530043601989746,
           0.9811217784881592,
           0.990851640701294,
           1,
           0.991479754447937,
           0.9475283026695251,
           0.9659616351127625,
           0.9747495055198669,
           0.9922429919242859,
           0.9884738922119141,
           0.8963617086410522,
           0.9317424297332764,
           0.9401983618736267,
           0.9572439789772034,
           0.9598356485366821,
           0.7480059266090393,
           0.8140363097190857,
           0.8446657657623291,
           0.8641043305397034,
           0.8765585422515869,
           0.5851577520370483,
           0.6676140427589417,
           0.709079384803772,
           0.7280173897743225,
           0.7477737069129944,
           0.1078471839427948,
           0.23712430894374847,
           0.47399666905403137,
           0.550227701663971,
           0.5675840973854065,
           0.09741440415382385,
           0.21147814393043518,
           0.37936607003211975,
           0.4361838102340698,
           0.45373988151550293,
           0.10684220492839813,
           0.24458938837051392,
           0.4320068955421448,
           0.4703699052333832,
           0.47392958402633667,
           0.10769783705472946,
           0.24200306832790375,
           0.3887762427330017,
           0.4038597643375397,
           0.40050968527793884,
           0.09925856441259384,
           0.23107430338859558,
           0.38441622257232666,
           0.3864719569683075,
           0.38018035888671875
          ],
          [
           0.9250562191009521,
           0.9547292590141296,
           0.967582643032074,
           0.991479754447937,
           1,
           0.9119107723236084,
           0.9332010746002197,
           0.9457581043243408,
           0.9791312217712402,
           0.9949114322662354,
           0.8612120151519775,
           0.898516833782196,
           0.9098721742630005,
           0.9414296746253967,
           0.9636247754096985,
           0.699039101600647,
           0.7676788568496704,
           0.8023805618286133,
           0.8365200161933899,
           0.8695263266563416,
           0.5207031965255737,
           0.6058459281921387,
           0.6511024236679077,
           0.6835733652114868,
           0.7245998382568359,
           0.09098159521818161,
           0.20948413014411926,
           0.44126975536346436,
           0.5416223406791687,
           0.5806611776351929,
           0.0765329971909523,
           0.17905549705028534,
           0.3438514769077301,
           0.4208901822566986,
           0.45985960960388184,
           0.0895780622959137,
           0.21805240213871002,
           0.4013458788394928,
           0.45805689692497253,
           0.4803823232650757,
           0.08614408224821091,
           0.20942366123199463,
           0.352056086063385,
           0.3860243260860443,
           0.4010421931743622,
           0.0750616118311882,
           0.19368089735507965,
           0.34228450059890747,
           0.3652512729167938,
           0.37736842036247253
          ],
          [
           0.9826372265815735,
           0.9834808707237244,
           0.973851203918457,
           0.9475283026695251,
           0.9119107723236084,
           1,
           0.9873495101928711,
           0.9769231677055359,
           0.953759491443634,
           0.9165259599685669,
           0.9585742950439453,
           0.9654462933540344,
           0.9594036340713501,
           0.9437450170516968,
           0.9142913818359375,
           0.8449307680130005,
           0.8820213079452515,
           0.8949161171913147,
           0.885265588760376,
           0.867904007434845,
           0.712001383304596,
           0.7622723579406738,
           0.7850731611251831,
           0.7787911295890808,
           0.7703526020050049,
           0.23596329987049103,
           0.36852413415908813,
           0.5382521152496338,
           0.4950386881828308,
           0.44775161147117615,
           0.23537123203277588,
           0.34584397077560425,
           0.44297733902931213,
           0.39727985858917236,
           0.3482719659805298,
           0.22612224519252777,
           0.3492863178253174,
           0.4626658260822296,
           0.40662601590156555,
           0.3586072027683258,
           0.23539263010025024,
           0.3501090109348297,
           0.422414630651474,
           0.3490142226219177,
           0.2967873215675354,
           0.23161758482456207,
           0.3463585078716278,
           0.4191415309906006,
           0.3343404233455658,
           0.28190815448760986
          ],
          [
           0.9608423709869385,
           0.9861679077148438,
           0.9863348007202148,
           0.9659616351127625,
           0.9332010746002197,
           0.9873495101928711,
           0.9999998807907104,
           0.9964589476585388,
           0.9775383472442627,
           0.9415764212608337,
           0.9425944685935974,
           0.9705519080162048,
           0.9685376286506653,
           0.9573611617088318,
           0.9312207698822021,
           0.8283743262290955,
           0.8850388526916504,
           0.9016152024269104,
           0.8948407173156738,
           0.8793674111366272,
           0.6846582293510437,
           0.7564587593078613,
           0.7851725816726685,
           0.7846645712852478,
           0.78008633852005,
           0.17609956860542297,
           0.3359813988208771,
           0.5629372596740723,
           0.5548300743103027,
           0.5180436372756958,
           0.18474966287612915,
           0.33213114738464355,
           0.48629605770111084,
           0.46786314249038696,
           0.4245866537094116,
           0.1733034998178482,
           0.33421042561531067,
           0.5081868171691895,
           0.48012417554855347,
           0.438729852437973,
           0.1821449100971222,
           0.3409947156906128,
           0.4710552394390106,
           0.42042678594589233,
           0.37458235025405884,
           0.1680760681629181,
           0.3211723566055298,
           0.45500966906547546,
           0.39749228954315186,
           0.35632577538490295
          ],
          [
           0.9492186903953552,
           0.9816445112228394,
           0.9894269108772278,
           0.9747495055198669,
           0.9457581043243408,
           0.9769231677055359,
           0.9964589476585388,
           1.0000001192092896,
           0.9877713322639465,
           0.956355094909668,
           0.942097008228302,
           0.9744858145713806,
           0.9769970774650574,
           0.9708170890808105,
           0.948057234287262,
           0.8316786885261536,
           0.8918680548667908,
           0.9126002788543701,
           0.911032497882843,
           0.8990749716758728,
           0.6876543164253235,
           0.7646627426147461,
           0.7977514863014221,
           0.8028149008750916,
           0.8024762868881226,
           0.14660677313804626,
           0.3057061433792114,
           0.5548906922340393,
           0.5768816471099854,
           0.5532867312431335,
           0.1541038304567337,
           0.3038206100463867,
           0.48188257217407227,
           0.4898025393486023,
           0.460480272769928,
           0.15018774569034576,
           0.3181026875972748,
           0.5180434584617615,
           0.5127522349357605,
           0.48003822565078735,
           0.16100791096687317,
           0.3298080563545227,
           0.4869871735572815,
           0.45606347918510437,
           0.41699862480163574,
           0.1492341011762619,
           0.3139370083808899,
           0.4776970148086548,
           0.43669572472572327,
           0.4001336097717285
          ],
          [
           0.9375175833702087,
           0.9730311632156372,
           0.9863050580024719,
           0.9922429919242859,
           0.9791312217712402,
           0.953759491443634,
           0.9775383472442627,
           0.9877713322639465,
           0.9999998807907104,
           0.9881790280342102,
           0.9185697436332703,
           0.9558268189430237,
           0.9636398553848267,
           0.9774374961853027,
           0.9725741147994995,
           0.7889262437820435,
           0.8554913401603699,
           0.8835772275924683,
           0.9024099707603455,
           0.9091043472290039,
           0.6280558109283447,
           0.7132205367088318,
           0.7533518075942993,
           0.7758871912956238,
           0.7940696477890015,
           0.11478585749864578,
           0.25599440932273865,
           0.5103051066398621,
           0.5857354402542114,
           0.5941645503044128,
           0.11298543214797974,
           0.24370712041854858,
           0.4300152063369751,
           0.4846809506416321,
           0.49088579416275024,
           0.12124436348676682,
           0.27681291103363037,
           0.4843796491622925,
           0.5201695561408997,
           0.5131661295890808,
           0.12791754305362701,
           0.2833419740200043,
           0.45008963346481323,
           0.4598589241504669,
           0.44584307074546814,
           0.11803874373435974,
           0.27108725905418396,
           0.446012407541275,
           0.44301119446754456,
           0.4275500178337097
          ],
          [
           0.9135722517967224,
           0.94874507188797,
           0.9653669595718384,
           0.9884738922119141,
           0.9949114322662354,
           0.9165259599685669,
           0.9415764212608337,
           0.956355094909668,
           0.9881790280342102,
           1,
           0.8811320662498474,
           0.9193568229675293,
           0.930884838104248,
           0.9619936347007751,
           0.9805223345756531,
           0.7334494590759277,
           0.8018905520439148,
           0.8353415131568909,
           0.8712477087974548,
           0.9019668698310852,
           0.5567418932914734,
           0.6437410712242126,
           0.6885223984718323,
           0.7255090475082397,
           0.7672816514968872,
           0.09303626418113708,
           0.2179466336965561,
           0.4641699194908142,
           0.5711711049079895,
           0.6075839400291443,
           0.08382011204957962,
           0.19636036455631256,
           0.3768400251865387,
           0.45867055654525757,
           0.4937465786933899,
           0.09832830727100372,
           0.23913051187992096,
           0.43984854221343994,
           0.4999951422214508,
           0.5171101093292236,
           0.09943487495183945,
           0.2377636730670929,
           0.39806094765663147,
           0.43303176760673523,
           0.44250673055648804,
           0.0882992073893547,
           0.22294804453849792,
           0.3909832835197449,
           0.4140104055404663,
           0.4207751154899597
          ],
          [
           0.9152319431304932,
           0.9190578460693359,
           0.9229703545570374,
           0.8963617086410522,
           0.8612120151519775,
           0.9585742950439453,
           0.9425944685935974,
           0.942097008228302,
           0.9185697436332703,
           0.8811320662498474,
           1,
           0.9886473417282104,
           0.9817710518836975,
           0.9633514881134033,
           0.927310585975647,
           0.9523101449012756,
           0.9653328657150269,
           0.9698252081871033,
           0.9636166095733643,
           0.9435071349143982,
           0.8502387404441833,
           0.8843861818313599,
           0.8999003171920776,
           0.9028360843658447,
           0.8982548713684082,
           0.2359272539615631,
           0.34442657232284546,
           0.5157451033592224,
           0.5064256191253662,
           0.4794825315475464,
           0.23138241469860077,
           0.32181254029273987,
           0.4292968213558197,
           0.417962908744812,
           0.39400291442871094,
           0.24967049062252045,
           0.3721049726009369,
           0.5038069486618042,
           0.4671841561794281,
           0.428347647190094,
           0.2731100916862488,
           0.3901900351047516,
           0.4854879081249237,
           0.42540937662124634,
           0.3774242699146271,
           0.28907862305641174,
           0.4180247485637665,
           0.5216962099075317,
           0.4351085126399994,
           0.37643566727638245
          ],
          [
           0.9196378588676453,
           0.9430908560752869,
           0.9527314305305481,
           0.9317424297332764,
           0.898516833782196,
           0.9654462933540344,
           0.9705519080162048,
           0.9744858145713806,
           0.9558268189430237,
           0.9193568229675293,
           0.9886473417282104,
           0.9999998807907104,
           0.9978739023208618,
           0.9847552180290222,
           0.9520460963249207,
           0.9280338287353516,
           0.9633601903915405,
           0.9738010764122009,
           0.9710943102836609,
           0.9530653953552246,
           0.8105878233909607,
           0.8672285676002502,
           0.8900931477546692,
           0.8975009322166443,
           0.8954750895500183,
           0.15901002287864685,
           0.2973971962928772,
           0.5205996036529541,
           0.5420570969581604,
           0.5235966444015503,
           0.1624627560377121,
           0.2906660735607147,
           0.4485715925693512,
           0.45949414372444153,
           0.4388195276260376,
           0.172570139169693,
           0.32699549198150635,
           0.5114338397979736,
           0.5030912160873413,
           0.4710177183151245,
           0.19479970633983612,
           0.3500749170780182,
           0.4961698651313782,
           0.45956411957740784,
           0.41772282123565674,
           0.2003481686115265,
           0.36129435896873474,
           0.5184482336044312,
           0.4607856273651123,
           0.4125876724720001
          ],
          [
           0.9162651896476746,
           0.9431711435317993,
           0.9568997621536255,
           0.9401983618736267,
           0.9098721742630005,
           0.9594036340713501,
           0.9685376286506653,
           0.9769970774650574,
           0.9636398553848267,
           0.930884838104248,
           0.9817710518836975,
           0.9978739023208618,
           1.0000001192092896,
           0.99118971824646,
           0.9616401791572571,
           0.917326033115387,
           0.9572542905807495,
           0.972491443157196,
           0.9738971590995789,
           0.9590198397636414,
           0.797069251537323,
           0.8583104014396667,
           0.8856606483459473,
           0.8966718912124634,
           0.897563099861145,
           0.12903647124767303,
           0.2681789696216583,
           0.5049489736557007,
           0.5444767475128174,
           0.5339727997779846,
           0.13165557384490967,
           0.2624075710773468,
           0.43462687730789185,
           0.46060097217559814,
           0.4477279484272003,
           0.14396625757217407,
           0.30094727873802185,
           0.5004818439483643,
           0.5072482228279114,
           0.48086896538734436,
           0.1671018749475479,
           0.32714366912841797,
           0.4895932376384735,
           0.46621882915496826,
           0.42844340205192566,
           0.17346858978271484,
           0.33964163064956665,
           0.5146327018737793,
           0.4690062999725342,
           0.4235934317111969
          ],
          [
           0.9088582992553711,
           0.9389421343803406,
           0.956633448600769,
           0.9572439789772034,
           0.9414296746253967,
           0.9437450170516968,
           0.9573611617088318,
           0.9708170890808105,
           0.9774374961853027,
           0.9619936347007751,
           0.9633514881134033,
           0.9847552180290222,
           0.99118971824646,
           0.9999998807907104,
           0.9874974489212036,
           0.880108654499054,
           0.9269818067550659,
           0.9484825730323792,
           0.9682312607765198,
           0.971610963344574,
           0.7412375211715698,
           0.8103244304656982,
           0.843683660030365,
           0.8711708784103394,
           0.8910459280014038,
           0.10402550548315048,
           0.2324219048023224,
           0.4735376238822937,
           0.5508836507797241,
           0.5644804835319519,
           0.10075914859771729,
           0.2201194167137146,
           0.39845025539398193,
           0.4563852846622467,
           0.4686810076236725,
           0.12015325576066971,
           0.26958465576171875,
           0.47478312253952026,
           0.5104448795318604,
           0.5031317472457886,
           0.13981707394123077,
           0.2916632294654846,
           0.4606184661388397,
           0.46578067541122437,
           0.44641828536987305,
           0.1450333148241043,
           0.30275070667266846,
           0.4847005307674408,
           0.4675774872303009,
           0.4390799105167389
          ],
          [
           0.8919827938079834,
           0.9231975674629211,
           0.9431871175765991,
           0.9598356485366821,
           0.9636247754096985,
           0.9142913818359375,
           0.9312207698822021,
           0.948057234287262,
           0.9725741147994995,
           0.9805223345756531,
           0.927310585975647,
           0.9520460963249207,
           0.9616401791572571,
           0.9874974489212036,
           1.0000001192092896,
           0.8211663365364075,
           0.8727275729179382,
           0.8995773792266846,
           0.9357065558433533,
           0.9644001126289368,
           0.6620319485664368,
           0.734964907169342,
           0.7731202840805054,
           0.8146604895591736,
           0.8594741225242615,
           0.08852413296699524,
           0.20734134316444397,
           0.44433146715164185,
           0.5460147261619568,
           0.5823748111724854,
           0.08049052208662033,
           0.1888141930103302,
           0.3638557493686676,
           0.4417020082473755,
           0.4760204255580902,
           0.10203929990530014,
           0.24206455051898956,
           0.44237786531448364,
           0.49664628505706787,
           0.5093504786491394,
           0.11445766687393188,
           0.2544938623905182,
           0.417514830827713,
           0.44280800223350525,
           0.4438904821872711,
           0.1140962690114975,
           0.25632455945014954,
           0.43060582876205444,
           0.437351793050766,
           0.4307335615158081
          ],
          [
           0.7686110138893127,
           0.7775141596794128,
           0.7902951240539551,
           0.7480059266090393,
           0.699039101600647,
           0.8449307680130005,
           0.8283743262290955,
           0.8316786885261536,
           0.7889262437820435,
           0.7334494590759277,
           0.9523101449012756,
           0.9280338287353516,
           0.917326033115387,
           0.880108654499054,
           0.8211663365364075,
           0.9999999403953552,
           0.9876943230628967,
           0.9766895771026611,
           0.9553678631782532,
           0.9125028848648071,
           0.9623453617095947,
           0.9759966731071472,
           0.9766318202018738,
           0.9718462824821472,
           0.9491751790046692,
           0.2124115377664566,
           0.3173934817314148,
           0.48977479338645935,
           0.48308470845222473,
           0.4514106214046478,
           0.21608124673366547,
           0.31355395913124084,
           0.434593141078949,
           0.42833301424980164,
           0.40103134512901306,
           0.2385585755109787,
           0.3706689178943634,
           0.5216208696365356,
           0.4909554123878479,
           0.44659164547920227,
           0.2832475006580353,
           0.4216943383216858,
           0.5448825359344482,
           0.4818868339061737,
           0.4234957993030548,
           0.31214433908462524,
           0.4706248641014099,
           0.6110079884529114,
           0.5128113031387329,
           0.43898770213127136
          ],
          [
           0.8059867024421692,
           0.8326494097709656,
           0.8495215773582458,
           0.8140363097190857,
           0.7676788568496704,
           0.8820213079452515,
           0.8850388526916504,
           0.8918680548667908,
           0.8554913401603699,
           0.8018905520439148,
           0.9653328657150269,
           0.9633601903915405,
           0.9572542905807495,
           0.9269818067550659,
           0.8727275729179382,
           0.9876943230628967,
           1.0000001192092896,
           0.9965099096298218,
           0.9800128936767578,
           0.9407767057418823,
           0.9237908720970154,
           0.9620564579963684,
           0.9717908501625061,
           0.9722244143486023,
           0.9536094665527344,
           0.1504203975200653,
           0.2855001986026764,
           0.5089983344078064,
           0.5283147692680359,
           0.5027117133140564,
           0.1605493575334549,
           0.2936656177043915,
           0.461630642414093,
           0.4735553562641144,
           0.44763126969337463,
           0.17557451128959656,
           0.3383146822452545,
           0.5376967191696167,
           0.5298938751220703,
           0.49036067724227905,
           0.21671438217163086,
           0.3895263671875,
           0.5576302409172058,
           0.514011800289154,
           0.46033167839050293,
           0.23440159857273102,
           0.42023396492004395,
           0.6064748167991638,
           0.5336963534355164,
           0.4693889915943146
          ],
          [
           0.8253301978111267,
           0.8544480800628662,
           0.8743247985839844,
           0.8446657657623291,
           0.8023805618286133,
           0.8949161171913147,
           0.9016152024269104,
           0.9126002788543701,
           0.8835772275924683,
           0.8353415131568909,
           0.9698252081871033,
           0.9738010764122009,
           0.972491443157196,
           0.9484825730323792,
           0.8995773792266846,
           0.9766895771026611,
           0.9965099096298218,
           1.0000001192092896,
           0.9891886711120605,
           0.9552539587020874,
           0.9022700786590576,
           0.9473912119865417,
           0.9637050032615662,
           0.9684461951255798,
           0.9543285965919495,
           0.12471363693475723,
           0.2612552344799042,
           0.4998876750469208,
           0.5376330018043518,
           0.5198441743850708,
           0.13293896615505219,
           0.2678802013397217,
           0.449837327003479,
           0.47686782479286194,
           0.4587146043777466,
           0.15003763139247894,
           0.3144567608833313,
           0.5276447534561157,
           0.5344581604003906,
           0.500645637512207,
           0.18971127271652222,
           0.36495834589004517,
           0.5471664667129517,
           0.5172719955444336,
           0.468304842710495,
           0.20718704164028168,
           0.3952142596244812,
           0.5960134267807007,
           0.5363645553588867,
           0.4758361876010895
          ],
          [
           0.8205620646476746,
           0.8518856167793274,
           0.8759879469871521,
           0.8641043305397034,
           0.8365200161933899,
           0.885265588760376,
           0.8948407173156738,
           0.911032497882843,
           0.9024099707603455,
           0.8712477087974548,
           0.9636166095733643,
           0.9710943102836609,
           0.9738971590995789,
           0.9682312607765198,
           0.9357065558433533,
           0.9553678631782532,
           0.9800128936767578,
           0.9891886711120605,
           1.0000001192092896,
           0.9859638214111328,
           0.8630112409591675,
           0.9142334461212158,
           0.935833215713501,
           0.9612778425216675,
           0.9696283340454102,
           0.09929357469081879,
           0.22402945160865784,
           0.4683650732040405,
           0.5494328141212463,
           0.5576378107070923,
           0.10198866575956345,
           0.2247975915670395,
           0.4149450659751892,
           0.4783218801021576,
           0.48672786355018616,
           0.12752017378807068,
           0.2844049334526062,
           0.5052018761634827,
           0.544064998626709,
           0.529511034488678,
           0.16608639061450958,
           0.3336590528488159,
           0.5256413221359253,
           0.5265581607818604,
           0.4955649673938751,
           0.1845928430557251,
           0.3659399449825287,
           0.5779799818992615,
           0.5477856993675232,
           0.5025009512901306
          ],
          [
           0.813461422920227,
           0.845028817653656,
           0.8715270161628723,
           0.8765585422515869,
           0.8695263266563416,
           0.867904007434845,
           0.8793674111366272,
           0.8990749716758728,
           0.9091043472290039,
           0.9019668698310852,
           0.9435071349143982,
           0.9530653953552246,
           0.9590198397636414,
           0.971610963344574,
           0.9644001126289368,
           0.9125028848648071,
           0.9407767057418823,
           0.9552539587020874,
           0.9859638214111328,
           1,
           0.7975094318389893,
           0.8518106341362,
           0.8780216574668884,
           0.921772301197052,
           0.9596057534217834,
           0.08342686295509338,
           0.19836901128292084,
           0.43923863768577576,
           0.5478695631027222,
           0.5815185308456421,
           0.08142230659723282,
           0.1929231733083725,
           0.3803551495075226,
           0.46577465534210205,
           0.49790146946907043,
           0.10998428612947464,
           0.2577296495437622,
           0.4744904339313507,
           0.5332555174827576,
           0.5396220684051514,
           0.14335766434669495,
           0.2996019721031189,
           0.48707154393196106,
           0.5084346532821655,
           0.49779433012008667,
           0.15787585079669952,
           0.3249063193798065,
           0.53138667345047,
           0.5245433449745178,
           0.5001264810562134
          ],
          [
           0.6305714845657349,
           0.6304377913475037,
           0.6443048119544983,
           0.5851577520370483,
           0.5207031965255737,
           0.712001383304596,
           0.6846582293510437,
           0.6876543164253235,
           0.6280558109283447,
           0.5567418932914734,
           0.8502387404441833,
           0.8105878233909607,
           0.797069251537323,
           0.7412375211715698,
           0.6620319485664368,
           0.9623453617095947,
           0.9237908720970154,
           0.9022700786590576,
           0.8630112409591675,
           0.7975094318389893,
           0.9999997019767761,
           0.9864181876182556,
           0.9736191630363464,
           0.9507713913917542,
           0.901914119720459,
           0.1873123049736023,
           0.2647891640663147,
           0.4065345227718353,
           0.39932990074157715,
           0.36725449562072754,
           0.1889055371284485,
           0.26329079270362854,
           0.36778491735458374,
           0.3661509156227112,
           0.34216248989105225,
           0.21949215233325958,
           0.3307059705257416,
           0.4658099412918091,
           0.438207745552063,
           0.39235636591911316,
           0.2741149961948395,
           0.3979843556880951,
           0.5166925191879272,
           0.45595625042915344,
           0.3946283161640167,
           0.321268230676651,
           0.47621580958366394,
           0.6179392337799072,
           0.5108991265296936,
           0.4264404773712158
          ],
          [
           0.6765286326408386,
           0.6975762844085693,
           0.7183119654655457,
           0.6676140427589417,
           0.6058459281921387,
           0.7622723579406738,
           0.7564587593078613,
           0.7646627426147461,
           0.7132205367088318,
           0.6437410712242126,
           0.8843861818313599,
           0.8672285676002502,
           0.8583104014396667,
           0.8103244304656982,
           0.734964907169342,
           0.9759966731071472,
           0.9620564579963684,
           0.9473912119865417,
           0.9142334461212158,
           0.8518106341362,
           0.9864181876182556,
           0.9999999403953552,
           0.9965485334396362,
           0.9808569550514221,
           0.9365472197532654,
           0.12897160649299622,
           0.23761212825775146,
           0.43823352456092834,
           0.46592921018600464,
           0.4447321593761444,
           0.13668552041053772,
           0.2486128807067871,
           0.40744754672050476,
           0.4322013854980469,
           0.41544464230537415,
           0.1632189154624939,
           0.31078657507896423,
           0.504063069820404,
           0.5055931806564331,
           0.46777185797691345,
           0.21581508219242096,
           0.380329966545105,
           0.5523520708084106,
           0.5157088041305542,
           0.4619220495223999,
           0.25214827060699463,
           0.44169288873672485,
           0.6394280195236206,
           0.5610815286636353,
           0.48808613419532776
          ],
          [
           0.7031192779541016,
           0.7292543053627014,
           0.7538450956344604,
           0.709079384803772,
           0.6511024236679077,
           0.7850731611251831,
           0.7851725816726685,
           0.7977514863014221,
           0.7533518075942993,
           0.6885223984718323,
           0.8999003171920776,
           0.8900931477546692,
           0.8856606483459473,
           0.843683660030365,
           0.7731202840805054,
           0.9766318202018738,
           0.9717908501625061,
           0.9637050032615662,
           0.935833215713501,
           0.8780216574668884,
           0.9736191630363464,
           0.9965485334396362,
           0.9999999403953552,
           0.9888907670974731,
           0.9489991664886475,
           0.1080620065331459,
           0.22275984287261963,
           0.44451695680618286,
           0.49056217074394226,
           0.4762786626815796,
           0.11519436538219452,
           0.23409056663513184,
           0.41187381744384766,
           0.45151036977767944,
           0.4414679706096649,
           0.14314214885234833,
           0.2982446253299713,
           0.5111591219902039,
           0.5270413756370544,
           0.494220495223999,
           0.19441628456115723,
           0.3674052357673645,
           0.5579230189323425,
           0.5341677665710449,
           0.4846630394458771,
           0.22881750762462616,
           0.42584455013275146,
           0.6428354382514954,
           0.5774744749069214,
           0.5086514949798584
          ],
          [
           0.6946090459823608,
           0.7263987064361572,
           0.7565301060676575,
           0.7280173897743225,
           0.6835733652114868,
           0.7787911295890808,
           0.7846645712852478,
           0.8028149008750916,
           0.7758871912956238,
           0.7255090475082397,
           0.9028360843658447,
           0.8975009322166443,
           0.8966718912124634,
           0.8711708784103394,
           0.8146604895591736,
           0.9718462824821472,
           0.9722244143486023,
           0.9684461951255798,
           0.9612778425216675,
           0.921772301197052,
           0.9507713913917542,
           0.9808569550514221,
           0.9888907670974731,
           0.9999999403953552,
           0.9831396341323853,
           0.08896130323410034,
           0.19929860532283783,
           0.4341091811656952,
           0.5184769034385681,
           0.5253020524978638,
           0.09449176490306854,
           0.21044638752937317,
           0.40317440032958984,
           0.47411414980888367,
           0.484299898147583,
           0.12843331694602966,
           0.2847462594509125,
           0.5126079320907593,
           0.5561321973800659,
           0.538232684135437,
           0.18113864958286285,
           0.356682151556015,
           0.5636307597160339,
           0.5648487210273743,
           0.528611958026886,
           0.21445998549461365,
           0.41386878490448,
           0.6490581035614014,
           0.6087727546691895,
           0.5522023439407349
          ],
          [
           0.689759373664856,
           0.7245209813117981,
           0.7585021257400513,
           0.7477737069129944,
           0.7245998382568359,
           0.7703526020050049,
           0.78008633852005,
           0.8024762868881226,
           0.7940696477890015,
           0.7672816514968872,
           0.8982548713684082,
           0.8954750895500183,
           0.897563099861145,
           0.8910459280014038,
           0.8594741225242615,
           0.9491751790046692,
           0.9536094665527344,
           0.9543285965919495,
           0.9696283340454102,
           0.9596057534217834,
           0.901914119720459,
           0.9365472197532654,
           0.9489991664886475,
           0.9831396341323853,
           0.9999999403953552,
           0.07594549655914307,
           0.181580051779747,
           0.4202412962913513,
           0.5334829092025757,
           0.5651887655258179,
           0.0793076828122139,
           0.1903492659330368,
           0.3872233033180237,
           0.4805189371109009,
           0.5126532912254333,
           0.11551553755998611,
           0.2694823443889618,
           0.5007542371749878,
           0.5643022060394287,
           0.5661885142326355,
           0.16574764251708984,
           0.3379116356372833,
           0.5474590063095093,
           0.5675361156463623,
           0.5497423410415649,
           0.1938464492559433,
           0.3860899806022644,
           0.6233438849449158,
           0.6056922674179077,
           0.5690515041351318
          ],
          [
           0.2199666053056717,
           0.16139905154705048,
           0.13449832797050476,
           0.1078471839427948,
           0.09098159521818161,
           0.23596329987049103,
           0.17609956860542297,
           0.14660677313804626,
           0.11478585749864578,
           0.09303626418113708,
           0.2359272539615631,
           0.15901002287864685,
           0.12903647124767303,
           0.10402550548315048,
           0.08852413296699524,
           0.2124115377664566,
           0.1504203975200653,
           0.12471363693475723,
           0.09929357469081879,
           0.08342686295509338,
           0.1873123049736023,
           0.12897160649299622,
           0.1080620065331459,
           0.08896130323410034,
           0.07594549655914307,
           1,
           0.945661187171936,
           0.6878817677497864,
           0.3334197998046875,
           0.17182190716266632,
           0.991958498954773,
           0.8834527730941772,
           0.5894370675086975,
           0.2997424900531769,
           0.15644510090351105,
           0.9890707731246948,
           0.9264060854911804,
           0.6301356554031372,
           0.3142039179801941,
           0.17752140760421753,
           0.9838628172874451,
           0.8856428265571594,
           0.5446876883506775,
           0.25833818316459656,
           0.14459238946437836,
           0.9632356762886047,
           0.8795439004898071,
           0.5058175921440125,
           0.22657492756843567,
           0.13088077306747437
          ],
          [
           0.3288406431674957,
           0.29953354597091675,
           0.2761581242084503,
           0.23712430894374847,
           0.20948413014411926,
           0.36852413415908813,
           0.3359813988208771,
           0.3057061433792114,
           0.25599440932273865,
           0.2179466336965561,
           0.34442657232284546,
           0.2973971962928772,
           0.2681789696216583,
           0.2324219048023224,
           0.20734134316444397,
           0.3173934817314148,
           0.2855001986026764,
           0.2612552344799042,
           0.22402945160865784,
           0.19836901128292084,
           0.2647891640663147,
           0.23761212825775146,
           0.22275984287261963,
           0.19929860532283783,
           0.181580051779747,
           0.945661187171936,
           1.0000001192092896,
           0.8513947129249573,
           0.4901929497718811,
           0.29682597517967224,
           0.9695039391517639,
           0.9822728633880615,
           0.7811296582221985,
           0.4743843078613281,
           0.2885722219944,
           0.9213575124740601,
           0.9579554796218872,
           0.7593702673912048,
           0.4500666856765747,
           0.29309114813804626,
           0.9288255572319031,
           0.9441319704055786,
           0.6908038258552551,
           0.39570504426956177,
           0.2589333951473236,
           0.8816643953323364,
           0.8963215947151184,
           0.6129802465438843,
           0.34037357568740845,
           0.23588894307613373
          ],
          [
           0.47136861085891724,
           0.5027839541435242,
           0.5076859593391418,
           0.47399666905403137,
           0.44126975536346436,
           0.5382521152496338,
           0.5629372596740723,
           0.5548906922340393,
           0.5103051066398621,
           0.4641699194908142,
           0.5157451033592224,
           0.5205996036529541,
           0.5049489736557007,
           0.4735376238822937,
           0.44433146715164185,
           0.48977479338645935,
           0.5089983344078064,
           0.4998876750469208,
           0.4683650732040405,
           0.43923863768577576,
           0.4065345227718353,
           0.43823352456092834,
           0.44451695680618286,
           0.4341091811656952,
           0.4202412962913513,
           0.6878817677497864,
           0.8513947129249573,
           1.0000001192092896,
           0.8360514044761658,
           0.67055344581604,
           0.7383449673652649,
           0.8930215835571289,
           0.978683352470398,
           0.8329964876174927,
           0.6722935438156128,
           0.6802043914794922,
           0.8511184453964233,
           0.9352867603302002,
           0.786551296710968,
           0.6555424928665161,
           0.6998666524887085,
           0.8754976987838745,
           0.9105393886566162,
           0.7473891377449036,
           0.6299914121627808,
           0.6360823512077332,
           0.7973388433456421,
           0.8194547295570374,
           0.6795065999031067,
           0.599398672580719
          ],
          [
           0.4369265139102936,
           0.5055137872695923,
           0.5413289666175842,
           0.550227701663971,
           0.5416223406791687,
           0.4950386881828308,
           0.5548300743103027,
           0.5768816471099854,
           0.5857354402542114,
           0.5711711049079895,
           0.5064256191253662,
           0.5420570969581604,
           0.5444767475128174,
           0.5508836507797241,
           0.5460147261619568,
           0.48308470845222473,
           0.5283147692680359,
           0.5376330018043518,
           0.5494328141212463,
           0.5478695631027222,
           0.39932990074157715,
           0.46592921018600464,
           0.49056217074394226,
           0.5184769034385681,
           0.5334829092025757,
           0.3334197998046875,
           0.4901929497718811,
           0.8360514044761658,
           0.9999998807907104,
           0.9576815962791443,
           0.368915855884552,
           0.540632426738739,
           0.8437365293502808,
           0.9831995368003845,
           0.958583414554596,
           0.3558143079280853,
           0.556674063205719,
           0.8475151658058167,
           0.9602380990982056,
           0.9305218458175659,
           0.37662217020988464,
           0.5989127159118652,
           0.8667243719100952,
           0.9450204372406006,
           0.9219036102294922,
           0.3345988392829895,
           0.5488892197608948,
           0.8261445164680481,
           0.9048267602920532,
           0.898281991481781
          ],
          [
           0.40250757336616516,
           0.48263368010520935,
           0.532061755657196,
           0.5675840973854065,
           0.5806611776351929,
           0.44775161147117615,
           0.5180436372756958,
           0.5532867312431335,
           0.5941645503044128,
           0.6075839400291443,
           0.4794825315475464,
           0.5235966444015503,
           0.5339727997779846,
           0.5644804835319519,
           0.5823748111724854,
           0.4514106214046478,
           0.5027117133140564,
           0.5198441743850708,
           0.5576378107070923,
           0.5815185308456421,
           0.36725449562072754,
           0.4447321593761444,
           0.4762786626815796,
           0.5253020524978638,
           0.5651887655258179,
           0.17182190716266632,
           0.29682597517967224,
           0.67055344581604,
           0.9576815962791443,
           1.0000001192092896,
           0.19002580642700195,
           0.33524733781814575,
           0.6770676970481873,
           0.9242797493934631,
           0.9858936071395874,
           0.2076347917318344,
           0.39662694931030273,
           0.7318860292434692,
           0.9392192959785461,
           0.9744530916213989,
           0.2251272201538086,
           0.4375987648963928,
           0.7560505867004395,
           0.9236621856689453,
           0.9603011012077332,
           0.19810019433498383,
           0.40746748447418213,
           0.7459471225738525,
           0.9021501541137695,
           0.9430818557739258
          ],
          [
           0.20484600961208344,
           0.15605585277080536,
           0.13002917170524597,
           0.09741440415382385,
           0.0765329971909523,
           0.23537123203277588,
           0.18474966287612915,
           0.1541038304567337,
           0.11298543214797974,
           0.08382011204957962,
           0.23138241469860077,
           0.1624627560377121,
           0.13165557384490967,
           0.10075914859771729,
           0.08049052208662033,
           0.21608124673366547,
           0.1605493575334549,
           0.13293896615505219,
           0.10198866575956345,
           0.08142230659723282,
           0.1889055371284485,
           0.13668552041053772,
           0.11519436538219452,
           0.09449176490306854,
           0.0793076828122139,
           0.991958498954773,
           0.9695039391517639,
           0.7383449673652649,
           0.368915855884552,
           0.19002580642700195,
           0.9999999403953552,
           0.9293079972267151,
           0.6589295864105225,
           0.3519784212112427,
           0.18600444495677948,
           0.9793916344642639,
           0.9478375911712646,
           0.6763360500335693,
           0.35045480728149414,
           0.2001955211162567,
           0.9787310361862183,
           0.9157702326774597,
           0.5969269871711731,
           0.2978287935256958,
           0.1711834818124771,
           0.9480729699134827,
           0.8935735821723938,
           0.5420464277267456,
           0.25725990533828735,
           0.1551421582698822
          ],
          [
           0.2840088903903961,
           0.27455413341522217,
           0.25662389397621155,
           0.21147814393043518,
           0.17905549705028534,
           0.34584397077560425,
           0.33213114738464355,
           0.3038206100463867,
           0.24370712041854858,
           0.19636036455631256,
           0.32181254029273987,
           0.2906660735607147,
           0.2624075710773468,
           0.2201194167137146,
           0.1888141930103302,
           0.31355395913124084,
           0.2936656177043915,
           0.2678802013397217,
           0.2247975915670395,
           0.1929231733083725,
           0.26329079270362854,
           0.2486128807067871,
           0.23409056663513184,
           0.21044638752937317,
           0.1903492659330368,
           0.8834527730941772,
           0.9822728633880615,
           0.8930215835571289,
           0.540632426738739,
           0.33524733781814575,
           0.9293079972267151,
           1.0000001192092896,
           0.857545793056488,
           0.5520450472831726,
           0.34641727805137634,
           0.8609986305236816,
           0.9454383850097656,
           0.807167649269104,
           0.5089559555053711,
           0.34265854954719543,
           0.8759458065032959,
           0.9486900568008423,
           0.7550088167190552,
           0.4640447497367859,
           0.3173433542251587,
           0.8154696822166443,
           0.8787196278572083,
           0.6585650444030762,
           0.3990096151828766,
           0.29246070981025696
          ],
          [
           0.35410937666893005,
           0.4047139585018158,
           0.4165388345718384,
           0.37936607003211975,
           0.3438514769077301,
           0.44297733902931213,
           0.48629605770111084,
           0.48188257217407227,
           0.4300152063369751,
           0.3768400251865387,
           0.4292968213558197,
           0.4485715925693512,
           0.43462687730789185,
           0.39845025539398193,
           0.3638557493686676,
           0.434593141078949,
           0.461630642414093,
           0.449837327003479,
           0.4149450659751892,
           0.3803551495075226,
           0.36778491735458374,
           0.40744754672050476,
           0.41187381744384766,
           0.40317440032958984,
           0.3872233033180237,
           0.5894370675086975,
           0.7811296582221985,
           0.978683352470398,
           0.8437365293502808,
           0.6770676970481873,
           0.6589295864105225,
           0.857545793056488,
           1.0000001192092896,
           0.874637246131897,
           0.7059558629989624,
           0.5875834226608276,
           0.7927479147911072,
           0.9333275556564331,
           0.8129255771636963,
           0.6811150312423706,
           0.6138710379600525,
           0.8342219591140747,
           0.9308595657348633,
           0.7901915311813354,
           0.671339750289917,
           0.5416620969772339,
           0.7409818172454834,
           0.829684853553772,
           0.7187318205833435,
           0.6422134637832642
          ],
          [
           0.31811991333961487,
           0.397897332906723,
           0.4365927278995514,
           0.4361838102340698,
           0.4208901822566986,
           0.39727985858917236,
           0.46786314249038696,
           0.4898025393486023,
           0.4846809506416321,
           0.45867055654525757,
           0.417962908744812,
           0.45949414372444153,
           0.46060097217559814,
           0.4563852846622467,
           0.4417020082473755,
           0.42833301424980164,
           0.4735553562641144,
           0.47686782479286194,
           0.4783218801021576,
           0.46577465534210205,
           0.3661509156227112,
           0.4322013854980469,
           0.45151036977767944,
           0.47411414980888367,
           0.4805189371109009,
           0.2997424900531769,
           0.4743843078613281,
           0.8329964876174927,
           0.9831995368003845,
           0.9242797493934631,
           0.3519784212112427,
           0.5520450472831726,
           0.874637246131897,
           1,
           0.9531848430633545,
           0.32607439160346985,
           0.5480383634567261,
           0.8586606979370117,
           0.9644116163253784,
           0.9211925864219666,
           0.35151708126068115,
           0.6011132597923279,
           0.8911542296409607,
           0.9612572193145752,
           0.9258396029472351,
           0.3020235300064087,
           0.5388201475143433,
           0.8396835923194885,
           0.9168229103088379,
           0.90385502576828
          ],
          [
           0.2862400412559509,
           0.3732585608959198,
           0.4257132411003113,
           0.45373988151550293,
           0.45985960960388184,
           0.3482719659805298,
           0.4245866537094116,
           0.460480272769928,
           0.49088579416275024,
           0.4937465786933899,
           0.39400291442871094,
           0.4388195276260376,
           0.4477279484272003,
           0.4686810076236725,
           0.4760204255580902,
           0.40103134512901306,
           0.44763126969337463,
           0.4587146043777466,
           0.48672786355018616,
           0.49790146946907043,
           0.34216248989105225,
           0.41544464230537415,
           0.4414679706096649,
           0.484299898147583,
           0.5126532912254333,
           0.15644510090351105,
           0.2885722219944,
           0.6722935438156128,
           0.958583414554596,
           0.9858936071395874,
           0.18600444495677948,
           0.34641727805137634,
           0.7059558629989624,
           0.9531848430633545,
           0.9999998211860657,
           0.19642426073551178,
           0.3964458703994751,
           0.7471411824226379,
           0.9582541584968567,
           0.9833822846412659,
           0.21821443736553192,
           0.4466899037361145,
           0.7850643396377563,
           0.9557538628578186,
           0.9839886426925659,
           0.18797992169857025,
           0.4118809700012207,
           0.7715274691581726,
           0.9336705207824707,
           0.9690796732902527
          ],
          [
           0.2000848948955536,
           0.149667888879776,
           0.13077616691589355,
           0.10684220492839813,
           0.0895780622959137,
           0.22612224519252777,
           0.1733034998178482,
           0.15018774569034576,
           0.12124436348676682,
           0.09832830727100372,
           0.24967049062252045,
           0.172570139169693,
           0.14396625757217407,
           0.12015325576066971,
           0.10203929990530014,
           0.2385585755109787,
           0.17557451128959656,
           0.15003763139247894,
           0.12752017378807068,
           0.10998428612947464,
           0.21949215233325958,
           0.1632189154624939,
           0.14314214885234833,
           0.12843331694602966,
           0.11551553755998611,
           0.9890707731246948,
           0.9213575124740601,
           0.6802043914794922,
           0.3558143079280853,
           0.2076347917318344,
           0.9793916344642639,
           0.8609986305236816,
           0.5875834226608276,
           0.32607439160346985,
           0.19642426073551178,
           1,
           0.9435105323791504,
           0.6708384156227112,
           0.36745813488960266,
           0.23257465660572052,
           0.993273138999939,
           0.9000285267829895,
           0.5830667614936829,
           0.31028518080711365,
           0.19945353269577026,
           0.9800994992256165,
           0.9061696529388428,
           0.5595443248748779,
           0.28658193349838257,
           0.1899096518754959
          ],
          [
           0.2895597815513611,
           0.2805807888507843,
           0.2758183479309082,
           0.24458938837051392,
           0.21805240213871002,
           0.3492863178253174,
           0.33421042561531067,
           0.3181026875972748,
           0.27681291103363037,
           0.23913051187992096,
           0.3721049726009369,
           0.32699549198150635,
           0.30094727873802185,
           0.26958465576171875,
           0.24206455051898956,
           0.3706689178943634,
           0.3383146822452545,
           0.3144567608833313,
           0.2844049334526062,
           0.2577296495437622,
           0.3307059705257416,
           0.31078657507896423,
           0.2982446253299713,
           0.2847462594509125,
           0.2694823443889618,
           0.9264060854911804,
           0.9579554796218872,
           0.8511184453964233,
           0.556674063205719,
           0.39662694931030273,
           0.9478375911712646,
           0.9454383850097656,
           0.7927479147911072,
           0.5480383634567261,
           0.3964458703994751,
           0.9435105323791504,
           1,
           0.8587234020233154,
           0.5807732939720154,
           0.4336039125919342,
           0.9490450620651245,
           0.9830672144889832,
           0.7857745289802551,
           0.5224811434745789,
           0.3975244462490082,
           0.9145269393920898,
           0.9567853212356567,
           0.7368946075439453,
           0.4821981191635132,
           0.38261106610298157
          ],
          [
           0.3707960247993469,
           0.426971971988678,
           0.4556093215942383,
           0.4320068955421448,
           0.4013458788394928,
           0.4626658260822296,
           0.5081868171691895,
           0.5180434584617615,
           0.4843796491622925,
           0.43984854221343994,
           0.5038069486618042,
           0.5114338397979736,
           0.5004818439483643,
           0.47478312253952026,
           0.44237786531448364,
           0.5216208696365356,
           0.5376967191696167,
           0.5276447534561157,
           0.5052018761634827,
           0.4744904339313507,
           0.4658099412918091,
           0.504063069820404,
           0.5111591219902039,
           0.5126079320907593,
           0.5007542371749878,
           0.6301356554031372,
           0.7593702673912048,
           0.9352867603302002,
           0.8475151658058167,
           0.7318860292434692,
           0.6763360500335693,
           0.807167649269104,
           0.9333275556564331,
           0.8586606979370117,
           0.7471411824226379,
           0.6708384156227112,
           0.8587234020233154,
           1.0000001192092896,
           0.8902167081832886,
           0.7776893973350525,
           0.6905148029327393,
           0.8837264776229858,
           0.9752094745635986,
           0.8508465886116028,
           0.7525281310081482,
           0.6457929611206055,
           0.837427020072937,
           0.927094042301178,
           0.807873547077179,
           0.7361742258071899
          ],
          [
           0.32389143109321594,
           0.40969252586364746,
           0.4614318311214447,
           0.4703699052333832,
           0.45805689692497253,
           0.40662601590156555,
           0.48012417554855347,
           0.5127522349357605,
           0.5201695561408997,
           0.4999951422214508,
           0.4671841561794281,
           0.5030912160873413,
           0.5072482228279114,
           0.5104448795318604,
           0.49664628505706787,
           0.4909554123878479,
           0.5298938751220703,
           0.5344581604003906,
           0.544064998626709,
           0.5332555174827576,
           0.438207745552063,
           0.5055931806564331,
           0.5270413756370544,
           0.5561321973800659,
           0.5643022060394287,
           0.3142039179801941,
           0.4500666856765747,
           0.786551296710968,
           0.9602380990982056,
           0.9392192959785461,
           0.35045480728149414,
           0.5089559555053711,
           0.8129255771636963,
           0.9644116163253784,
           0.9582541584968567,
           0.36745813488960266,
           0.5807732939720154,
           0.8902167081832886,
           0.9999998807907104,
           0.9716451168060303,
           0.3912193179130554,
           0.6278311610221863,
           0.9104974269866943,
           0.9862246513366699,
           0.9646126627922058,
           0.3600212633609772,
           0.597815990447998,
           0.8972867727279663,
           0.9633945822715759,
           0.953027606010437
          ],
          [
           0.29014551639556885,
           0.38319697976112366,
           0.4434767961502075,
           0.47392958402633667,
           0.4803823232650757,
           0.3586072027683258,
           0.438729852437973,
           0.48003822565078735,
           0.5131661295890808,
           0.5171101093292236,
           0.428347647190094,
           0.4710177183151245,
           0.48086896538734436,
           0.5031317472457886,
           0.5093504786491394,
           0.44659164547920227,
           0.49036067724227905,
           0.500645637512207,
           0.529511034488678,
           0.5396220684051514,
           0.39235636591911316,
           0.46777185797691345,
           0.494220495223999,
           0.538232684135437,
           0.5661885142326355,
           0.17752140760421753,
           0.29309114813804626,
           0.6555424928665161,
           0.9305218458175659,
           0.9744530916213989,
           0.2001955211162567,
           0.34265854954719543,
           0.6811150312423706,
           0.9211925864219666,
           0.9833822846412659,
           0.23257465660572052,
           0.4336039125919342,
           0.7776893973350525,
           0.9716451168060303,
           0.9999997615814209,
           0.25388485193252563,
           0.4810122549533844,
           0.8051102757453918,
           0.9595204591751099,
           0.99005126953125,
           0.23063120245933533,
           0.4597639739513397,
           0.8082343935966492,
           0.9470481276512146,
           0.980799674987793
          ],
          [
           0.1997629553079605,
           0.15109141170978546,
           0.13516969978809357,
           0.10769783705472946,
           0.08614408224821091,
           0.23539263010025024,
           0.1821449100971222,
           0.16100791096687317,
           0.12791754305362701,
           0.09943487495183945,
           0.2731100916862488,
           0.19479970633983612,
           0.1671018749475479,
           0.13981707394123077,
           0.11445766687393188,
           0.2832475006580353,
           0.21671438217163086,
           0.18971127271652222,
           0.16608639061450958,
           0.14335766434669495,
           0.2741149961948395,
           0.21581508219242096,
           0.19441628456115723,
           0.18113864958286285,
           0.16574764251708984,
           0.9838628172874451,
           0.9288255572319031,
           0.6998666524887085,
           0.37662217020988464,
           0.2251272201538086,
           0.9787310361862183,
           0.8759458065032959,
           0.6138710379600525,
           0.35151708126068115,
           0.21821443736553192,
           0.993273138999939,
           0.9490450620651245,
           0.6905148029327393,
           0.3912193179130554,
           0.25388485193252563,
           0.9999999403953552,
           0.925635576248169,
           0.6244031190872192,
           0.3481628894805908,
           0.22999288141727448,
           0.9896066784858704,
           0.9366053342819214,
           0.6092585921287537,
           0.3306613564491272,
           0.22514083981513977
          ],
          [
           0.2756941020488739,
           0.27536118030548096,
           0.2774903178215027,
           0.24200306832790375,
           0.20942366123199463,
           0.3501090109348297,
           0.3409947156906128,
           0.3298080563545227,
           0.2833419740200043,
           0.2377636730670929,
           0.3901900351047516,
           0.3500749170780182,
           0.32714366912841797,
           0.2916632294654846,
           0.2544938623905182,
           0.4216943383216858,
           0.3895263671875,
           0.36495834589004517,
           0.3336590528488159,
           0.2996019721031189,
           0.3979843556880951,
           0.380329966545105,
           0.3674052357673645,
           0.356682151556015,
           0.3379116356372833,
           0.8856428265571594,
           0.9441319704055786,
           0.8754976987838745,
           0.5989127159118652,
           0.4375987648963928,
           0.9157702326774597,
           0.9486900568008423,
           0.8342219591140747,
           0.6011132597923279,
           0.4466899037361145,
           0.9000285267829895,
           0.9830672144889832,
           0.8837264776229858,
           0.6278311610221863,
           0.4810122549533844,
           0.925635576248169,
           1.0000001192092896,
           0.8483648300170898,
           0.5933728218078613,
           0.46093428134918213,
           0.8919252157211304,
           0.9756560325622559,
           0.8082941770553589,
           0.5602626800537109,
           0.45225536823272705
          ],
          [
           0.31893497705459595,
           0.38031938672065735,
           0.4157472252845764,
           0.3887762427330017,
           0.352056086063385,
           0.422414630651474,
           0.4710552394390106,
           0.4869871735572815,
           0.45008963346481323,
           0.39806094765663147,
           0.4854879081249237,
           0.4961698651313782,
           0.4895932376384735,
           0.4606184661388397,
           0.417514830827713,
           0.5448825359344482,
           0.5576302409172058,
           0.5471664667129517,
           0.5256413221359253,
           0.48707154393196106,
           0.5166925191879272,
           0.5523520708084106,
           0.5579230189323425,
           0.5636307597160339,
           0.5474590063095093,
           0.5446876883506775,
           0.6908038258552551,
           0.9105393886566162,
           0.8667243719100952,
           0.7560505867004395,
           0.5969269871711731,
           0.7550088167190552,
           0.9308595657348633,
           0.8911542296409607,
           0.7850643396377563,
           0.5830667614936829,
           0.7857745289802551,
           0.9752094745635986,
           0.9104974269866943,
           0.8051102757453918,
           0.6244031190872192,
           0.8483648300170898,
           0.9999999403953552,
           0.9060676097869873,
           0.8055647015571594,
           0.5863113403320312,
           0.8116430044174194,
           0.969659149646759,
           0.876284658908844,
           0.7982220649719238
          ],
          [
           0.2598247230052948,
           0.3443315923213959,
           0.39875897765159607,
           0.4038597643375397,
           0.3860243260860443,
           0.3490142226219177,
           0.42042678594589233,
           0.45606347918510437,
           0.4598589241504669,
           0.43303176760673523,
           0.42540937662124634,
           0.45956411957740784,
           0.46621882915496826,
           0.46578067541122437,
           0.44280800223350525,
           0.4818868339061737,
           0.514011800289154,
           0.5172719955444336,
           0.5265581607818604,
           0.5084346532821655,
           0.45595625042915344,
           0.5157088041305542,
           0.5341677665710449,
           0.5648487210273743,
           0.5675361156463623,
           0.25833818316459656,
           0.39570504426956177,
           0.7473891377449036,
           0.9450204372406006,
           0.9236621856689453,
           0.2978287935256958,
           0.4640447497367859,
           0.7901915311813354,
           0.9612572193145752,
           0.9557538628578186,
           0.31028518080711365,
           0.5224811434745789,
           0.8508465886116028,
           0.9862246513366699,
           0.9595204591751099,
           0.3481628894805908,
           0.5933728218078613,
           0.9060676097869873,
           0.9999999403953552,
           0.9744799137115479,
           0.32410958409309387,
           0.5738683342933655,
           0.9079443216323853,
           0.9884442090988159,
           0.9704846143722534
          ],
          [
           0.22222162783145905,
           0.3131856322288513,
           0.37434759736061096,
           0.40050968527793884,
           0.4010421931743622,
           0.2967873215675354,
           0.37458235025405884,
           0.41699862480163574,
           0.44584307074546814,
           0.44250673055648804,
           0.3774242699146271,
           0.41772282123565674,
           0.42844340205192566,
           0.44641828536987305,
           0.4438904821872711,
           0.4234957993030548,
           0.46033167839050293,
           0.468304842710495,
           0.4955649673938751,
           0.49779433012008667,
           0.3946283161640167,
           0.4619220495223999,
           0.4846630394458771,
           0.528611958026886,
           0.5497423410415649,
           0.14459238946437836,
           0.2589333951473236,
           0.6299914121627808,
           0.9219036102294922,
           0.9603011012077332,
           0.1711834818124771,
           0.3173433542251587,
           0.671339750289917,
           0.9258396029472351,
           0.9839886426925659,
           0.19945353269577026,
           0.3975244462490082,
           0.7525281310081482,
           0.9646126627922058,
           0.99005126953125,
           0.22999288141727448,
           0.46093428134918213,
           0.8055647015571594,
           0.9744799137115479,
           1,
           0.21168147027492523,
           0.4474366307258606,
           0.8192415833473206,
           0.9701175093650818,
           0.996618390083313
          ],
          [
           0.20001520216464996,
           0.1422264575958252,
           0.12724493443965912,
           0.09925856441259384,
           0.0750616118311882,
           0.23161758482456207,
           0.1680760681629181,
           0.1492341011762619,
           0.11803874373435974,
           0.0882992073893547,
           0.28907862305641174,
           0.2003481686115265,
           0.17346858978271484,
           0.1450333148241043,
           0.1140962690114975,
           0.31214433908462524,
           0.23440159857273102,
           0.20718704164028168,
           0.1845928430557251,
           0.15787585079669952,
           0.321268230676651,
           0.25214827060699463,
           0.22881750762462616,
           0.21445998549461365,
           0.1938464492559433,
           0.9632356762886047,
           0.8816643953323364,
           0.6360823512077332,
           0.3345988392829895,
           0.19810019433498383,
           0.9480729699134827,
           0.8154696822166443,
           0.5416620969772339,
           0.3020235300064087,
           0.18797992169857025,
           0.9800994992256165,
           0.9145269393920898,
           0.6457929611206055,
           0.3600212633609772,
           0.23063120245933533,
           0.9896066784858704,
           0.8919252157211304,
           0.5863113403320312,
           0.32410958409309387,
           0.21168147027492523,
           1.0000001192092896,
           0.9338648915290833,
           0.6044060587882996,
           0.3264886438846588,
           0.21599295735359192
          ],
          [
           0.27712684869766235,
           0.26278597116470337,
           0.2670702040195465,
           0.23107430338859558,
           0.19368089735507965,
           0.3463585078716278,
           0.3211723566055298,
           0.3139370083808899,
           0.27108725905418396,
           0.22294804453849792,
           0.4180247485637665,
           0.36129435896873474,
           0.33964163064956665,
           0.30275070667266846,
           0.25632455945014954,
           0.4706248641014099,
           0.42023396492004395,
           0.3952142596244812,
           0.3659399449825287,
           0.3249063193798065,
           0.47621580958366394,
           0.44169288873672485,
           0.42584455013275146,
           0.41386878490448,
           0.3860899806022644,
           0.8795439004898071,
           0.8963215947151184,
           0.7973388433456421,
           0.5488892197608948,
           0.40746748447418213,
           0.8935735821723938,
           0.8787196278572083,
           0.7409818172454834,
           0.5388201475143433,
           0.4118809700012207,
           0.9061696529388428,
           0.9567853212356567,
           0.837427020072937,
           0.597815990447998,
           0.4597639739513397,
           0.9366053342819214,
           0.9756560325622559,
           0.8116430044174194,
           0.5738683342933655,
           0.4474366307258606,
           0.9338648915290833,
           0.9999998807907104,
           0.8240118026733398,
           0.5719646215438843,
           0.4532676339149475
          ],
          [
           0.31763947010040283,
           0.3695449233055115,
           0.41082608699798584,
           0.38441622257232666,
           0.34228450059890747,
           0.4191415309906006,
           0.45500966906547546,
           0.4776970148086548,
           0.446012407541275,
           0.3909832835197449,
           0.5216962099075317,
           0.5184482336044312,
           0.5146327018737793,
           0.4847005307674408,
           0.43060582876205444,
           0.6110079884529114,
           0.6064748167991638,
           0.5960134267807007,
           0.5779799818992615,
           0.53138667345047,
           0.6179392337799072,
           0.6394280195236206,
           0.6428354382514954,
           0.6490581035614014,
           0.6233438849449158,
           0.5058175921440125,
           0.6129802465438843,
           0.8194547295570374,
           0.8261445164680481,
           0.7459471225738525,
           0.5420464277267456,
           0.6585650444030762,
           0.829684853553772,
           0.8396835923194885,
           0.7715274691581726,
           0.5595443248748779,
           0.7368946075439453,
           0.927094042301178,
           0.8972867727279663,
           0.8082343935966492,
           0.6092585921287537,
           0.8082941770553589,
           0.969659149646759,
           0.9079443216323853,
           0.8192415833473206,
           0.6044060587882996,
           0.8240118026733398,
           1.0000001192092896,
           0.9149532914161682,
           0.8294800519943237
          ],
          [
           0.2455620914697647,
           0.3238827884197235,
           0.3813682794570923,
           0.3864719569683075,
           0.3652512729167938,
           0.3343404233455658,
           0.39749228954315186,
           0.43669572472572327,
           0.44301119446754456,
           0.4140104055404663,
           0.4351085126399994,
           0.4607856273651123,
           0.4690062999725342,
           0.4675774872303009,
           0.437351793050766,
           0.5128113031387329,
           0.5336963534355164,
           0.5363645553588867,
           0.5477856993675232,
           0.5245433449745178,
           0.5108991265296936,
           0.5610815286636353,
           0.5774744749069214,
           0.6087727546691895,
           0.6056922674179077,
           0.22657492756843567,
           0.34037357568740845,
           0.6795065999031067,
           0.9048267602920532,
           0.9021501541137695,
           0.25725990533828735,
           0.3990096151828766,
           0.7187318205833435,
           0.9168229103088379,
           0.9336705207824707,
           0.28658193349838257,
           0.4821981191635132,
           0.807873547077179,
           0.9633945822715759,
           0.9470481276512146,
           0.3306613564491272,
           0.5602626800537109,
           0.876284658908844,
           0.9884442090988159,
           0.9701175093650818,
           0.3264886438846588,
           0.5719646215438843,
           0.9149532914161682,
           1,
           0.9776697158813477
          ],
          [
           0.20435050129890442,
           0.29312676191329956,
           0.3559543788433075,
           0.38018035888671875,
           0.37736842036247253,
           0.28190815448760986,
           0.35632577538490295,
           0.4001336097717285,
           0.4275500178337097,
           0.4207751154899597,
           0.37643566727638245,
           0.4125876724720001,
           0.4235934317111969,
           0.4390799105167389,
           0.4307335615158081,
           0.43898770213127136,
           0.4693889915943146,
           0.4758361876010895,
           0.5025009512901306,
           0.5001264810562134,
           0.4264404773712158,
           0.48808613419532776,
           0.5086514949798584,
           0.5522023439407349,
           0.5690515041351318,
           0.13088077306747437,
           0.23588894307613373,
           0.599398672580719,
           0.898281991481781,
           0.9430818557739258,
           0.1551421582698822,
           0.29246070981025696,
           0.6422134637832642,
           0.90385502576828,
           0.9690796732902527,
           0.1899096518754959,
           0.38261106610298157,
           0.7361742258071899,
           0.953027606010437,
           0.980799674987793,
           0.22514083981513977,
           0.45225536823272705,
           0.7982220649719238,
           0.9704846143722534,
           0.996618390083313,
           0.21599295735359192,
           0.4532676339149475,
           0.8294800519943237,
           0.9776697158813477,
           1.0000001192092896
          ]
         ]
        }
       ],
       "layout": {
        "coloraxis": {
         "colorscale": [
          [
           0,
           "#0d0887"
          ],
          [
           0.1111111111111111,
           "#46039f"
          ],
          [
           0.2222222222222222,
           "#7201a8"
          ],
          [
           0.3333333333333333,
           "#9c179e"
          ],
          [
           0.4444444444444444,
           "#bd3786"
          ],
          [
           0.5555555555555556,
           "#d8576b"
          ],
          [
           0.6666666666666666,
           "#ed7953"
          ],
          [
           0.7777777777777778,
           "#fb9f3a"
          ],
          [
           0.8888888888888888,
           "#fdca26"
          ],
          [
           1,
           "#f0f921"
          ]
         ]
        },
        "margin": {
         "t": 60
        },
        "template": {
         "data": {
          "bar": [
           {
            "error_x": {
             "color": "#2a3f5f"
            },
            "error_y": {
             "color": "#2a3f5f"
            },
            "marker": {
             "line": {
              "color": "#E5ECF6",
              "width": 0.5
             },
             "pattern": {
              "fillmode": "overlay",
              "size": 10,
              "solidity": 0.2
             }
            },
            "type": "bar"
           }
          ],
          "barpolar": [
           {
            "marker": {
             "line": {
              "color": "#E5ECF6",
              "width": 0.5
             },
             "pattern": {
              "fillmode": "overlay",
              "size": 10,
              "solidity": 0.2
             }
            },
            "type": "barpolar"
           }
          ],
          "carpet": [
           {
            "aaxis": {
             "endlinecolor": "#2a3f5f",
             "gridcolor": "white",
             "linecolor": "white",
             "minorgridcolor": "white",
             "startlinecolor": "#2a3f5f"
            },
            "baxis": {
             "endlinecolor": "#2a3f5f",
             "gridcolor": "white",
             "linecolor": "white",
             "minorgridcolor": "white",
             "startlinecolor": "#2a3f5f"
            },
            "type": "carpet"
           }
          ],
          "choropleth": [
           {
            "colorbar": {
             "outlinewidth": 0,
             "ticks": ""
            },
            "type": "choropleth"
           }
          ],
          "contour": [
           {
            "colorbar": {
             "outlinewidth": 0,
             "ticks": ""
            },
            "colorscale": [
             [
              0,
              "#0d0887"
             ],
             [
              0.1111111111111111,
              "#46039f"
             ],
             [
              0.2222222222222222,
              "#7201a8"
             ],
             [
              0.3333333333333333,
              "#9c179e"
             ],
             [
              0.4444444444444444,
              "#bd3786"
             ],
             [
              0.5555555555555556,
              "#d8576b"
             ],
             [
              0.6666666666666666,
              "#ed7953"
             ],
             [
              0.7777777777777778,
              "#fb9f3a"
             ],
             [
              0.8888888888888888,
              "#fdca26"
             ],
             [
              1,
              "#f0f921"
             ]
            ],
            "type": "contour"
           }
          ],
          "contourcarpet": [
           {
            "colorbar": {
             "outlinewidth": 0,
             "ticks": ""
            },
            "type": "contourcarpet"
           }
          ],
          "heatmap": [
           {
            "colorbar": {
             "outlinewidth": 0,
             "ticks": ""
            },
            "colorscale": [
             [
              0,
              "#0d0887"
             ],
             [
              0.1111111111111111,
              "#46039f"
             ],
             [
              0.2222222222222222,
              "#7201a8"
             ],
             [
              0.3333333333333333,
              "#9c179e"
             ],
             [
              0.4444444444444444,
              "#bd3786"
             ],
             [
              0.5555555555555556,
              "#d8576b"
             ],
             [
              0.6666666666666666,
              "#ed7953"
             ],
             [
              0.7777777777777778,
              "#fb9f3a"
             ],
             [
              0.8888888888888888,
              "#fdca26"
             ],
             [
              1,
              "#f0f921"
             ]
            ],
            "type": "heatmap"
           }
          ],
          "heatmapgl": [
           {
            "colorbar": {
             "outlinewidth": 0,
             "ticks": ""
            },
            "colorscale": [
             [
              0,
              "#0d0887"
             ],
             [
              0.1111111111111111,
              "#46039f"
             ],
             [
              0.2222222222222222,
              "#7201a8"
             ],
             [
              0.3333333333333333,
              "#9c179e"
             ],
             [
              0.4444444444444444,
              "#bd3786"
             ],
             [
              0.5555555555555556,
              "#d8576b"
             ],
             [
              0.6666666666666666,
              "#ed7953"
             ],
             [
              0.7777777777777778,
              "#fb9f3a"
             ],
             [
              0.8888888888888888,
              "#fdca26"
             ],
             [
              1,
              "#f0f921"
             ]
            ],
            "type": "heatmapgl"
           }
          ],
          "histogram": [
           {
            "marker": {
             "pattern": {
              "fillmode": "overlay",
              "size": 10,
              "solidity": 0.2
             }
            },
            "type": "histogram"
           }
          ],
          "histogram2d": [
           {
            "colorbar": {
             "outlinewidth": 0,
             "ticks": ""
            },
            "colorscale": [
             [
              0,
              "#0d0887"
             ],
             [
              0.1111111111111111,
              "#46039f"
             ],
             [
              0.2222222222222222,
              "#7201a8"
             ],
             [
              0.3333333333333333,
              "#9c179e"
             ],
             [
              0.4444444444444444,
              "#bd3786"
             ],
             [
              0.5555555555555556,
              "#d8576b"
             ],
             [
              0.6666666666666666,
              "#ed7953"
             ],
             [
              0.7777777777777778,
              "#fb9f3a"
             ],
             [
              0.8888888888888888,
              "#fdca26"
             ],
             [
              1,
              "#f0f921"
             ]
            ],
            "type": "histogram2d"
           }
          ],
          "histogram2dcontour": [
           {
            "colorbar": {
             "outlinewidth": 0,
             "ticks": ""
            },
            "colorscale": [
             [
              0,
              "#0d0887"
             ],
             [
              0.1111111111111111,
              "#46039f"
             ],
             [
              0.2222222222222222,
              "#7201a8"
             ],
             [
              0.3333333333333333,
              "#9c179e"
             ],
             [
              0.4444444444444444,
              "#bd3786"
             ],
             [
              0.5555555555555556,
              "#d8576b"
             ],
             [
              0.6666666666666666,
              "#ed7953"
             ],
             [
              0.7777777777777778,
              "#fb9f3a"
             ],
             [
              0.8888888888888888,
              "#fdca26"
             ],
             [
              1,
              "#f0f921"
             ]
            ],
            "type": "histogram2dcontour"
           }
          ],
          "mesh3d": [
           {
            "colorbar": {
             "outlinewidth": 0,
             "ticks": ""
            },
            "type": "mesh3d"
           }
          ],
          "parcoords": [
           {
            "line": {
             "colorbar": {
              "outlinewidth": 0,
              "ticks": ""
             }
            },
            "type": "parcoords"
           }
          ],
          "pie": [
           {
            "automargin": true,
            "type": "pie"
           }
          ],
          "scatter": [
           {
            "marker": {
             "colorbar": {
              "outlinewidth": 0,
              "ticks": ""
             }
            },
            "type": "scatter"
           }
          ],
          "scatter3d": [
           {
            "line": {
             "colorbar": {
              "outlinewidth": 0,
              "ticks": ""
             }
            },
            "marker": {
             "colorbar": {
              "outlinewidth": 0,
              "ticks": ""
             }
            },
            "type": "scatter3d"
           }
          ],
          "scattercarpet": [
           {
            "marker": {
             "colorbar": {
              "outlinewidth": 0,
              "ticks": ""
             }
            },
            "type": "scattercarpet"
           }
          ],
          "scattergeo": [
           {
            "marker": {
             "colorbar": {
              "outlinewidth": 0,
              "ticks": ""
             }
            },
            "type": "scattergeo"
           }
          ],
          "scattergl": [
           {
            "marker": {
             "colorbar": {
              "outlinewidth": 0,
              "ticks": ""
             }
            },
            "type": "scattergl"
           }
          ],
          "scattermapbox": [
           {
            "marker": {
             "colorbar": {
              "outlinewidth": 0,
              "ticks": ""
             }
            },
            "type": "scattermapbox"
           }
          ],
          "scatterpolar": [
           {
            "marker": {
             "colorbar": {
              "outlinewidth": 0,
              "ticks": ""
             }
            },
            "type": "scatterpolar"
           }
          ],
          "scatterpolargl": [
           {
            "marker": {
             "colorbar": {
              "outlinewidth": 0,
              "ticks": ""
             }
            },
            "type": "scatterpolargl"
           }
          ],
          "scatterternary": [
           {
            "marker": {
             "colorbar": {
              "outlinewidth": 0,
              "ticks": ""
             }
            },
            "type": "scatterternary"
           }
          ],
          "surface": [
           {
            "colorbar": {
             "outlinewidth": 0,
             "ticks": ""
            },
            "colorscale": [
             [
              0,
              "#0d0887"
             ],
             [
              0.1111111111111111,
              "#46039f"
             ],
             [
              0.2222222222222222,
              "#7201a8"
             ],
             [
              0.3333333333333333,
              "#9c179e"
             ],
             [
              0.4444444444444444,
              "#bd3786"
             ],
             [
              0.5555555555555556,
              "#d8576b"
             ],
             [
              0.6666666666666666,
              "#ed7953"
             ],
             [
              0.7777777777777778,
              "#fb9f3a"
             ],
             [
              0.8888888888888888,
              "#fdca26"
             ],
             [
              1,
              "#f0f921"
             ]
            ],
            "type": "surface"
           }
          ],
          "table": [
           {
            "cells": {
             "fill": {
              "color": "#EBF0F8"
             },
             "line": {
              "color": "white"
             }
            },
            "header": {
             "fill": {
              "color": "#C8D4E3"
             },
             "line": {
              "color": "white"
             }
            },
            "type": "table"
           }
          ]
         },
         "layout": {
          "annotationdefaults": {
           "arrowcolor": "#2a3f5f",
           "arrowhead": 0,
           "arrowwidth": 1
          },
          "autotypenumbers": "strict",
          "coloraxis": {
           "colorbar": {
            "outlinewidth": 0,
            "ticks": ""
           }
          },
          "colorscale": {
           "diverging": [
            [
             0,
             "#8e0152"
            ],
            [
             0.1,
             "#c51b7d"
            ],
            [
             0.2,
             "#de77ae"
            ],
            [
             0.3,
             "#f1b6da"
            ],
            [
             0.4,
             "#fde0ef"
            ],
            [
             0.5,
             "#f7f7f7"
            ],
            [
             0.6,
             "#e6f5d0"
            ],
            [
             0.7,
             "#b8e186"
            ],
            [
             0.8,
             "#7fbc41"
            ],
            [
             0.9,
             "#4d9221"
            ],
            [
             1,
             "#276419"
            ]
           ],
           "sequential": [
            [
             0,
             "#0d0887"
            ],
            [
             0.1111111111111111,
             "#46039f"
            ],
            [
             0.2222222222222222,
             "#7201a8"
            ],
            [
             0.3333333333333333,
             "#9c179e"
            ],
            [
             0.4444444444444444,
             "#bd3786"
            ],
            [
             0.5555555555555556,
             "#d8576b"
            ],
            [
             0.6666666666666666,
             "#ed7953"
            ],
            [
             0.7777777777777778,
             "#fb9f3a"
            ],
            [
             0.8888888888888888,
             "#fdca26"
            ],
            [
             1,
             "#f0f921"
            ]
           ],
           "sequentialminus": [
            [
             0,
             "#0d0887"
            ],
            [
             0.1111111111111111,
             "#46039f"
            ],
            [
             0.2222222222222222,
             "#7201a8"
            ],
            [
             0.3333333333333333,
             "#9c179e"
            ],
            [
             0.4444444444444444,
             "#bd3786"
            ],
            [
             0.5555555555555556,
             "#d8576b"
            ],
            [
             0.6666666666666666,
             "#ed7953"
            ],
            [
             0.7777777777777778,
             "#fb9f3a"
            ],
            [
             0.8888888888888888,
             "#fdca26"
            ],
            [
             1,
             "#f0f921"
            ]
           ]
          },
          "colorway": [
           "#636efa",
           "#EF553B",
           "#00cc96",
           "#ab63fa",
           "#FFA15A",
           "#19d3f3",
           "#FF6692",
           "#B6E880",
           "#FF97FF",
           "#FECB52"
          ],
          "font": {
           "color": "#2a3f5f"
          },
          "geo": {
           "bgcolor": "white",
           "lakecolor": "white",
           "landcolor": "#E5ECF6",
           "showlakes": true,
           "showland": true,
           "subunitcolor": "white"
          },
          "hoverlabel": {
           "align": "left"
          },
          "hovermode": "closest",
          "mapbox": {
           "style": "light"
          },
          "paper_bgcolor": "white",
          "plot_bgcolor": "#E5ECF6",
          "polar": {
           "angularaxis": {
            "gridcolor": "white",
            "linecolor": "white",
            "ticks": ""
           },
           "bgcolor": "#E5ECF6",
           "radialaxis": {
            "gridcolor": "white",
            "linecolor": "white",
            "ticks": ""
           }
          },
          "scene": {
           "xaxis": {
            "backgroundcolor": "#E5ECF6",
            "gridcolor": "white",
            "gridwidth": 2,
            "linecolor": "white",
            "showbackground": true,
            "ticks": "",
            "zerolinecolor": "white"
           },
           "yaxis": {
            "backgroundcolor": "#E5ECF6",
            "gridcolor": "white",
            "gridwidth": 2,
            "linecolor": "white",
            "showbackground": true,
            "ticks": "",
            "zerolinecolor": "white"
           },
           "zaxis": {
            "backgroundcolor": "#E5ECF6",
            "gridcolor": "white",
            "gridwidth": 2,
            "linecolor": "white",
            "showbackground": true,
            "ticks": "",
            "zerolinecolor": "white"
           }
          },
          "shapedefaults": {
           "line": {
            "color": "#2a3f5f"
           }
          },
          "ternary": {
           "aaxis": {
            "gridcolor": "white",
            "linecolor": "white",
            "ticks": ""
           },
           "baxis": {
            "gridcolor": "white",
            "linecolor": "white",
            "ticks": ""
           },
           "bgcolor": "#E5ECF6",
           "caxis": {
            "gridcolor": "white",
            "linecolor": "white",
            "ticks": ""
           }
          },
          "title": {
           "x": 0.05
          },
          "xaxis": {
           "automargin": true,
           "gridcolor": "white",
           "linecolor": "white",
           "ticks": "",
           "title": {
            "standoff": 15
           },
           "zerolinecolor": "white",
           "zerolinewidth": 2
          },
          "yaxis": {
           "automargin": true,
           "gridcolor": "white",
           "linecolor": "white",
           "ticks": "",
           "title": {
            "standoff": 15
           },
           "zerolinecolor": "white",
           "zerolinewidth": 2
          }
         }
        },
        "xaxis": {
         "anchor": "y",
         "constrain": "domain",
         "domain": [
          0,
          1
         ],
         "scaleanchor": "y"
        },
        "yaxis": {
         "anchor": "x",
         "autorange": "reversed",
         "constrain": "domain",
         "domain": [
          0,
          1
         ]
        }
       }
      }
     },
     "metadata": {},
     "output_type": "display_data"
    },
    {
     "data": {
      "application/vnd.plotly.v1+json": {
       "config": {
        "plotlyServerURL": "https://plot.ly"
       },
       "data": [
        {
         "hovertemplate": "symbol=0<br>0=%{x}<br>2=%{y}<br>size=%{marker.size}<br>color=%{marker.color}<extra></extra>",
         "legendgroup": "0",
         "marker": {
          "color": [
           1,
           2,
           3,
           4,
           5,
           1,
           2,
           3,
           4,
           5,
           1,
           2,
           3,
           4,
           5,
           1,
           2,
           3,
           4,
           5,
           1,
           2,
           3,
           4,
           5
          ],
          "coloraxis": "coloraxis",
          "size": [
           1,
           1,
           1,
           1,
           1,
           2,
           2,
           2,
           2,
           2,
           3,
           3,
           3,
           3,
           3,
           4,
           4,
           4,
           4,
           4,
           5,
           5,
           5,
           5,
           5
          ],
          "sizemode": "area",
          "sizeref": 0.0125,
          "symbol": "circle"
         },
         "mode": "markers",
         "name": "0",
         "orientation": "v",
         "showlegend": true,
         "type": "scatter",
         "x": [
          -0.9194882252839838,
          -0.9488851486528457,
          -0.5291691588416042,
          0.0768306014859714,
          0.25406225645603153,
          -0.8117503817594336,
          -0.6519880192844087,
          -0.2730334071368798,
          0.18613363488744378,
          0.35283472357350226,
          -0.3026490789721038,
          -0.23410772199798868,
          0.13159736320042698,
          0.4475559012044081,
          0.5899934812470237,
          0.0914400633869995,
          0.12074920205509171,
          0.5089210439551285,
          0.8318789261309638,
          0.9182435243929895,
          0.4349869367520034,
          0.443420991093522,
          0.8616431046774602,
          1.142963657968588,
          1.196542464739531
         ],
         "xaxis": "x",
         "y": [
          -0.31822522025700684,
          -0.028746967321558372,
          0.42775130821215274,
          0.5784320546576655,
          0.9314445065271844,
          -0.2171379676070002,
          -0.27308948142325074,
          0.23576051890868255,
          0.5958613624215137,
          0.8909941115771796,
          -0.46951475453634206,
          -0.38232620102036935,
          -0.07815806109097548,
          0.38895667795197997,
          0.6209577837094807,
          -0.6125547892556423,
          -0.4750306747995583,
          -0.2330581277359851,
          0.17226056676090204,
          0.3811675981055678,
          -0.6867038095735429,
          -0.5259719077760621,
          -0.30134247485013255,
          0.0551510780097476,
          0.2671374240034962
         ],
         "yaxis": "y"
        },
        {
         "hovertemplate": "symbol=1<br>0=%{x}<br>2=%{y}<br>size=%{marker.size}<br>color=%{marker.color}<extra></extra>",
         "legendgroup": "1",
         "marker": {
          "color": [
           1,
           2,
           3,
           4,
           5,
           1,
           2,
           3,
           4,
           5,
           1,
           2,
           3,
           4,
           5,
           1,
           2,
           3,
           4,
           5,
           1,
           2,
           3,
           4,
           5
          ],
          "coloraxis": "coloraxis",
          "size": [
           1,
           1,
           1,
           1,
           1,
           2,
           2,
           2,
           2,
           2,
           3,
           3,
           3,
           3,
           3,
           4,
           4,
           4,
           4,
           4,
           5,
           5,
           5,
           5,
           5
          ],
          "sizemode": "area",
          "sizeref": 0.0125,
          "symbol": "diamond"
         },
         "mode": "markers",
         "name": "1",
         "orientation": "v",
         "showlegend": true,
         "type": "scatter",
         "x": [
          -1.153658559256368,
          -1.1101819889457238,
          -0.7552860566681944,
          -0.12375069023737449,
          0.2565716044567309,
          -1.0260778555357994,
          -0.9851011504657103,
          -0.4853850092460587,
          0.0862414515360492,
          0.3232783773566749,
          -0.7785089781729415,
          -0.6760749786671937,
          -0.21755138402916402,
          0.2919444780385553,
          0.4446095216744273,
          -0.5148095662066655,
          -0.4020405527852901,
          0.054176331072549176,
          0.578569633218219,
          0.7473448337817873,
          -0.33797016789711637,
          -0.2088438735362832,
          0.3515025211541788,
          0.8101287490297158,
          0.9121465750531579
         ],
         "xaxis": "x",
         "y": [
          -0.7740517384497959,
          -0.6000698329411811,
          -0.036884740239864766,
          0.42663227814792826,
          0.5829586216666286,
          -0.4736262629949178,
          -0.30117063610685213,
          -0.05537795193001511,
          0.2791776643709194,
          0.5539256751283232,
          -0.3596651516675467,
          -0.26025829859721716,
          0.03565368792703136,
          0.26399630569375343,
          0.5233584316150265,
          -0.47687283227131333,
          -0.33881663352374125,
          -0.041138471908645106,
          0.18578987263883917,
          0.3651676652584354,
          -0.4064705564888783,
          -0.3202158816086194,
          -0.19459902558470504,
          0.13591005788655136,
          0.34263320038172945
         ],
         "yaxis": "y"
        }
       ],
       "layout": {
        "coloraxis": {
         "colorbar": {
          "title": {
           "text": "color"
          }
         },
         "colorscale": [
          [
           0,
           "#0d0887"
          ],
          [
           0.1111111111111111,
           "#46039f"
          ],
          [
           0.2222222222222222,
           "#7201a8"
          ],
          [
           0.3333333333333333,
           "#9c179e"
          ],
          [
           0.4444444444444444,
           "#bd3786"
          ],
          [
           0.5555555555555556,
           "#d8576b"
          ],
          [
           0.6666666666666666,
           "#ed7953"
          ],
          [
           0.7777777777777778,
           "#fb9f3a"
          ],
          [
           0.8888888888888888,
           "#fdca26"
          ],
          [
           1,
           "#f0f921"
          ]
         ]
        },
        "height": 500,
        "legend": {
         "itemsizing": "constant",
         "title": {
          "text": "symbol"
         },
         "tracegroupgap": 0
        },
        "margin": {
         "t": 60
        },
        "plot_bgcolor": "white",
        "template": {
         "data": {
          "bar": [
           {
            "error_x": {
             "color": "#2a3f5f"
            },
            "error_y": {
             "color": "#2a3f5f"
            },
            "marker": {
             "line": {
              "color": "#E5ECF6",
              "width": 0.5
             },
             "pattern": {
              "fillmode": "overlay",
              "size": 10,
              "solidity": 0.2
             }
            },
            "type": "bar"
           }
          ],
          "barpolar": [
           {
            "marker": {
             "line": {
              "color": "#E5ECF6",
              "width": 0.5
             },
             "pattern": {
              "fillmode": "overlay",
              "size": 10,
              "solidity": 0.2
             }
            },
            "type": "barpolar"
           }
          ],
          "carpet": [
           {
            "aaxis": {
             "endlinecolor": "#2a3f5f",
             "gridcolor": "white",
             "linecolor": "white",
             "minorgridcolor": "white",
             "startlinecolor": "#2a3f5f"
            },
            "baxis": {
             "endlinecolor": "#2a3f5f",
             "gridcolor": "white",
             "linecolor": "white",
             "minorgridcolor": "white",
             "startlinecolor": "#2a3f5f"
            },
            "type": "carpet"
           }
          ],
          "choropleth": [
           {
            "colorbar": {
             "outlinewidth": 0,
             "ticks": ""
            },
            "type": "choropleth"
           }
          ],
          "contour": [
           {
            "colorbar": {
             "outlinewidth": 0,
             "ticks": ""
            },
            "colorscale": [
             [
              0,
              "#0d0887"
             ],
             [
              0.1111111111111111,
              "#46039f"
             ],
             [
              0.2222222222222222,
              "#7201a8"
             ],
             [
              0.3333333333333333,
              "#9c179e"
             ],
             [
              0.4444444444444444,
              "#bd3786"
             ],
             [
              0.5555555555555556,
              "#d8576b"
             ],
             [
              0.6666666666666666,
              "#ed7953"
             ],
             [
              0.7777777777777778,
              "#fb9f3a"
             ],
             [
              0.8888888888888888,
              "#fdca26"
             ],
             [
              1,
              "#f0f921"
             ]
            ],
            "type": "contour"
           }
          ],
          "contourcarpet": [
           {
            "colorbar": {
             "outlinewidth": 0,
             "ticks": ""
            },
            "type": "contourcarpet"
           }
          ],
          "heatmap": [
           {
            "colorbar": {
             "outlinewidth": 0,
             "ticks": ""
            },
            "colorscale": [
             [
              0,
              "#0d0887"
             ],
             [
              0.1111111111111111,
              "#46039f"
             ],
             [
              0.2222222222222222,
              "#7201a8"
             ],
             [
              0.3333333333333333,
              "#9c179e"
             ],
             [
              0.4444444444444444,
              "#bd3786"
             ],
             [
              0.5555555555555556,
              "#d8576b"
             ],
             [
              0.6666666666666666,
              "#ed7953"
             ],
             [
              0.7777777777777778,
              "#fb9f3a"
             ],
             [
              0.8888888888888888,
              "#fdca26"
             ],
             [
              1,
              "#f0f921"
             ]
            ],
            "type": "heatmap"
           }
          ],
          "heatmapgl": [
           {
            "colorbar": {
             "outlinewidth": 0,
             "ticks": ""
            },
            "colorscale": [
             [
              0,
              "#0d0887"
             ],
             [
              0.1111111111111111,
              "#46039f"
             ],
             [
              0.2222222222222222,
              "#7201a8"
             ],
             [
              0.3333333333333333,
              "#9c179e"
             ],
             [
              0.4444444444444444,
              "#bd3786"
             ],
             [
              0.5555555555555556,
              "#d8576b"
             ],
             [
              0.6666666666666666,
              "#ed7953"
             ],
             [
              0.7777777777777778,
              "#fb9f3a"
             ],
             [
              0.8888888888888888,
              "#fdca26"
             ],
             [
              1,
              "#f0f921"
             ]
            ],
            "type": "heatmapgl"
           }
          ],
          "histogram": [
           {
            "marker": {
             "pattern": {
              "fillmode": "overlay",
              "size": 10,
              "solidity": 0.2
             }
            },
            "type": "histogram"
           }
          ],
          "histogram2d": [
           {
            "colorbar": {
             "outlinewidth": 0,
             "ticks": ""
            },
            "colorscale": [
             [
              0,
              "#0d0887"
             ],
             [
              0.1111111111111111,
              "#46039f"
             ],
             [
              0.2222222222222222,
              "#7201a8"
             ],
             [
              0.3333333333333333,
              "#9c179e"
             ],
             [
              0.4444444444444444,
              "#bd3786"
             ],
             [
              0.5555555555555556,
              "#d8576b"
             ],
             [
              0.6666666666666666,
              "#ed7953"
             ],
             [
              0.7777777777777778,
              "#fb9f3a"
             ],
             [
              0.8888888888888888,
              "#fdca26"
             ],
             [
              1,
              "#f0f921"
             ]
            ],
            "type": "histogram2d"
           }
          ],
          "histogram2dcontour": [
           {
            "colorbar": {
             "outlinewidth": 0,
             "ticks": ""
            },
            "colorscale": [
             [
              0,
              "#0d0887"
             ],
             [
              0.1111111111111111,
              "#46039f"
             ],
             [
              0.2222222222222222,
              "#7201a8"
             ],
             [
              0.3333333333333333,
              "#9c179e"
             ],
             [
              0.4444444444444444,
              "#bd3786"
             ],
             [
              0.5555555555555556,
              "#d8576b"
             ],
             [
              0.6666666666666666,
              "#ed7953"
             ],
             [
              0.7777777777777778,
              "#fb9f3a"
             ],
             [
              0.8888888888888888,
              "#fdca26"
             ],
             [
              1,
              "#f0f921"
             ]
            ],
            "type": "histogram2dcontour"
           }
          ],
          "mesh3d": [
           {
            "colorbar": {
             "outlinewidth": 0,
             "ticks": ""
            },
            "type": "mesh3d"
           }
          ],
          "parcoords": [
           {
            "line": {
             "colorbar": {
              "outlinewidth": 0,
              "ticks": ""
             }
            },
            "type": "parcoords"
           }
          ],
          "pie": [
           {
            "automargin": true,
            "type": "pie"
           }
          ],
          "scatter": [
           {
            "marker": {
             "colorbar": {
              "outlinewidth": 0,
              "ticks": ""
             }
            },
            "type": "scatter"
           }
          ],
          "scatter3d": [
           {
            "line": {
             "colorbar": {
              "outlinewidth": 0,
              "ticks": ""
             }
            },
            "marker": {
             "colorbar": {
              "outlinewidth": 0,
              "ticks": ""
             }
            },
            "type": "scatter3d"
           }
          ],
          "scattercarpet": [
           {
            "marker": {
             "colorbar": {
              "outlinewidth": 0,
              "ticks": ""
             }
            },
            "type": "scattercarpet"
           }
          ],
          "scattergeo": [
           {
            "marker": {
             "colorbar": {
              "outlinewidth": 0,
              "ticks": ""
             }
            },
            "type": "scattergeo"
           }
          ],
          "scattergl": [
           {
            "marker": {
             "colorbar": {
              "outlinewidth": 0,
              "ticks": ""
             }
            },
            "type": "scattergl"
           }
          ],
          "scattermapbox": [
           {
            "marker": {
             "colorbar": {
              "outlinewidth": 0,
              "ticks": ""
             }
            },
            "type": "scattermapbox"
           }
          ],
          "scatterpolar": [
           {
            "marker": {
             "colorbar": {
              "outlinewidth": 0,
              "ticks": ""
             }
            },
            "type": "scatterpolar"
           }
          ],
          "scatterpolargl": [
           {
            "marker": {
             "colorbar": {
              "outlinewidth": 0,
              "ticks": ""
             }
            },
            "type": "scatterpolargl"
           }
          ],
          "scatterternary": [
           {
            "marker": {
             "colorbar": {
              "outlinewidth": 0,
              "ticks": ""
             }
            },
            "type": "scatterternary"
           }
          ],
          "surface": [
           {
            "colorbar": {
             "outlinewidth": 0,
             "ticks": ""
            },
            "colorscale": [
             [
              0,
              "#0d0887"
             ],
             [
              0.1111111111111111,
              "#46039f"
             ],
             [
              0.2222222222222222,
              "#7201a8"
             ],
             [
              0.3333333333333333,
              "#9c179e"
             ],
             [
              0.4444444444444444,
              "#bd3786"
             ],
             [
              0.5555555555555556,
              "#d8576b"
             ],
             [
              0.6666666666666666,
              "#ed7953"
             ],
             [
              0.7777777777777778,
              "#fb9f3a"
             ],
             [
              0.8888888888888888,
              "#fdca26"
             ],
             [
              1,
              "#f0f921"
             ]
            ],
            "type": "surface"
           }
          ],
          "table": [
           {
            "cells": {
             "fill": {
              "color": "#EBF0F8"
             },
             "line": {
              "color": "white"
             }
            },
            "header": {
             "fill": {
              "color": "#C8D4E3"
             },
             "line": {
              "color": "white"
             }
            },
            "type": "table"
           }
          ]
         },
         "layout": {
          "annotationdefaults": {
           "arrowcolor": "#2a3f5f",
           "arrowhead": 0,
           "arrowwidth": 1
          },
          "autotypenumbers": "strict",
          "coloraxis": {
           "colorbar": {
            "outlinewidth": 0,
            "ticks": ""
           }
          },
          "colorscale": {
           "diverging": [
            [
             0,
             "#8e0152"
            ],
            [
             0.1,
             "#c51b7d"
            ],
            [
             0.2,
             "#de77ae"
            ],
            [
             0.3,
             "#f1b6da"
            ],
            [
             0.4,
             "#fde0ef"
            ],
            [
             0.5,
             "#f7f7f7"
            ],
            [
             0.6,
             "#e6f5d0"
            ],
            [
             0.7,
             "#b8e186"
            ],
            [
             0.8,
             "#7fbc41"
            ],
            [
             0.9,
             "#4d9221"
            ],
            [
             1,
             "#276419"
            ]
           ],
           "sequential": [
            [
             0,
             "#0d0887"
            ],
            [
             0.1111111111111111,
             "#46039f"
            ],
            [
             0.2222222222222222,
             "#7201a8"
            ],
            [
             0.3333333333333333,
             "#9c179e"
            ],
            [
             0.4444444444444444,
             "#bd3786"
            ],
            [
             0.5555555555555556,
             "#d8576b"
            ],
            [
             0.6666666666666666,
             "#ed7953"
            ],
            [
             0.7777777777777778,
             "#fb9f3a"
            ],
            [
             0.8888888888888888,
             "#fdca26"
            ],
            [
             1,
             "#f0f921"
            ]
           ],
           "sequentialminus": [
            [
             0,
             "#0d0887"
            ],
            [
             0.1111111111111111,
             "#46039f"
            ],
            [
             0.2222222222222222,
             "#7201a8"
            ],
            [
             0.3333333333333333,
             "#9c179e"
            ],
            [
             0.4444444444444444,
             "#bd3786"
            ],
            [
             0.5555555555555556,
             "#d8576b"
            ],
            [
             0.6666666666666666,
             "#ed7953"
            ],
            [
             0.7777777777777778,
             "#fb9f3a"
            ],
            [
             0.8888888888888888,
             "#fdca26"
            ],
            [
             1,
             "#f0f921"
            ]
           ]
          },
          "colorway": [
           "#636efa",
           "#EF553B",
           "#00cc96",
           "#ab63fa",
           "#FFA15A",
           "#19d3f3",
           "#FF6692",
           "#B6E880",
           "#FF97FF",
           "#FECB52"
          ],
          "font": {
           "color": "#2a3f5f"
          },
          "geo": {
           "bgcolor": "white",
           "lakecolor": "white",
           "landcolor": "#E5ECF6",
           "showlakes": true,
           "showland": true,
           "subunitcolor": "white"
          },
          "hoverlabel": {
           "align": "left"
          },
          "hovermode": "closest",
          "mapbox": {
           "style": "light"
          },
          "paper_bgcolor": "white",
          "plot_bgcolor": "#E5ECF6",
          "polar": {
           "angularaxis": {
            "gridcolor": "white",
            "linecolor": "white",
            "ticks": ""
           },
           "bgcolor": "#E5ECF6",
           "radialaxis": {
            "gridcolor": "white",
            "linecolor": "white",
            "ticks": ""
           }
          },
          "scene": {
           "xaxis": {
            "backgroundcolor": "#E5ECF6",
            "gridcolor": "white",
            "gridwidth": 2,
            "linecolor": "white",
            "showbackground": true,
            "ticks": "",
            "zerolinecolor": "white"
           },
           "yaxis": {
            "backgroundcolor": "#E5ECF6",
            "gridcolor": "white",
            "gridwidth": 2,
            "linecolor": "white",
            "showbackground": true,
            "ticks": "",
            "zerolinecolor": "white"
           },
           "zaxis": {
            "backgroundcolor": "#E5ECF6",
            "gridcolor": "white",
            "gridwidth": 2,
            "linecolor": "white",
            "showbackground": true,
            "ticks": "",
            "zerolinecolor": "white"
           }
          },
          "shapedefaults": {
           "line": {
            "color": "#2a3f5f"
           }
          },
          "ternary": {
           "aaxis": {
            "gridcolor": "white",
            "linecolor": "white",
            "ticks": ""
           },
           "baxis": {
            "gridcolor": "white",
            "linecolor": "white",
            "ticks": ""
           },
           "bgcolor": "#E5ECF6",
           "caxis": {
            "gridcolor": "white",
            "linecolor": "white",
            "ticks": ""
           }
          },
          "title": {
           "x": 0.05
          },
          "xaxis": {
           "automargin": true,
           "gridcolor": "white",
           "linecolor": "white",
           "ticks": "",
           "title": {
            "standoff": 15
           },
           "zerolinecolor": "white",
           "zerolinewidth": 2
          },
          "yaxis": {
           "automargin": true,
           "gridcolor": "white",
           "linecolor": "white",
           "ticks": "",
           "title": {
            "standoff": 15
           },
           "zerolinecolor": "white",
           "zerolinewidth": 2
          }
         }
        },
        "width": 500,
        "xaxis": {
         "anchor": "y",
         "domain": [
          0,
          1
         ],
         "linecolor": "black",
         "linewidth": 1.5,
         "mirror": true,
         "showgrid": false,
         "showline": true,
         "tickfont": {
          "size": 20
         },
         "ticks": "outside",
         "title": {
          "font": {
           "size": 24
          },
          "text": "0"
         }
        },
        "yaxis": {
         "anchor": "x",
         "domain": [
          0,
          1
         ],
         "linecolor": "black",
         "linewidth": 1.5,
         "mirror": true,
         "showgrid": false,
         "showline": true,
         "tickfont": {
          "size": 20
         },
         "ticks": "outside",
         "title": {
          "font": {
           "size": 24
          },
          "text": "2"
         }
        }
       }
      }
     },
     "metadata": {},
     "output_type": "display_data"
    },
    {
     "data": {
      "application/vnd.plotly.v1+json": {
       "config": {
        "plotlyServerURL": "https://plot.ly"
       },
       "data": [
        {
         "hovertemplate": "symbol=0<br>1=%{x}<br>2=%{y}<br>size=%{marker.size}<br>color=%{marker.color}<extra></extra>",
         "legendgroup": "0",
         "marker": {
          "color": [
           1,
           2,
           3,
           4,
           5,
           1,
           2,
           3,
           4,
           5,
           1,
           2,
           3,
           4,
           5,
           1,
           2,
           3,
           4,
           5,
           1,
           2,
           3,
           4,
           5
          ],
          "coloraxis": "coloraxis",
          "size": [
           1,
           1,
           1,
           1,
           1,
           2,
           2,
           2,
           2,
           2,
           3,
           3,
           3,
           3,
           3,
           4,
           4,
           4,
           4,
           4,
           5,
           5,
           5,
           5,
           5
          ],
          "sizemode": "area",
          "sizeref": 0.0125,
          "symbol": "circle"
         },
         "mode": "markers",
         "name": "0",
         "orientation": "v",
         "showlegend": true,
         "type": "scatter",
         "x": [
          1.3104709454949857,
          1.2301628745269966,
          1.4182837236066914,
          1.6555491943331615,
          1.2449281476776168,
          0.7486523806811585,
          0.8057291489488196,
          0.9499680405209346,
          1.0925261189375353,
          0.700524994478575,
          0.20395356966130274,
          0.304410981971967,
          0.4371709323341416,
          0.4890258352761242,
          0.1658666515329531,
          -0.003443612582053182,
          0.10445601152478949,
          0.21306971130506105,
          0.30028799001779816,
          0.008140186395329475,
          -0.022658811106382327,
          0.07962783164401453,
          0.21809131427476522,
          0.34818053230845375,
          0.07642808311317462
         ],
         "xaxis": "x",
         "y": [
          -0.31822522025700684,
          -0.028746967321558372,
          0.42775130821215274,
          0.5784320546576655,
          0.9314445065271844,
          -0.2171379676070002,
          -0.27308948142325074,
          0.23576051890868255,
          0.5958613624215137,
          0.8909941115771796,
          -0.46951475453634206,
          -0.38232620102036935,
          -0.07815806109097548,
          0.38895667795197997,
          0.6209577837094807,
          -0.6125547892556423,
          -0.4750306747995583,
          -0.2330581277359851,
          0.17226056676090204,
          0.3811675981055678,
          -0.6867038095735429,
          -0.5259719077760621,
          -0.30134247485013255,
          0.0551510780097476,
          0.2671374240034962
         ],
         "yaxis": "y"
        },
        {
         "hovertemplate": "symbol=1<br>1=%{x}<br>2=%{y}<br>size=%{marker.size}<br>color=%{marker.color}<extra></extra>",
         "legendgroup": "1",
         "marker": {
          "color": [
           1,
           2,
           3,
           4,
           5,
           1,
           2,
           3,
           4,
           5,
           1,
           2,
           3,
           4,
           5,
           1,
           2,
           3,
           4,
           5,
           1,
           2,
           3,
           4,
           5
          ],
          "coloraxis": "coloraxis",
          "size": [
           1,
           1,
           1,
           1,
           1,
           2,
           2,
           2,
           2,
           2,
           3,
           3,
           3,
           3,
           3,
           4,
           4,
           4,
           4,
           4,
           5,
           5,
           5,
           5,
           5
          ],
          "sizemode": "area",
          "sizeref": 0.0125,
          "symbol": "diamond"
         },
         "mode": "markers",
         "name": "1",
         "orientation": "v",
         "showlegend": true,
         "type": "scatter",
         "x": [
          -0.1985979774416963,
          -0.06179209645048976,
          0.026861011864090092,
          0.2061940082854895,
          -0.06256972099268535,
          -0.5518544050936665,
          -0.4071405458888021,
          -0.310212562313723,
          -0.14941063765328919,
          -0.37238737849985887,
          -0.9171754677438283,
          -0.7504416511007972,
          -0.7083690048044556,
          -0.5345427717091279,
          -0.6516575439957427,
          -1.0470835076742655,
          -0.8933057140111269,
          -0.901884008074232,
          -0.680553473375143,
          -0.7308689852206187,
          -1.1439262253819837,
          -0.9591831393177457,
          -0.9012391451745825,
          -0.6723802377298761,
          -0.7058815973797576
         ],
         "xaxis": "x",
         "y": [
          -0.7740517384497959,
          -0.6000698329411811,
          -0.036884740239864766,
          0.42663227814792826,
          0.5829586216666286,
          -0.4736262629949178,
          -0.30117063610685213,
          -0.05537795193001511,
          0.2791776643709194,
          0.5539256751283232,
          -0.3596651516675467,
          -0.26025829859721716,
          0.03565368792703136,
          0.26399630569375343,
          0.5233584316150265,
          -0.47687283227131333,
          -0.33881663352374125,
          -0.041138471908645106,
          0.18578987263883917,
          0.3651676652584354,
          -0.4064705564888783,
          -0.3202158816086194,
          -0.19459902558470504,
          0.13591005788655136,
          0.34263320038172945
         ],
         "yaxis": "y"
        }
       ],
       "layout": {
        "coloraxis": {
         "colorbar": {
          "title": {
           "text": "color"
          }
         },
         "colorscale": [
          [
           0,
           "#0d0887"
          ],
          [
           0.1111111111111111,
           "#46039f"
          ],
          [
           0.2222222222222222,
           "#7201a8"
          ],
          [
           0.3333333333333333,
           "#9c179e"
          ],
          [
           0.4444444444444444,
           "#bd3786"
          ],
          [
           0.5555555555555556,
           "#d8576b"
          ],
          [
           0.6666666666666666,
           "#ed7953"
          ],
          [
           0.7777777777777778,
           "#fb9f3a"
          ],
          [
           0.8888888888888888,
           "#fdca26"
          ],
          [
           1,
           "#f0f921"
          ]
         ]
        },
        "height": 500,
        "legend": {
         "itemsizing": "constant",
         "title": {
          "text": "symbol"
         },
         "tracegroupgap": 0
        },
        "margin": {
         "t": 60
        },
        "plot_bgcolor": "white",
        "template": {
         "data": {
          "bar": [
           {
            "error_x": {
             "color": "#2a3f5f"
            },
            "error_y": {
             "color": "#2a3f5f"
            },
            "marker": {
             "line": {
              "color": "#E5ECF6",
              "width": 0.5
             },
             "pattern": {
              "fillmode": "overlay",
              "size": 10,
              "solidity": 0.2
             }
            },
            "type": "bar"
           }
          ],
          "barpolar": [
           {
            "marker": {
             "line": {
              "color": "#E5ECF6",
              "width": 0.5
             },
             "pattern": {
              "fillmode": "overlay",
              "size": 10,
              "solidity": 0.2
             }
            },
            "type": "barpolar"
           }
          ],
          "carpet": [
           {
            "aaxis": {
             "endlinecolor": "#2a3f5f",
             "gridcolor": "white",
             "linecolor": "white",
             "minorgridcolor": "white",
             "startlinecolor": "#2a3f5f"
            },
            "baxis": {
             "endlinecolor": "#2a3f5f",
             "gridcolor": "white",
             "linecolor": "white",
             "minorgridcolor": "white",
             "startlinecolor": "#2a3f5f"
            },
            "type": "carpet"
           }
          ],
          "choropleth": [
           {
            "colorbar": {
             "outlinewidth": 0,
             "ticks": ""
            },
            "type": "choropleth"
           }
          ],
          "contour": [
           {
            "colorbar": {
             "outlinewidth": 0,
             "ticks": ""
            },
            "colorscale": [
             [
              0,
              "#0d0887"
             ],
             [
              0.1111111111111111,
              "#46039f"
             ],
             [
              0.2222222222222222,
              "#7201a8"
             ],
             [
              0.3333333333333333,
              "#9c179e"
             ],
             [
              0.4444444444444444,
              "#bd3786"
             ],
             [
              0.5555555555555556,
              "#d8576b"
             ],
             [
              0.6666666666666666,
              "#ed7953"
             ],
             [
              0.7777777777777778,
              "#fb9f3a"
             ],
             [
              0.8888888888888888,
              "#fdca26"
             ],
             [
              1,
              "#f0f921"
             ]
            ],
            "type": "contour"
           }
          ],
          "contourcarpet": [
           {
            "colorbar": {
             "outlinewidth": 0,
             "ticks": ""
            },
            "type": "contourcarpet"
           }
          ],
          "heatmap": [
           {
            "colorbar": {
             "outlinewidth": 0,
             "ticks": ""
            },
            "colorscale": [
             [
              0,
              "#0d0887"
             ],
             [
              0.1111111111111111,
              "#46039f"
             ],
             [
              0.2222222222222222,
              "#7201a8"
             ],
             [
              0.3333333333333333,
              "#9c179e"
             ],
             [
              0.4444444444444444,
              "#bd3786"
             ],
             [
              0.5555555555555556,
              "#d8576b"
             ],
             [
              0.6666666666666666,
              "#ed7953"
             ],
             [
              0.7777777777777778,
              "#fb9f3a"
             ],
             [
              0.8888888888888888,
              "#fdca26"
             ],
             [
              1,
              "#f0f921"
             ]
            ],
            "type": "heatmap"
           }
          ],
          "heatmapgl": [
           {
            "colorbar": {
             "outlinewidth": 0,
             "ticks": ""
            },
            "colorscale": [
             [
              0,
              "#0d0887"
             ],
             [
              0.1111111111111111,
              "#46039f"
             ],
             [
              0.2222222222222222,
              "#7201a8"
             ],
             [
              0.3333333333333333,
              "#9c179e"
             ],
             [
              0.4444444444444444,
              "#bd3786"
             ],
             [
              0.5555555555555556,
              "#d8576b"
             ],
             [
              0.6666666666666666,
              "#ed7953"
             ],
             [
              0.7777777777777778,
              "#fb9f3a"
             ],
             [
              0.8888888888888888,
              "#fdca26"
             ],
             [
              1,
              "#f0f921"
             ]
            ],
            "type": "heatmapgl"
           }
          ],
          "histogram": [
           {
            "marker": {
             "pattern": {
              "fillmode": "overlay",
              "size": 10,
              "solidity": 0.2
             }
            },
            "type": "histogram"
           }
          ],
          "histogram2d": [
           {
            "colorbar": {
             "outlinewidth": 0,
             "ticks": ""
            },
            "colorscale": [
             [
              0,
              "#0d0887"
             ],
             [
              0.1111111111111111,
              "#46039f"
             ],
             [
              0.2222222222222222,
              "#7201a8"
             ],
             [
              0.3333333333333333,
              "#9c179e"
             ],
             [
              0.4444444444444444,
              "#bd3786"
             ],
             [
              0.5555555555555556,
              "#d8576b"
             ],
             [
              0.6666666666666666,
              "#ed7953"
             ],
             [
              0.7777777777777778,
              "#fb9f3a"
             ],
             [
              0.8888888888888888,
              "#fdca26"
             ],
             [
              1,
              "#f0f921"
             ]
            ],
            "type": "histogram2d"
           }
          ],
          "histogram2dcontour": [
           {
            "colorbar": {
             "outlinewidth": 0,
             "ticks": ""
            },
            "colorscale": [
             [
              0,
              "#0d0887"
             ],
             [
              0.1111111111111111,
              "#46039f"
             ],
             [
              0.2222222222222222,
              "#7201a8"
             ],
             [
              0.3333333333333333,
              "#9c179e"
             ],
             [
              0.4444444444444444,
              "#bd3786"
             ],
             [
              0.5555555555555556,
              "#d8576b"
             ],
             [
              0.6666666666666666,
              "#ed7953"
             ],
             [
              0.7777777777777778,
              "#fb9f3a"
             ],
             [
              0.8888888888888888,
              "#fdca26"
             ],
             [
              1,
              "#f0f921"
             ]
            ],
            "type": "histogram2dcontour"
           }
          ],
          "mesh3d": [
           {
            "colorbar": {
             "outlinewidth": 0,
             "ticks": ""
            },
            "type": "mesh3d"
           }
          ],
          "parcoords": [
           {
            "line": {
             "colorbar": {
              "outlinewidth": 0,
              "ticks": ""
             }
            },
            "type": "parcoords"
           }
          ],
          "pie": [
           {
            "automargin": true,
            "type": "pie"
           }
          ],
          "scatter": [
           {
            "marker": {
             "colorbar": {
              "outlinewidth": 0,
              "ticks": ""
             }
            },
            "type": "scatter"
           }
          ],
          "scatter3d": [
           {
            "line": {
             "colorbar": {
              "outlinewidth": 0,
              "ticks": ""
             }
            },
            "marker": {
             "colorbar": {
              "outlinewidth": 0,
              "ticks": ""
             }
            },
            "type": "scatter3d"
           }
          ],
          "scattercarpet": [
           {
            "marker": {
             "colorbar": {
              "outlinewidth": 0,
              "ticks": ""
             }
            },
            "type": "scattercarpet"
           }
          ],
          "scattergeo": [
           {
            "marker": {
             "colorbar": {
              "outlinewidth": 0,
              "ticks": ""
             }
            },
            "type": "scattergeo"
           }
          ],
          "scattergl": [
           {
            "marker": {
             "colorbar": {
              "outlinewidth": 0,
              "ticks": ""
             }
            },
            "type": "scattergl"
           }
          ],
          "scattermapbox": [
           {
            "marker": {
             "colorbar": {
              "outlinewidth": 0,
              "ticks": ""
             }
            },
            "type": "scattermapbox"
           }
          ],
          "scatterpolar": [
           {
            "marker": {
             "colorbar": {
              "outlinewidth": 0,
              "ticks": ""
             }
            },
            "type": "scatterpolar"
           }
          ],
          "scatterpolargl": [
           {
            "marker": {
             "colorbar": {
              "outlinewidth": 0,
              "ticks": ""
             }
            },
            "type": "scatterpolargl"
           }
          ],
          "scatterternary": [
           {
            "marker": {
             "colorbar": {
              "outlinewidth": 0,
              "ticks": ""
             }
            },
            "type": "scatterternary"
           }
          ],
          "surface": [
           {
            "colorbar": {
             "outlinewidth": 0,
             "ticks": ""
            },
            "colorscale": [
             [
              0,
              "#0d0887"
             ],
             [
              0.1111111111111111,
              "#46039f"
             ],
             [
              0.2222222222222222,
              "#7201a8"
             ],
             [
              0.3333333333333333,
              "#9c179e"
             ],
             [
              0.4444444444444444,
              "#bd3786"
             ],
             [
              0.5555555555555556,
              "#d8576b"
             ],
             [
              0.6666666666666666,
              "#ed7953"
             ],
             [
              0.7777777777777778,
              "#fb9f3a"
             ],
             [
              0.8888888888888888,
              "#fdca26"
             ],
             [
              1,
              "#f0f921"
             ]
            ],
            "type": "surface"
           }
          ],
          "table": [
           {
            "cells": {
             "fill": {
              "color": "#EBF0F8"
             },
             "line": {
              "color": "white"
             }
            },
            "header": {
             "fill": {
              "color": "#C8D4E3"
             },
             "line": {
              "color": "white"
             }
            },
            "type": "table"
           }
          ]
         },
         "layout": {
          "annotationdefaults": {
           "arrowcolor": "#2a3f5f",
           "arrowhead": 0,
           "arrowwidth": 1
          },
          "autotypenumbers": "strict",
          "coloraxis": {
           "colorbar": {
            "outlinewidth": 0,
            "ticks": ""
           }
          },
          "colorscale": {
           "diverging": [
            [
             0,
             "#8e0152"
            ],
            [
             0.1,
             "#c51b7d"
            ],
            [
             0.2,
             "#de77ae"
            ],
            [
             0.3,
             "#f1b6da"
            ],
            [
             0.4,
             "#fde0ef"
            ],
            [
             0.5,
             "#f7f7f7"
            ],
            [
             0.6,
             "#e6f5d0"
            ],
            [
             0.7,
             "#b8e186"
            ],
            [
             0.8,
             "#7fbc41"
            ],
            [
             0.9,
             "#4d9221"
            ],
            [
             1,
             "#276419"
            ]
           ],
           "sequential": [
            [
             0,
             "#0d0887"
            ],
            [
             0.1111111111111111,
             "#46039f"
            ],
            [
             0.2222222222222222,
             "#7201a8"
            ],
            [
             0.3333333333333333,
             "#9c179e"
            ],
            [
             0.4444444444444444,
             "#bd3786"
            ],
            [
             0.5555555555555556,
             "#d8576b"
            ],
            [
             0.6666666666666666,
             "#ed7953"
            ],
            [
             0.7777777777777778,
             "#fb9f3a"
            ],
            [
             0.8888888888888888,
             "#fdca26"
            ],
            [
             1,
             "#f0f921"
            ]
           ],
           "sequentialminus": [
            [
             0,
             "#0d0887"
            ],
            [
             0.1111111111111111,
             "#46039f"
            ],
            [
             0.2222222222222222,
             "#7201a8"
            ],
            [
             0.3333333333333333,
             "#9c179e"
            ],
            [
             0.4444444444444444,
             "#bd3786"
            ],
            [
             0.5555555555555556,
             "#d8576b"
            ],
            [
             0.6666666666666666,
             "#ed7953"
            ],
            [
             0.7777777777777778,
             "#fb9f3a"
            ],
            [
             0.8888888888888888,
             "#fdca26"
            ],
            [
             1,
             "#f0f921"
            ]
           ]
          },
          "colorway": [
           "#636efa",
           "#EF553B",
           "#00cc96",
           "#ab63fa",
           "#FFA15A",
           "#19d3f3",
           "#FF6692",
           "#B6E880",
           "#FF97FF",
           "#FECB52"
          ],
          "font": {
           "color": "#2a3f5f"
          },
          "geo": {
           "bgcolor": "white",
           "lakecolor": "white",
           "landcolor": "#E5ECF6",
           "showlakes": true,
           "showland": true,
           "subunitcolor": "white"
          },
          "hoverlabel": {
           "align": "left"
          },
          "hovermode": "closest",
          "mapbox": {
           "style": "light"
          },
          "paper_bgcolor": "white",
          "plot_bgcolor": "#E5ECF6",
          "polar": {
           "angularaxis": {
            "gridcolor": "white",
            "linecolor": "white",
            "ticks": ""
           },
           "bgcolor": "#E5ECF6",
           "radialaxis": {
            "gridcolor": "white",
            "linecolor": "white",
            "ticks": ""
           }
          },
          "scene": {
           "xaxis": {
            "backgroundcolor": "#E5ECF6",
            "gridcolor": "white",
            "gridwidth": 2,
            "linecolor": "white",
            "showbackground": true,
            "ticks": "",
            "zerolinecolor": "white"
           },
           "yaxis": {
            "backgroundcolor": "#E5ECF6",
            "gridcolor": "white",
            "gridwidth": 2,
            "linecolor": "white",
            "showbackground": true,
            "ticks": "",
            "zerolinecolor": "white"
           },
           "zaxis": {
            "backgroundcolor": "#E5ECF6",
            "gridcolor": "white",
            "gridwidth": 2,
            "linecolor": "white",
            "showbackground": true,
            "ticks": "",
            "zerolinecolor": "white"
           }
          },
          "shapedefaults": {
           "line": {
            "color": "#2a3f5f"
           }
          },
          "ternary": {
           "aaxis": {
            "gridcolor": "white",
            "linecolor": "white",
            "ticks": ""
           },
           "baxis": {
            "gridcolor": "white",
            "linecolor": "white",
            "ticks": ""
           },
           "bgcolor": "#E5ECF6",
           "caxis": {
            "gridcolor": "white",
            "linecolor": "white",
            "ticks": ""
           }
          },
          "title": {
           "x": 0.05
          },
          "xaxis": {
           "automargin": true,
           "gridcolor": "white",
           "linecolor": "white",
           "ticks": "",
           "title": {
            "standoff": 15
           },
           "zerolinecolor": "white",
           "zerolinewidth": 2
          },
          "yaxis": {
           "automargin": true,
           "gridcolor": "white",
           "linecolor": "white",
           "ticks": "",
           "title": {
            "standoff": 15
           },
           "zerolinecolor": "white",
           "zerolinewidth": 2
          }
         }
        },
        "width": 500,
        "xaxis": {
         "anchor": "y",
         "domain": [
          0,
          1
         ],
         "linecolor": "black",
         "linewidth": 1.5,
         "mirror": true,
         "showgrid": false,
         "showline": true,
         "tickfont": {
          "size": 20
         },
         "ticks": "outside",
         "title": {
          "font": {
           "size": 24
          },
          "text": "1"
         }
        },
        "yaxis": {
         "anchor": "x",
         "domain": [
          0,
          1
         ],
         "linecolor": "black",
         "linewidth": 1.5,
         "mirror": true,
         "showgrid": false,
         "showline": true,
         "tickfont": {
          "size": 20
         },
         "ticks": "outside",
         "title": {
          "font": {
           "size": 24
          },
          "text": "2"
         }
        }
       }
      }
     },
     "metadata": {},
     "output_type": "display_data"
    },
    {
     "data": {
      "application/vnd.plotly.v1+json": {
       "config": {
        "plotlyServerURL": "https://plot.ly"
       },
       "data": [
        {
         "coloraxis": "coloraxis",
         "hovertemplate": "x: %{x}<br>y: %{y}<br>color: %{z}<extra></extra>",
         "name": "0",
         "type": "heatmap",
         "xaxis": "x",
         "yaxis": "y",
         "z": [
          [
           1.0000001192092896,
           0.9896805882453918,
           0.9499298334121704,
           0.881331741809845,
           0.8104243874549866,
           0.9880567193031311,
           0.965659499168396,
           0.9091155529022217,
           0.8277609944343567,
           0.7338919639587402,
           0.923862099647522,
           0.8783730864524841,
           0.8000497817993164,
           0.7239054441452026,
           0.6130936741828918,
           0.7934831976890564,
           0.7728380560874939,
           0.6932156682014465,
           0.6189736723899841,
           0.5132313370704651,
           0.6916664838790894,
           0.6892550587654114,
           0.6108214855194092,
           0.5577067136764526,
           0.46990203857421875,
           0.8005876541137695,
           0.829132080078125,
           0.8443514704704285,
           0.808358371257782,
           0.6784712076187134,
           0.7132426500320435,
           0.7552506923675537,
           0.7590603232383728,
           0.704541802406311,
           0.5425406694412231,
           0.5551642179489136,
           0.6162557601928711,
           0.554193377494812,
           0.4975312054157257,
           0.3579085171222687,
           0.465013325214386,
           0.512292742729187,
           0.4412805736064911,
           0.3810088336467743,
           0.273407906293869,
           0.42051199078559875,
           0.46258363127708435,
           0.3954862654209137,
           0.3429293632507324,
           0.25661686062812805
          ],
          [
           0.9896805882453918,
           1.0000001192092896,
           0.9669784903526306,
           0.8967607617378235,
           0.8218218088150024,
           0.9847452640533447,
           0.986325740814209,
           0.9382554888725281,
           0.8519482612609863,
           0.7507438659667969,
           0.9291381239891052,
           0.9133352637290955,
           0.8412571549415588,
           0.7583603262901306,
           0.638763427734375,
           0.7939366102218628,
           0.8042498230934143,
           0.7277100086212158,
           0.6484853029251099,
           0.5352014303207397,
           0.685775876045227,
           0.7131581902503967,
           0.6362390518188477,
           0.5792600512504578,
           0.4847330152988434,
           0.7808794975280762,
           0.8307610750198364,
           0.865876317024231,
           0.8416514992713928,
           0.7089887857437134,
           0.6938141584396362,
           0.7582243084907532,
           0.7874910235404968,
           0.7479761838912964,
           0.5814433693885803,
           0.5310111045837402,
           0.6162965893745422,
           0.5834454894065857,
           0.5446547269821167,
           0.403472363948822,
           0.43927982449531555,
           0.5109350085258484,
           0.4635641276836395,
           0.4180636405944824,
           0.31149348616600037,
           0.39188265800476074,
           0.4584757387638092,
           0.4128219485282898,
           0.3734431862831116,
           0.28879687190055847
          ],
          [
           0.9499298334121704,
           0.9669784903526306,
           1,
           0.9713799953460693,
           0.9247755408287048,
           0.9432072639465332,
           0.9547039270401001,
           0.986548900604248,
           0.9481438398361206,
           0.8791914582252502,
           0.9188929796218872,
           0.9192162156105042,
           0.9223414659500122,
           0.8862562775611877,
           0.7976913452148438,
           0.826460599899292,
           0.8490118980407715,
           0.8314500451087952,
           0.7901897430419922,
           0.7011330723762512,
           0.7469534277915955,
           0.7836213111877441,
           0.7539191246032715,
           0.7250056266784668,
           0.6485568881034851,
           0.6887841820716858,
           0.7429172992706299,
           0.8613070845603943,
           0.9181113243103027,
           0.8396456837654114,
           0.6031935214996338,
           0.6733505129814148,
           0.7998902797698975,
           0.8535568118095398,
           0.7389693260192871,
           0.4729357659816742,
           0.5722575187683105,
           0.6479898691177368,
           0.6865878105163574,
           0.5789963006973267,
           0.42051902413368225,
           0.5139713287353516,
           0.5556630492210388,
           0.5689885020256042,
           0.48429641127586365,
           0.39879727363586426,
           0.48863229155540466,
           0.5221683979034424,
           0.5285707116127014,
           0.460157573223114
          ],
          [
           0.881331741809845,
           0.8967607617378235,
           0.9713799953460693,
           1,
           0.9850780963897705,
           0.8690980672836304,
           0.8795603513717651,
           0.9604090452194214,
           0.9879522323608398,
           0.955358624458313,
           0.8397849202156067,
           0.8446224331855774,
           0.9018155932426453,
           0.9384455680847168,
           0.8866463303565979,
           0.7694562673568726,
           0.7945857644081116,
           0.8341377377510071,
           0.8604705333709717,
           0.8017876744270325,
           0.7280980944633484,
           0.7630749940872192,
           0.7858492136001587,
           0.8070850968360901,
           0.7537135481834412,
           0.5801029801368713,
           0.631498396396637,
           0.7883180975914001,
           0.9274985790252686,
           0.9056352972984314,
           0.4920988976955414,
           0.5592095851898193,
           0.7283065915107727,
           0.8731114268302917,
           0.8153086304664612,
           0.375652551651001,
           0.4726819097995758,
           0.5994055867195129,
           0.7201828956604004,
           0.6552503108978271,
           0.34781038761138916,
           0.44240182638168335,
           0.5381136536598206,
           0.6292704939842224,
           0.5767297148704529,
           0.3548583686351776,
           0.4465937316417694,
           0.5372971892356873,
           0.6082335710525513,
           0.5635671019554138
          ],
          [
           0.8104243874549866,
           0.8218218088150024,
           0.9247755408287048,
           0.9850780963897705,
           0.9999998807907104,
           0.7938847541809082,
           0.7998371124267578,
           0.916482150554657,
           0.9824419021606445,
           0.98524409532547,
           0.7662811875343323,
           0.7692044973373413,
           0.8625051975250244,
           0.9404602646827698,
           0.9269019365310669,
           0.7158414125442505,
           0.7357951998710632,
           0.8065201044082642,
           0.8694988489151001,
           0.8441336154937744,
           0.6992058157920837,
           0.726511538028717,
           0.7762666344642639,
           0.824299693107605,
           0.7975861430168152,
           0.48516035079956055,
           0.5269051790237427,
           0.709123969078064,
           0.8950827717781067,
           0.9235225319862366,
           0.3998812735080719,
           0.4566684663295746,
           0.6557729244232178,
           0.8542059063911438,
           0.8490329384803772,
           0.3044610619544983,
           0.3926698863506317,
           0.5562150478363037,
           0.7204519510269165,
           0.6955508589744568,
           0.2971455752849579,
           0.38674452900886536,
           0.5149020552635193,
           0.643322765827179,
           0.6201865673065186,
           0.3226153552532196,
           0.4100639224052429,
           0.5324026346206665,
           0.6325312256813049,
           0.6102162599563599
          ],
          [
           0.9880567193031311,
           0.9847452640533447,
           0.9432072639465332,
           0.8690980672836304,
           0.7938847541809082,
           1.0000001192092896,
           0.9853406548500061,
           0.9235348701477051,
           0.832045316696167,
           0.7333275079727173,
           0.9533646106719971,
           0.9160093069076538,
           0.8268594145774841,
           0.7373580932617188,
           0.6210618615150452,
           0.8204647898674011,
           0.8088935613632202,
           0.7171501517295837,
           0.6302846074104309,
           0.520528256893158,
           0.7123708724975586,
           0.7195969820022583,
           0.6296404004096985,
           0.5664178133010864,
           0.47659754753112793,
           0.8133901953697205,
           0.8509796857833862,
           0.8631031513214111,
           0.8144795298576355,
           0.6754518747329712,
           0.7467222809791565,
           0.7991618514060974,
           0.8000206351280212,
           0.7306636571884155,
           0.5579514503479004,
           0.5864155292510986,
           0.6599082946777344,
           0.5906538367271423,
           0.5215775966644287,
           0.37477174401283264,
           0.48808225989341736,
           0.5460891127586365,
           0.46718594431877136,
           0.39655882120132446,
           0.2852852940559387,
           0.4374803900718689,
           0.4885999262332916,
           0.414905846118927,
           0.35418808460235596,
           0.2665374279022217
          ],
          [
           0.965659499168396,
           0.986325740814209,
           0.9547039270401001,
           0.8795603513717651,
           0.7998371124267578,
           0.9853406548500061,
           1.0000001192092896,
           0.9507802724838257,
           0.8544641137123108,
           0.7470778226852417,
           0.9529680609703064,
           0.9521743059158325,
           0.8725866675376892,
           0.7749185562133789,
           0.6474270224571228,
           0.8182390332221985,
           0.8437357544898987,
           0.756973147392273,
           0.663467288017273,
           0.5437515377998352,
           0.7043454647064209,
           0.7466902136802673,
           0.6592586040496826,
           0.590472936630249,
           0.4915861189365387,
           0.7831792831420898,
           0.8460946679115295,
           0.8832429051399231,
           0.8475506901741028,
           0.705024242401123,
           0.7183003425598145,
           0.7976066470146179,
           0.8306735157966614,
           0.7782483696937561,
           0.5999306440353394,
           0.557329535484314,
           0.6594146490097046,
           0.6264576315879822,
           0.5767914652824402,
           0.42707300186157227,
           0.4597758948802948,
           0.5461984872817993,
           0.49579957127571106,
           0.4406015872955322,
           0.3292689025402069,
           0.4069644510746002,
           0.4864215552806854,
           0.4378155469894409,
           0.39056119322776794,
           0.30354928970336914
          ],
          [
           0.9091155529022217,
           0.9382554888725281,
           0.986548900604248,
           0.9604090452194214,
           0.916482150554657,
           0.9235348701477051,
           0.9507802724838257,
           1,
           0.9610540866851807,
           0.8940433263778687,
           0.9288796782493591,
           0.9484918117523193,
           0.9617252945899963,
           0.9192069172859192,
           0.8302189707756042,
           0.8472155928611755,
           0.8877815008163452,
           0.871224045753479,
           0.8212141990661621,
           0.7313209176063538,
           0.7676205635070801,
           0.821312427520752,
           0.7890230417251587,
           0.7524769902229309,
           0.6756283640861511,
           0.6618571281433105,
           0.728856086730957,
           0.8669463396072388,
           0.9279175400733948,
           0.8525151610374451,
           0.5968483090400696,
           0.6816356778144836,
           0.8336626291275024,
           0.8931372165679932,
           0.779650866985321,
           0.47913017868995667,
           0.5964420437812805,
           0.696752667427063,
           0.7375498414039612,
           0.6293203234672546,
           0.43139228224754333,
           0.5426433086395264,
           0.5989341735839844,
           0.6096168756484985,
           0.5246740579605103,
           0.4094398319721222,
           0.5156186819076538,
           0.560021698474884,
           0.5633968114852905,
           0.4956153631210327
          ],
          [
           0.8277609944343567,
           0.8519482612609863,
           0.9481438398361206,
           0.9879522323608398,
           0.9824419021606445,
           0.832045316696167,
           0.8544641137123108,
           0.9610540866851807,
           0.9999998211860657,
           0.9779510498046875,
           0.8290952444076538,
           0.8494247794151306,
           0.9266720414161682,
           0.9711901545524597,
           0.9283151030540466,
           0.7744910717010498,
           0.8130944967269897,
           0.8633862137794495,
           0.893566370010376,
           0.8414844274520874,
           0.7405133247375488,
           0.7874167561531067,
           0.8165649771690369,
           0.8395452499389648,
           0.7913676500320435,
           0.5342063307762146,
           0.5935077667236328,
           0.7746220827102661,
           0.9310170412063599,
           0.9237489700317383,
           0.4655922055244446,
           0.5417208075523376,
           0.7408150434494019,
           0.9059995412826538,
           0.8613597750663757,
           0.3663570284843445,
           0.47543594241142273,
           0.632276713848114,
           0.7671973705291748,
           0.7102625370025635,
           0.3485076129436493,
           0.4559718668460846,
           0.5720791220664978,
           0.6709722280502319,
           0.6238011717796326,
           0.36026865243911743,
           0.46395331621170044,
           0.5716549754142761,
           0.6479024887084961,
           0.6076047420501709
          ],
          [
           0.7338919639587402,
           0.7507438659667969,
           0.8791914582252502,
           0.955358624458313,
           0.98524409532547,
           0.7333275079727173,
           0.7470778226852417,
           0.8940433263778687,
           0.9779510498046875,
           1,
           0.7341843843460083,
           0.7477162480354309,
           0.865957498550415,
           0.9601354002952576,
           0.9670011401176453,
           0.707556962966919,
           0.73476243019104,
           0.8211382627487183,
           0.8955684900283813,
           0.8871609568595886,
           0.7043556571006775,
           0.7371644377708435,
           0.7982074022293091,
           0.8532702326774597,
           0.8403054475784302,
           0.42230790853500366,
           0.4658862352371216,
           0.674230694770813,
           0.8839130997657776,
           0.9382620453834534,
           0.35960865020751953,
           0.418313592672348,
           0.64961838722229,
           0.8766480088233948,
           0.897881031036377,
           0.28697675466537476,
           0.3806097209453583,
           0.5790217518806458,
           0.7648734450340271,
           0.7588589191436768,
           0.294555127620697,
           0.3920871615409851,
           0.5457690358161926,
           0.6888601779937744,
           0.6788209080696106,
           0.32811403274536133,
           0.4231918156147003,
           0.5681269764900208,
           0.6786768436431885,
           0.6667360067367554
          ],
          [
           0.923862099647522,
           0.9291381239891052,
           0.9188929796218872,
           0.8397849202156067,
           0.7662811875343323,
           0.9533646106719971,
           0.9529680609703064,
           0.9288796782493591,
           0.8290952444076538,
           0.7341843843460083,
           1,
           0.9757089614868164,
           0.9114234447479248,
           0.7968113422393799,
           0.684368908405304,
           0.942821204662323,
           0.9347444772720337,
           0.8478913307189941,
           0.7274393439292908,
           0.6201475858688354,
           0.8525741696357727,
           0.8642256259918213,
           0.7665652632713318,
           0.6701686978340149,
           0.5822478532791138,
           0.8062673211097717,
           0.8480316400527954,
           0.9037514328956604,
           0.8501530289649963,
           0.717688798904419,
           0.7649531364440918,
           0.8215005993843079,
           0.8805485963821411,
           0.8120589256286621,
           0.645724892616272,
           0.6597463488578796,
           0.7471156716346741,
           0.7438299655914307,
           0.6679317355155945,
           0.5178993940353394,
           0.6012400984764099,
           0.6780137419700623,
           0.6398794054985046,
           0.548843502998352,
           0.42848989367485046,
           0.5670298337936401,
           0.6360942125320435,
           0.5878530740737915,
           0.49972057342529297,
           0.4035615026950836
          ],
          [
           0.8783730864524841,
           0.9133352637290955,
           0.9192162156105042,
           0.8446224331855774,
           0.7692044973373413,
           0.9160093069076538,
           0.9521743059158325,
           0.9484918117523193,
           0.8494247794151306,
           0.7477162480354309,
           0.9757089614868164,
           1.0000001192092896,
           0.9527603983879089,
           0.8348580598831177,
           0.711867094039917,
           0.913701593875885,
           0.9555308818817139,
           0.8795709013938904,
           0.7577464580535889,
           0.6411504745483398,
           0.8160067796707153,
           0.8742271065711975,
           0.7847354412078857,
           0.6875337958335876,
           0.5909976959228516,
           0.7416402101516724,
           0.8152691721916199,
           0.9057836532592773,
           0.8782582879066467,
           0.7488702535629272,
           0.7014493942260742,
           0.7928985357284546,
           0.8962991237640381,
           0.8593924641609192,
           0.6932446360588074,
           0.5942323207855225,
           0.7193329930305481,
           0.7683281302452087,
           0.7262952327728271,
           0.5790086984634399,
           0.5373134613037109,
           0.6520974040031433,
           0.656585693359375,
           0.5938621163368225,
           0.47943127155303955,
           0.5000776052474976,
           0.607082724571228,
           0.5974986553192139,
           0.5350666642189026,
           0.44521814584732056
          ],
          [
           0.8000497817993164,
           0.8412571549415588,
           0.9223414659500122,
           0.9018155932426453,
           0.8625051975250244,
           0.8268594145774841,
           0.8725866675376892,
           0.9617252945899963,
           0.9266720414161682,
           0.865957498550415,
           0.9114234447479248,
           0.9527603983879089,
           1,
           0.9479697942733765,
           0.864202082157135,
           0.8997911810874939,
           0.9540756940841675,
           0.9575634598731995,
           0.8906446099281311,
           0.8042639493942261,
           0.8436433672904968,
           0.9103419780731201,
           0.8862202763557434,
           0.8297685980796814,
           0.7552019953727722,
           0.5939325094223022,
           0.6697074770927429,
           0.8531733155250549,
           0.9280508160591125,
           0.8667989373207092,
           0.5485033988952637,
           0.6421535611152649,
           0.8540380597114563,
           0.9351592659950256,
           0.8359341621398926,
           0.48233556747436523,
           0.6157800555229187,
           0.7904983758926392,
           0.8485646843910217,
           0.7445205450057983,
           0.47569727897644043,
           0.6080222725868225,
           0.7198866605758667,
           0.735639214515686,
           0.6493809819221497,
           0.47397810220718384,
           0.6013040542602539,
           0.687809407711029,
           0.6871071457862854,
           0.6174594759941101
          ],
          [
           0.7239054441452026,
           0.7583603262901306,
           0.8862562775611877,
           0.9384455680847168,
           0.9404602646827698,
           0.7373580932617188,
           0.7749185562133789,
           0.9192069172859192,
           0.9711901545524597,
           0.9601354002952576,
           0.7968113422393799,
           0.8348580598831177,
           0.9479697942733765,
           1.0000001192092896,
           0.969935953617096,
           0.8026375770568848,
           0.8522425889968872,
           0.9314103126525879,
           0.9634169936180115,
           0.9216508269309998,
           0.7968099117279053,
           0.8535608053207397,
           0.9021801352500916,
           0.9197972416877747,
           0.8789684176445007,
           0.4610201418399811,
           0.5268348455429077,
           0.7504271864891052,
           0.9336137771606445,
           0.9475244879722595,
           0.4091898202896118,
           0.4908897876739502,
           0.7436675429344177,
           0.9443404078483582,
           0.9219744801521301,
           0.35268470644950867,
           0.47265639901161194,
           0.6976993680000305,
           0.8676135540008545,
           0.82390296459198,
           0.3714503049850464,
           0.49506503343582153,
           0.6683833003044128,
           0.7932825684547424,
           0.7529757022857666,
           0.4060187041759491,
           0.5269208550453186,
           0.6831984519958496,
           0.7741592526435852,
           0.7380974888801575
          ],
          [
           0.6130936741828918,
           0.638763427734375,
           0.7976913452148438,
           0.8866463303565979,
           0.9269019365310669,
           0.6210618615150452,
           0.6474270224571228,
           0.8302189707756042,
           0.9283151030540466,
           0.9670011401176453,
           0.684368908405304,
           0.711867094039917,
           0.864202082157135,
           0.969935953617096,
           1.0000001192092896,
           0.7220169901847839,
           0.7552706599235535,
           0.8706633448600769,
           0.9523137211799622,
           0.9647302031517029,
           0.7511770725250244,
           0.7887206673622131,
           0.8707687854766846,
           0.9239515066146851,
           0.9270286560058594,
           0.3409380614757538,
           0.386586993932724,
           0.6347058415412903,
           0.8731644153594971,
           0.9569977521896362,
           0.29641634225845337,
           0.35486000776290894,
           0.6368849277496338,
           0.9029601216316223,
           0.9576555490493774,
           0.26692843437194824,
           0.3655829429626465,
           0.6319553256034851,
           0.8588383793830872,
           0.8781133890151978,
           0.3116166293621063,
           0.4208219051361084,
           0.6335773468017578,
           0.8104144930839539,
           0.8170246481895447,
           0.36987757682800293,
           0.4783162474632263,
           0.6757271885871887,
           0.8071498274803162,
           0.8070919513702393
          ],
          [
           0.7934831976890564,
           0.7939366102218628,
           0.826460599899292,
           0.7694562673568726,
           0.7158414125442505,
           0.8204647898674011,
           0.8182390332221985,
           0.8472155928611755,
           0.7744910717010498,
           0.707556962966919,
           0.942821204662323,
           0.913701593875885,
           0.8997911810874939,
           0.8026375770568848,
           0.7220169901847839,
           1.0000001192092896,
           0.9728859066963196,
           0.9232612252235413,
           0.8066380620002747,
           0.7245227098464966,
           0.9684471487998962,
           0.9608938097953796,
           0.8848704099655151,
           0.7811436653137207,
           0.7118025422096252,
           0.6963490843772888,
           0.7269641160964966,
           0.8300506472587585,
           0.8117828369140625,
           0.7238356471061707,
           0.6717236042022705,
           0.7138853073120117,
           0.8326650261878967,
           0.8099978566169739,
           0.6929385662078857,
           0.6323537826538086,
           0.710291862487793,
           0.7838627099990845,
           0.7440435290336609,
           0.6262630820274353,
           0.6377449631690979,
           0.7128212451934814,
           0.7370855808258057,
           0.6699183583259583,
           0.5658754110336304,
           0.6460533738136292,
           0.7141919732093811,
           0.7166368365287781,
           0.6368919610977173,
           0.5499637126922607
          ],
          [
           0.7728380560874939,
           0.8042498230934143,
           0.8490118980407715,
           0.7945857644081116,
           0.7357951998710632,
           0.8088935613632202,
           0.8437357544898987,
           0.8877815008163452,
           0.8130944967269897,
           0.73476243019104,
           0.9347444772720337,
           0.9555308818817139,
           0.9540756940841675,
           0.8522425889968872,
           0.7552706599235535,
           0.9728859066963196,
           1,
           0.9587737917900085,
           0.8407958149909973,
           0.7445178031921387,
           0.926662266254425,
           0.9705469608306885,
           0.9015973806381226,
           0.7984197735786438,
           0.7169207334518433,
           0.6485386490821838,
           0.7141414880752563,
           0.8492578864097595,
           0.8563807010650635,
           0.765249490737915,
           0.6224496960639954,
           0.7035513520240784,
           0.8621209263801575,
           0.8687160611152649,
           0.7438808083534241,
           0.5704250335693359,
           0.6903303265571594,
           0.8099851012229919,
           0.8034631013870239,
           0.6826509833335876,
           0.5696650147438049,
           0.6864745020866394,
           0.749671220779419,
           0.7113365530967712,
           0.6101617217063904,
           0.5704153180122375,
           0.6802363395690918,
           0.7188959121704102,
           0.6666954755783081,
           0.584496796131134
          ],
          [
           0.6932156682014465,
           0.7277100086212158,
           0.8314500451087952,
           0.8341377377510071,
           0.8065201044082642,
           0.7171501517295837,
           0.756973147392273,
           0.871224045753479,
           0.8633862137794495,
           0.8211382627487183,
           0.8478913307189941,
           0.8795709013938904,
           0.9575634598731995,
           0.9314103126525879,
           0.8706633448600769,
           0.9232612252235413,
           0.9587737917900085,
           1,
           0.9510911107063293,
           0.8834249377250671,
           0.9239785671234131,
           0.9720842242240906,
           0.976729691028595,
           0.923163115978241,
           0.8621517419815063,
           0.5122595429420471,
           0.5790011882781982,
           0.7838429808616638,
           0.8897123336791992,
           0.8593683838844299,
           0.4788057506084442,
           0.5602352619171143,
           0.7965484261512756,
           0.9148122668266296,
           0.8503973484039307,
           0.4539368748664856,
           0.5754283666610718,
           0.7885230779647827,
           0.8867199420928955,
           0.8076165318489075,
           0.49317893385887146,
           0.6183867454528809,
           0.7752971053123474,
           0.8323792815208435,
           0.760768473148346,
           0.5321065783500671,
           0.6534815430641174,
           0.783661425113678,
           0.8081120252609253,
           0.7469193339347839
          ],
          [
           0.6189736723899841,
           0.6484853029251099,
           0.7901897430419922,
           0.8604705333709717,
           0.8694988489151001,
           0.6302846074104309,
           0.663467288017273,
           0.8212141990661621,
           0.893566370010376,
           0.8955684900283813,
           0.7274393439292908,
           0.7577464580535889,
           0.8906446099281311,
           0.9634169936180115,
           0.9523137211799622,
           0.8066380620002747,
           0.8407958149909973,
           0.9510911107063293,
           1.0000001192092896,
           0.9749016165733337,
           0.8505874872207642,
           0.8918547630310059,
           0.9660010933876038,
           0.9872084856033325,
           0.9587465524673462,
           0.38761094212532043,
           0.4462432861328125,
           0.681433916091919,
           0.886879563331604,
           0.9242836833000183,
           0.34683141112327576,
           0.4181347191333771,
           0.6834837794303894,
           0.9111802577972412,
           0.9167412519454956,
           0.3228854238986969,
           0.43157681822776794,
           0.6828685998916626,
           0.8877453207969666,
           0.8663826584815979,
           0.3781336843967438,
           0.4945845603942871,
           0.704913854598999,
           0.8698892593383789,
           0.8441464900970459,
           0.4473543167114258,
           0.5624628067016602,
           0.7568541765213013,
           0.8739567399024963,
           0.8469530344009399
          ],
          [
           0.5132313370704651,
           0.5352014303207397,
           0.7011330723762512,
           0.8017876744270325,
           0.8441336154937744,
           0.520528256893158,
           0.5437515377998352,
           0.7313209176063538,
           0.8414844274520874,
           0.8871609568595886,
           0.6201475858688354,
           0.6411504745483398,
           0.8042639493942261,
           0.9216508269309998,
           0.9647302031517029,
           0.7245227098464966,
           0.7445178031921387,
           0.8834249377250671,
           0.9749016165733337,
           0.9999998807907104,
           0.7978495955467224,
           0.822451651096344,
           0.9239578247070312,
           0.9761024117469788,
           0.9889238476753235,
           0.2789075970649719,
           0.3194195032119751,
           0.5718902349472046,
           0.8223111033439636,
           0.9211505651473999,
           0.2446856051683426,
           0.29498469829559326,
           0.5813896656036377,
           0.8628441691398621,
           0.9370757341384888,
           0.2424842119216919,
           0.3317529261112213,
           0.6158886551856995,
           0.8689027428627014,
           0.9054553508758545,
           0.3181040585041046,
           0.4214170277118683,
           0.6641495823860168,
           0.8742246031761169,
           0.8927611112594604,
           0.40696001052856445,
           0.51059490442276,
           0.7397097945213318,
           0.8923957347869873,
           0.8999902606010437
          ],
          [
           0.6916664838790894,
           0.685775876045227,
           0.7469534277915955,
           0.7280980944633484,
           0.6992058157920837,
           0.7123708724975586,
           0.7043454647064209,
           0.7676205635070801,
           0.7405133247375488,
           0.7043556571006775,
           0.8525741696357727,
           0.8160067796707153,
           0.8436433672904968,
           0.7968099117279053,
           0.7511770725250244,
           0.9684471487998962,
           0.926662266254425,
           0.9239785671234131,
           0.8505874872207642,
           0.7978495955467224,
           0.9999998807907104,
           0.9750449061393738,
           0.9376112818717957,
           0.8588261604309082,
           0.8108595013618469,
           0.5795677304267883,
           0.6011973023414612,
           0.726821780204773,
           0.7628738284111023,
           0.7227094769477844,
           0.5582554936408997,
           0.5888164639472961,
           0.732599139213562,
           0.7720453143119812,
           0.7066136002540588,
           0.5480210185050964,
           0.6107755303382874,
           0.719055712223053,
           0.7385314702987671,
           0.6611574292182922,
           0.5877179503440857,
           0.649517297744751,
           0.715457022190094,
           0.7079668045043945,
           0.6331157684326172,
           0.6401510238647461,
           0.6951935887336731,
           0.741754412651062,
           0.7058023810386658,
           0.6374058723449707
          ],
          [
           0.6892550587654114,
           0.7131581902503967,
           0.7836213111877441,
           0.7630749940872192,
           0.726511538028717,
           0.7195969820022583,
           0.7466902136802673,
           0.821312427520752,
           0.7874167561531067,
           0.7371644377708435,
           0.8642256259918213,
           0.8742271065711975,
           0.9103419780731201,
           0.8535608053207397,
           0.7887206673622131,
           0.9608938097953796,
           0.9705469608306885,
           0.9720842242240906,
           0.8918547630310059,
           0.822451651096344,
           0.9750449061393738,
           1,
           0.9652687907218933,
           0.8829777240753174,
           0.8211535215377808,
           0.5502335429191589,
           0.6062583327293396,
           0.7615428566932678,
           0.8175115585327148,
           0.7692926526069641,
           0.5271779298782349,
           0.595950186252594,
           0.7763538360595703,
           0.8386172652244568,
           0.7600816488265991,
           0.5022737383842468,
           0.6068097352981567,
           0.7568854689598083,
           0.803530752658844,
           0.7183394432067871,
           0.5345945954322815,
           0.6380784511566162,
           0.7387529611587524,
           0.7537464499473572,
           0.6776947975158691,
           0.577782154083252,
           0.6744806170463562,
           0.7526367902755737,
           0.7385550737380981,
           0.6719520688056946
          ],
          [
           0.6108214855194092,
           0.6362390518188477,
           0.7539191246032715,
           0.7858492136001587,
           0.7762666344642639,
           0.6296404004096985,
           0.6592586040496826,
           0.7890230417251587,
           0.8165649771690369,
           0.7982074022293091,
           0.7665652632713318,
           0.7847354412078857,
           0.8862202763557434,
           0.9021801352500916,
           0.8707687854766846,
           0.8848704099655151,
           0.9015973806381226,
           0.976729691028595,
           0.9660010933876038,
           0.9239578247070312,
           0.9376112818717957,
           0.9652687907218933,
           1,
           0.9691156148910522,
           0.927253007888794,
           0.4292040169239044,
           0.4845978617668152,
           0.6930856108665466,
           0.8351904153823853,
           0.8398857116699219,
           0.3997165858745575,
           0.4666500389575958,
           0.7046898007392883,
           0.8636161684989929,
           0.8384740948677063,
           0.39290180802345276,
           0.49537116289138794,
           0.7166469097137451,
           0.8570412397384644,
           0.8106719255447388,
           0.4544960856437683,
           0.561872661113739,
           0.7396156787872314,
           0.8440574407577515,
           0.796833336353302,
           0.5280409455299377,
           0.6319428086280823,
           0.7887418866157532,
           0.8485355377197266,
           0.8029690980911255
          ],
          [
           0.5577067136764526,
           0.5792600512504578,
           0.7250056266784668,
           0.8070850968360901,
           0.824299693107605,
           0.5664178133010864,
           0.590472936630249,
           0.7524769902229309,
           0.8395452499389648,
           0.8532702326774597,
           0.6701686978340149,
           0.6875337958335876,
           0.8297685980796814,
           0.9197972416877747,
           0.9239515066146851,
           0.7811436653137207,
           0.7984197735786438,
           0.923163115978241,
           0.9872084856033325,
           0.9761024117469788,
           0.8588261604309082,
           0.8829777240753174,
           0.9691156148910522,
           1,
           0.9826563000679016,
           0.3306195139884949,
           0.38003894686698914,
           0.6104019284248352,
           0.8264356851577759,
           0.8793097734451294,
           0.2943367660045624,
           0.3537467420101166,
           0.6120845079421997,
           0.8516530990600586,
           0.8758137822151184,
           0.2836316227912903,
           0.37650391459465027,
           0.6248124241828918,
           0.8427718877792358,
           0.8367881774902344,
           0.3523598611354828,
           0.4536406099796295,
           0.6682834625244141,
           0.8489142060279846,
           0.8341178297996521,
           0.4417288303375244,
           0.541786789894104,
           0.7424514889717102,
           0.8711730241775513,
           0.8507913947105408
          ],
          [
           0.46990203857421875,
           0.4847330152988434,
           0.6485568881034851,
           0.7537135481834412,
           0.7975861430168152,
           0.47659754753112793,
           0.4915861189365387,
           0.6756283640861511,
           0.7913676500320435,
           0.8403054475784302,
           0.5822478532791138,
           0.5909976959228516,
           0.7552019953727722,
           0.8789684176445007,
           0.9270286560058594,
           0.7118025422096252,
           0.7169207334518433,
           0.8621517419815063,
           0.9587465524673462,
           0.9889238476753235,
           0.8108595013618469,
           0.8211535215377808,
           0.927253007888794,
           0.9826563000679016,
           1,
           0.24217326939105988,
           0.27631673216819763,
           0.5181122422218323,
           0.7676829099655151,
           0.8694245219230652,
           0.2119329422712326,
           0.25379908084869385,
           0.5262729525566101,
           0.8061299324035645,
           0.8851796388626099,
           0.2176794558763504,
           0.2945038378238678,
           0.5667815804481506,
           0.8208098411560059,
           0.861416220664978,
           0.3014589846134186,
           0.3919186294078827,
           0.6303684711456299,
           0.8446366786956787,
           0.8657585382461548,
           0.4046100676059723,
           0.4950576424598694,
           0.7213752269744873,
           0.8771793842315674,
           0.8856130838394165
          ],
          [
           0.8005876541137695,
           0.7808794975280762,
           0.6887841820716858,
           0.5801029801368713,
           0.48516035079956055,
           0.8133901953697205,
           0.7831792831420898,
           0.6618571281433105,
           0.5342063307762146,
           0.42230790853500366,
           0.8062673211097717,
           0.7416402101516724,
           0.5939325094223022,
           0.4610201418399811,
           0.3409380614757538,
           0.6963490843772888,
           0.6485386490821838,
           0.5122595429420471,
           0.38761094212532043,
           0.2789075970649719,
           0.5795677304267883,
           0.5502335429191589,
           0.4292040169239044,
           0.3306195139884949,
           0.24217326939105988,
           0.9999998807907104,
           0.9841412305831909,
           0.9022433161735535,
           0.6858999729156494,
           0.4832386076450348,
           0.980351984500885,
           0.9629325866699219,
           0.8584622144699097,
           0.6040068864822388,
           0.37826648354530334,
           0.9117365479469299,
           0.9121603965759277,
           0.7219352126121521,
           0.4668152630329132,
           0.26125097274780273,
           0.8322294354438782,
           0.8248497843742371,
           0.626771867275238,
           0.3856063187122345,
           0.21143653988838196,
           0.7673512697219849,
           0.7597005367279053,
           0.5579847693443298,
           0.335943341255188,
           0.19094423949718475
          ],
          [
           0.829132080078125,
           0.8307610750198364,
           0.7429172992706299,
           0.631498396396637,
           0.5269051790237427,
           0.8509796857833862,
           0.8460946679115295,
           0.728856086730957,
           0.5935077667236328,
           0.4658862352371216,
           0.8480316400527954,
           0.8152691721916199,
           0.6697074770927429,
           0.5268348455429077,
           0.386586993932724,
           0.7269641160964966,
           0.7141414880752563,
           0.5790011882781982,
           0.4462432861328125,
           0.3194195032119751,
           0.6011973023414612,
           0.6062583327293396,
           0.4845978617668152,
           0.38003894686698914,
           0.27631673216819763,
           0.9841412305831909,
           0.9999999403953552,
           0.9377962350845337,
           0.7391518950462341,
           0.5265054702758789,
           0.9617838263511658,
           0.9800540208816528,
           0.8992746472358704,
           0.6637446284294128,
           0.42332765460014343,
           0.8721694350242615,
           0.9096145629882812,
           0.7447407245635986,
           0.514472246170044,
           0.3012879490852356,
           0.7825741767883301,
           0.809178352355957,
           0.6348804831504822,
           0.41805216670036316,
           0.24316586554050446,
           0.7127161622047424,
           0.7374951243400574,
           0.5603216290473938,
           0.36215940117836,
           0.21871696412563324
          ],
          [
           0.8443514704704285,
           0.865876317024231,
           0.8613070845603943,
           0.7883180975914001,
           0.709123969078064,
           0.8631031513214111,
           0.8832429051399231,
           0.8669463396072388,
           0.7746220827102661,
           0.674230694770813,
           0.9037514328956604,
           0.9057836532592773,
           0.8531733155250549,
           0.7504271864891052,
           0.6347058415412903,
           0.8300506472587585,
           0.8492578864097595,
           0.7838429808616638,
           0.681433916091919,
           0.5718902349472046,
           0.726821780204773,
           0.7615428566932678,
           0.6930856108665466,
           0.6104019284248352,
           0.5181122422218323,
           0.9022433161735535,
           0.9377962350845337,
           0.9999999403953552,
           0.9081987738609314,
           0.7530767321586609,
           0.8709375858306885,
           0.9130110740661621,
           0.9784438014030457,
           0.8672031164169312,
           0.6786776781082153,
           0.8085176348686218,
           0.8833789229393005,
           0.881817102432251,
           0.7601134777069092,
           0.579363226890564,
           0.76407790184021,
           0.8381744623184204,
           0.7971554398536682,
           0.6615402102470398,
           0.5080847144126892,
           0.7210507392883301,
           0.7956461906433105,
           0.7360221147537231,
           0.6014907360076904,
           0.4746581017971039
          ],
          [
           0.808358371257782,
           0.8416514992713928,
           0.9181113243103027,
           0.9274985790252686,
           0.8950827717781067,
           0.8144795298576355,
           0.8475506901741028,
           0.9279175400733948,
           0.9310170412063599,
           0.8839130997657776,
           0.8501530289649963,
           0.8782582879066467,
           0.9280508160591125,
           0.9336137771606445,
           0.8731644153594971,
           0.8117828369140625,
           0.8563807010650635,
           0.8897123336791992,
           0.886879563331604,
           0.8223111033439636,
           0.7628738284111023,
           0.8175115585327148,
           0.8351904153823853,
           0.8264356851577759,
           0.7676829099655151,
           0.6858999729156494,
           0.7391518950462341,
           0.9081987738609314,
           1,
           0.9504047632217407,
           0.6278162598609924,
           0.6919138431549072,
           0.8793150782585144,
           0.9759281873703003,
           0.8915802836418152,
           0.5550643801689148,
           0.6576474905014038,
           0.8055433034896851,
           0.8841747641563416,
           0.7912096381187439,
           0.5463312864303589,
           0.6546033620834351,
           0.7610677480697632,
           0.8093051910400391,
           0.7286010384559631,
           0.5495064854621887,
           0.6592245101928711,
           0.7510640025138855,
           0.7737134099006653,
           0.705009937286377
          ],
          [
           0.6784712076187134,
           0.7089887857437134,
           0.8396456837654114,
           0.9056352972984314,
           0.9235225319862366,
           0.6754518747329712,
           0.705024242401123,
           0.8525151610374451,
           0.9237489700317383,
           0.9382620453834534,
           0.717688798904419,
           0.7488702535629272,
           0.8667989373207092,
           0.9475244879722595,
           0.9569977521896362,
           0.7238356471061707,
           0.765249490737915,
           0.8593683838844299,
           0.9242836833000183,
           0.9211505651473999,
           0.7227094769477844,
           0.7692926526069641,
           0.8398857116699219,
           0.8793097734451294,
           0.8694245219230652,
           0.4832386076450348,
           0.5265054702758789,
           0.7530767321586609,
           0.9504047632217407,
           0.9999998211860657,
           0.4232151508331299,
           0.4773334264755249,
           0.7333173155784607,
           0.9524555802345276,
           0.9732847809791565,
           0.3753568232059479,
           0.4719359278678894,
           0.7101268768310547,
           0.8999250531196594,
           0.8939747214317322,
           0.404343843460083,
           0.5143595337867737,
           0.7057355046272278,
           0.8544518351554871,
           0.8414885401725769,
           0.4435039162635803,
           0.5563297867774963,
           0.7339788675308228,
           0.8389018774032593,
           0.8234386444091797
          ],
          [
           0.7132426500320435,
           0.6938141584396362,
           0.6031935214996338,
           0.4920988976955414,
           0.3998812735080719,
           0.7467222809791565,
           0.7183003425598145,
           0.5968483090400696,
           0.4655922055244446,
           0.35960865020751953,
           0.7649531364440918,
           0.7014493942260742,
           0.5485033988952637,
           0.4091898202896118,
           0.29641634225845337,
           0.6717236042022705,
           0.6224496960639954,
           0.4788057506084442,
           0.34683141112327576,
           0.2446856051683426,
           0.5582554936408997,
           0.5271779298782349,
           0.3997165858745575,
           0.2943367660045624,
           0.2119329422712326,
           0.980351984500885,
           0.9617838263511658,
           0.8709375858306885,
           0.6278162598609924,
           0.4232151508331299,
           1.0000001192092896,
           0.9791402816772461,
           0.8633915185928345,
           0.5767791867256165,
           0.34886059165000916,
           0.9577730298042297,
           0.955793559551239,
           0.7479003071784973,
           0.45935723185539246,
           0.2497768998146057,
           0.8817249536514282,
           0.8725941777229309,
           0.6552709341049194,
           0.3837067186832428,
           0.20446214079856873,
           0.8129934072494507,
           0.8033638000488281,
           0.5819472074508667,
           0.3326900601387024,
           0.18366965651512146
          ],
          [
           0.7552506923675537,
           0.7582243084907532,
           0.6733505129814148,
           0.5592095851898193,
           0.4566684663295746,
           0.7991618514060974,
           0.7976066470146179,
           0.6816356778144836,
           0.5417208075523376,
           0.418313592672348,
           0.8215005993843079,
           0.7928985357284546,
           0.6421535611152649,
           0.4908897876739502,
           0.35486000776290894,
           0.7138853073120117,
           0.7035513520240784,
           0.5602352619171143,
           0.4181347191333771,
           0.29498469829559326,
           0.5888164639472961,
           0.595950186252594,
           0.4666500389575958,
           0.3537467420101166,
           0.25379908084869385,
           0.9629325866699219,
           0.9800540208816528,
           0.9130110740661621,
           0.6919138431549072,
           0.4773334264755249,
           0.9791402816772461,
           1,
           0.9123485088348389,
           0.6484190225601196,
           0.4041922986507416,
           0.9107112884521484,
           0.9526249170303345,
           0.7741437554359436,
           0.5145471692085266,
           0.29685595631599426,
           0.8217471837997437,
           0.8524507284164429,
           0.6625255346298218,
           0.41953837871551514,
           0.24058757722377777,
           0.746842086315155,
           0.7747499942779541,
           0.5819206237792969,
           0.3609048128128052,
           0.21490821242332458
          ],
          [
           0.7590603232383728,
           0.7874910235404968,
           0.7998902797698975,
           0.7283065915107727,
           0.6557729244232178,
           0.8000206351280212,
           0.8306735157966614,
           0.8336626291275024,
           0.7408150434494019,
           0.64961838722229,
           0.8805485963821411,
           0.8962991237640381,
           0.8540380597114563,
           0.7436675429344177,
           0.6368849277496338,
           0.8326650261878967,
           0.8621209263801575,
           0.7965484261512756,
           0.6834837794303894,
           0.5813896656036377,
           0.732599139213562,
           0.7763538360595703,
           0.7046898007392883,
           0.6120845079421997,
           0.5262729525566101,
           0.8584622144699097,
           0.8992746472358704,
           0.9784438014030457,
           0.8793150782585144,
           0.7333173155784607,
           0.8633915185928345,
           0.9123485088348389,
           0.9999998211860657,
           0.8805279731750488,
           0.6997506022453308,
           0.8311188817024231,
           0.9178803563117981,
           0.9378331899642944,
           0.80271315574646,
           0.6250041127204895,
           0.7979629635810852,
           0.8856058716773987,
           0.8544967174530029,
           0.7017585039138794,
           0.5491933226585388,
           0.7541296482086182,
           0.8415367603302002,
           0.7868773937225342,
           0.635723352432251,
           0.5102472305297852
          ],
          [
           0.704541802406311,
           0.7479761838912964,
           0.8535568118095398,
           0.8731114268302917,
           0.8542059063911438,
           0.7306636571884155,
           0.7782483696937561,
           0.8931372165679932,
           0.9059995412826538,
           0.8766480088233948,
           0.8120589256286621,
           0.8593924641609192,
           0.9351592659950256,
           0.9443404078483582,
           0.9029601216316223,
           0.8099978566169739,
           0.8687160611152649,
           0.9148122668266296,
           0.9111802577972412,
           0.8628441691398621,
           0.7720453143119812,
           0.8386172652244568,
           0.8636161684989929,
           0.8516530990600586,
           0.8061299324035645,
           0.6040068864822388,
           0.6637446284294128,
           0.8672031164169312,
           0.9759281873703003,
           0.9524555802345276,
           0.5767791867256165,
           0.6484190225601196,
           0.8805279731750488,
           1.0000001192092896,
           0.942594587802887,
           0.5378051996231079,
           0.6539955139160156,
           0.8532038331031799,
           0.9484385848045349,
           0.8746262788772583,
           0.5500709414482117,
           0.6756327152252197,
           0.8184009194374084,
           0.8749209046363831,
           0.8074511885643005,
           0.56009840965271,
           0.6868528723716736,
           0.8086682558059692,
           0.8355792760848999,
           0.7779242396354675
          ],
          [
           0.5425406694412231,
           0.5814433693885803,
           0.7389693260192871,
           0.8153086304664612,
           0.8490329384803772,
           0.5579514503479004,
           0.5999306440353394,
           0.779650866985321,
           0.8613597750663757,
           0.897881031036377,
           0.645724892616272,
           0.6932446360588074,
           0.8359341621398926,
           0.9219744801521301,
           0.9576555490493774,
           0.6929385662078857,
           0.7438808083534241,
           0.8503973484039307,
           0.9167412519454956,
           0.9370757341384888,
           0.7066136002540588,
           0.7600816488265991,
           0.8384740948677063,
           0.8758137822151184,
           0.8851796388626099,
           0.37826648354530334,
           0.42332765460014343,
           0.6786776781082153,
           0.8915802836418152,
           0.9732847809791565,
           0.34886059165000916,
           0.4041922986507416,
           0.6997506022453308,
           0.942594587802887,
           1.0000001192092896,
           0.3379901647567749,
           0.44059962034225464,
           0.7285684943199158,
           0.936988115310669,
           0.9601299166679382,
           0.39067909121513367,
           0.5112434029579163,
           0.7387806177139282,
           0.8988323211669922,
           0.9067333936691284,
           0.4384540319442749,
           0.5618681907653809,
           0.7703226208686829,
           0.8819333910942078,
           0.8834471702575684
          ],
          [
           0.5551642179489136,
           0.5310111045837402,
           0.4729357659816742,
           0.375652551651001,
           0.3044610619544983,
           0.5864155292510986,
           0.557329535484314,
           0.47913017868995667,
           0.3663570284843445,
           0.28697675466537476,
           0.6597463488578796,
           0.5942323207855225,
           0.48233556747436523,
           0.35268470644950867,
           0.26692843437194824,
           0.6323537826538086,
           0.5704250335693359,
           0.4539368748664856,
           0.3228854238986969,
           0.2424842119216919,
           0.5480210185050964,
           0.5022737383842468,
           0.39290180802345276,
           0.2836316227912903,
           0.2176794558763504,
           0.9117365479469299,
           0.8721694350242615,
           0.8085176348686218,
           0.5550643801689148,
           0.3753568232059479,
           0.9577730298042297,
           0.9107112884521484,
           0.8311188817024231,
           0.5378051996231079,
           0.3379901647567749,
           0.9999998807907104,
           0.9747110605239868,
           0.8082836270332336,
           0.4963911175727844,
           0.2931097447872162,
           0.9754297733306885,
           0.9509848952293396,
           0.7552863359451294,
           0.44796687364578247,
           0.26148921251296997,
           0.9282377362251282,
           0.9062486290931702,
           0.6900292038917542,
           0.3992515206336975,
           0.24005922675132751
          ],
          [
           0.6162557601928711,
           0.6162965893745422,
           0.5722575187683105,
           0.4726819097995758,
           0.3926698863506317,
           0.6599082946777344,
           0.6594146490097046,
           0.5964420437812805,
           0.47543594241142273,
           0.3806097209453583,
           0.7471156716346741,
           0.7193329930305481,
           0.6157800555229187,
           0.47265639901161194,
           0.3655829429626465,
           0.710291862487793,
           0.6903303265571594,
           0.5754283666610718,
           0.43157681822776794,
           0.3317529261112213,
           0.6107755303382874,
           0.6068097352981567,
           0.49537116289138794,
           0.37650391459465027,
           0.2945038378238678,
           0.9121603965759277,
           0.9096145629882812,
           0.8833789229393005,
           0.6576474905014038,
           0.4719359278678894,
           0.955793559551239,
           0.9526249170303345,
           0.9178803563117981,
           0.6539955139160156,
           0.44059962034225464,
           0.9747110605239868,
           1,
           0.8811477422714233,
           0.6021952033042908,
           0.391385555267334,
           0.9415357708930969,
           0.9658148884773254,
           0.8094812035560608,
           0.5306163430213928,
           0.34411510825157166,
           0.8873546719551086,
           0.9120926856994629,
           0.7335197925567627,
           0.4697851240634918,
           0.31391963362693787
          ],
          [
           0.554193377494812,
           0.5834454894065857,
           0.6479898691177368,
           0.5994055867195129,
           0.5562150478363037,
           0.5906538367271423,
           0.6264576315879822,
           0.696752667427063,
           0.632276713848114,
           0.5790217518806458,
           0.7438299655914307,
           0.7683281302452087,
           0.7904983758926392,
           0.6976993680000305,
           0.6319553256034851,
           0.7838627099990845,
           0.8099851012229919,
           0.7885230779647827,
           0.6828685998916626,
           0.6158886551856995,
           0.719055712223053,
           0.7568854689598083,
           0.7166469097137451,
           0.6248124241828918,
           0.5667815804481506,
           0.7219352126121521,
           0.7447407245635986,
           0.881817102432251,
           0.8055433034896851,
           0.7101268768310547,
           0.7479003071784973,
           0.7741437554359436,
           0.9378331899642944,
           0.8532038331031799,
           0.7285684943199158,
           0.8082836270332336,
           0.8811477422714233,
           1,
           0.8825991153717041,
           0.7349300384521484,
           0.8441546559333801,
           0.9316641092300415,
           0.9718285799026489,
           0.8160971403121948,
           0.6754125356674194,
           0.8291019797325134,
           0.9207876920700073,
           0.9160223603248596,
           0.7504205107688904,
           0.6317852139472961
          ],
          [
           0.4975312054157257,
           0.5446547269821167,
           0.6865878105163574,
           0.7201828956604004,
           0.7204519510269165,
           0.5215775966644287,
           0.5767914652824402,
           0.7375498414039612,
           0.7671973705291748,
           0.7648734450340271,
           0.6679317355155945,
           0.7262952327728271,
           0.8485646843910217,
           0.8676135540008545,
           0.8588383793830872,
           0.7440435290336609,
           0.8034631013870239,
           0.8867199420928955,
           0.8877453207969666,
           0.8689027428627014,
           0.7385314702987671,
           0.803530752658844,
           0.8570412397384644,
           0.8427718877792358,
           0.8208098411560059,
           0.4668152630329132,
           0.514472246170044,
           0.7601134777069092,
           0.8841747641563416,
           0.8999250531196594,
           0.45935723185539246,
           0.5145471692085266,
           0.80271315574646,
           0.9484385848045349,
           0.936988115310669,
           0.4963911175727844,
           0.6021952033042908,
           0.8825991153717041,
           1,
           0.9549158215522766,
           0.5661200284957886,
           0.6932209730148315,
           0.9016826748847961,
           0.9683594107627869,
           0.91583651304245,
           0.6019257307052612,
           0.7345408201217651,
           0.9069693088531494,
           0.9326393604278564,
           0.8854020833969116
          ],
          [
           0.3579085171222687,
           0.403472363948822,
           0.5789963006973267,
           0.6552503108978271,
           0.6955508589744568,
           0.37477174401283264,
           0.42707300186157227,
           0.6293203234672546,
           0.7102625370025635,
           0.7588589191436768,
           0.5178993940353394,
           0.5790086984634399,
           0.7445205450057983,
           0.82390296459198,
           0.8781133890151978,
           0.6262630820274353,
           0.6826509833335876,
           0.8076165318489075,
           0.8663826584815979,
           0.9054553508758545,
           0.6611574292182922,
           0.7183394432067871,
           0.8106719255447388,
           0.8367881774902344,
           0.861416220664978,
           0.26125097274780273,
           0.3012879490852356,
           0.579363226890564,
           0.7912096381187439,
           0.8939747214317322,
           0.2497768998146057,
           0.29685595631599426,
           0.6250041127204895,
           0.8746262788772583,
           0.9601299166679382,
           0.2931097447872162,
           0.391385555267334,
           0.7349300384521484,
           0.9549158215522766,
           1.000000238418579,
           0.3856584131717682,
           0.510664165019989,
           0.7854005098342896,
           0.9522145390510559,
           0.9740688800811768,
           0.44955143332481384,
           0.5805152654647827,
           0.8265767097473145,
           0.9373334646224976,
           0.9497479796409607
          ],
          [
           0.465013325214386,
           0.43927982449531555,
           0.42051902413368225,
           0.34781038761138916,
           0.2971455752849579,
           0.48808225989341736,
           0.4597758948802948,
           0.43139228224754333,
           0.3485076129436493,
           0.294555127620697,
           0.6012400984764099,
           0.5373134613037109,
           0.47569727897644043,
           0.3714503049850464,
           0.3116166293621063,
           0.6377449631690979,
           0.5696650147438049,
           0.49317893385887146,
           0.3781336843967438,
           0.3181040585041046,
           0.5877179503440857,
           0.5345945954322815,
           0.4544960856437683,
           0.3523598611354828,
           0.3014589846134186,
           0.8322294354438782,
           0.7825741767883301,
           0.76407790184021,
           0.5463312864303589,
           0.404343843460083,
           0.8817249536514282,
           0.8217471837997437,
           0.7979629635810852,
           0.5500709414482117,
           0.39067909121513367,
           0.9754297733306885,
           0.9415357708930969,
           0.8441546559333801,
           0.5661200284957886,
           0.3856584131717682,
           1.0000001192092896,
           0.9749191999435425,
           0.8346223831176758,
           0.5477992296218872,
           0.37136542797088623,
           0.9818891882896423,
           0.9615879058837891,
           0.7890896201133728,
           0.5068007111549377,
           0.3528914153575897
          ],
          [
           0.512292742729187,
           0.5109350085258484,
           0.5139713287353516,
           0.44240182638168335,
           0.38674452900886536,
           0.5460891127586365,
           0.5461984872817993,
           0.5426433086395264,
           0.4559718668460846,
           0.3920871615409851,
           0.6780137419700623,
           0.6520974040031433,
           0.6080222725868225,
           0.49506503343582153,
           0.4208219051361084,
           0.7128212451934814,
           0.6864745020866394,
           0.6183867454528809,
           0.4945845603942871,
           0.4214170277118683,
           0.649517297744751,
           0.6380784511566162,
           0.561872661113739,
           0.4536406099796295,
           0.3919186294078827,
           0.8248497843742371,
           0.809178352355957,
           0.8381744623184204,
           0.6546033620834351,
           0.5143595337867737,
           0.8725941777229309,
           0.8524507284164429,
           0.8856058716773987,
           0.6756327152252197,
           0.5112434029579163,
           0.9509848952293396,
           0.9658148884773254,
           0.9316641092300415,
           0.6932209730148315,
           0.510664165019989,
           0.9749191999435425,
           1.0000001192092896,
           0.911353349685669,
           0.6560802459716797,
           0.4823938310146332,
           0.9519181847572327,
           0.9810364842414856,
           0.8558209538459778,
           0.6021302938461304,
           0.45382413268089294
          ],
          [
           0.4412805736064911,
           0.4635641276836395,
           0.5556630492210388,
           0.5381136536598206,
           0.5149020552635193,
           0.46718594431877136,
           0.49579957127571106,
           0.5989341735839844,
           0.5720791220664978,
           0.5457690358161926,
           0.6398794054985046,
           0.656585693359375,
           0.7198866605758667,
           0.6683833003044128,
           0.6335773468017578,
           0.7370855808258057,
           0.749671220779419,
           0.7752971053123474,
           0.704913854598999,
           0.6641495823860168,
           0.715457022190094,
           0.7387529611587524,
           0.7396156787872314,
           0.6682834625244141,
           0.6303684711456299,
           0.626771867275238,
           0.6348804831504822,
           0.7971554398536682,
           0.7610677480697632,
           0.7057355046272278,
           0.6552709341049194,
           0.6625255346298218,
           0.8544967174530029,
           0.8184009194374084,
           0.7387806177139282,
           0.7552863359451294,
           0.8094812035560608,
           0.9718285799026489,
           0.9016826748847961,
           0.7854005098342896,
           0.8346223831176758,
           0.911353349685669,
           1.0000001192092896,
           0.888691782951355,
           0.7672250270843506,
           0.8530369400978088,
           0.9371599555015564,
           0.9781325459480286,
           0.8422597050666809,
           0.7366032004356384
          ],
          [
           0.3810088336467743,
           0.4180636405944824,
           0.5689885020256042,
           0.6292704939842224,
           0.643322765827179,
           0.39655882120132446,
           0.4406015872955322,
           0.6096168756484985,
           0.6709722280502319,
           0.6888601779937744,
           0.548843502998352,
           0.5938621163368225,
           0.735639214515686,
           0.7932825684547424,
           0.8104144930839539,
           0.6699183583259583,
           0.7113365530967712,
           0.8323792815208435,
           0.8698892593383789,
           0.8742246031761169,
           0.7079668045043945,
           0.7537464499473572,
           0.8440574407577515,
           0.8489142060279846,
           0.8446366786956787,
           0.3856063187122345,
           0.41805216670036316,
           0.6615402102470398,
           0.8093051910400391,
           0.8544518351554871,
           0.3837067186832428,
           0.41953837871551514,
           0.7017585039138794,
           0.8749209046363831,
           0.8988323211669922,
           0.44796687364578247,
           0.5306163430213928,
           0.8160971403121948,
           0.9683594107627869,
           0.9522145390510559,
           0.5477992296218872,
           0.6560802459716797,
           0.888691782951355,
           0.9999998807907104,
           0.9677540063858032,
           0.6147926449775696,
           0.7308368682861328,
           0.9333010315895081,
           0.9897372722625732,
           0.9562560319900513
          ],
          [
           0.273407906293869,
           0.31149348616600037,
           0.48429641127586365,
           0.5767297148704529,
           0.6201865673065186,
           0.2852852940559387,
           0.3292689025402069,
           0.5246740579605103,
           0.6238011717796326,
           0.6788209080696106,
           0.42848989367485046,
           0.47943127155303955,
           0.6493809819221497,
           0.7529757022857666,
           0.8170246481895447,
           0.5658754110336304,
           0.6101617217063904,
           0.760768473148346,
           0.8441464900970459,
           0.8927611112594604,
           0.6331157684326172,
           0.6776947975158691,
           0.796833336353302,
           0.8341178297996521,
           0.8657585382461548,
           0.21143653988838196,
           0.24316586554050446,
           0.5080847144126892,
           0.7286010384559631,
           0.8414885401725769,
           0.20446214079856873,
           0.24058757722377777,
           0.5491933226585388,
           0.8074511885643005,
           0.9067333936691284,
           0.26148921251296997,
           0.34411510825157166,
           0.6754125356674194,
           0.91583651304245,
           0.9740688800811768,
           0.37136542797088623,
           0.4823938310146332,
           0.7672250270843506,
           0.9677540063858032,
           1,
           0.45845943689346313,
           0.5769088268280029,
           0.8405308723449707,
           0.9747310876846313,
           0.9939720034599304
          ],
          [
           0.42051199078559875,
           0.39188265800476074,
           0.39879727363586426,
           0.3548583686351776,
           0.3226153552532196,
           0.4374803900718689,
           0.4069644510746002,
           0.4094398319721222,
           0.36026865243911743,
           0.32811403274536133,
           0.5670298337936401,
           0.5000776052474976,
           0.47397810220718384,
           0.4060187041759491,
           0.36987757682800293,
           0.6460533738136292,
           0.5704153180122375,
           0.5321065783500671,
           0.4473543167114258,
           0.40696001052856445,
           0.6401510238647461,
           0.577782154083252,
           0.5280409455299377,
           0.4417288303375244,
           0.4046100676059723,
           0.7673512697219849,
           0.7127161622047424,
           0.7210507392883301,
           0.5495064854621887,
           0.4435039162635803,
           0.8129934072494507,
           0.746842086315155,
           0.7541296482086182,
           0.56009840965271,
           0.4384540319442749,
           0.9282377362251282,
           0.8873546719551086,
           0.8291019797325134,
           0.6019257307052612,
           0.44955143332481384,
           0.9818891882896423,
           0.9519181847572327,
           0.8530369400978088,
           0.6147926449775696,
           0.45845943689346313,
           0.9999998211860657,
           0.9751887917518616,
           0.8436576724052429,
           0.5951194763183594,
           0.4534487724304199
          ],
          [
           0.46258363127708435,
           0.4584757387638092,
           0.48863229155540466,
           0.4465937316417694,
           0.4100639224052429,
           0.4885999262332916,
           0.4864215552806854,
           0.5156186819076538,
           0.46395331621170044,
           0.4231918156147003,
           0.6360942125320435,
           0.607082724571228,
           0.6013040542602539,
           0.5269208550453186,
           0.4783162474632263,
           0.7141919732093811,
           0.6802363395690918,
           0.6534815430641174,
           0.5624628067016602,
           0.51059490442276,
           0.6951935887336731,
           0.6744806170463562,
           0.6319428086280823,
           0.541786789894104,
           0.4950576424598694,
           0.7597005367279053,
           0.7374951243400574,
           0.7956461906433105,
           0.6592245101928711,
           0.5563297867774963,
           0.8033638000488281,
           0.7747499942779541,
           0.8415367603302002,
           0.6868528723716736,
           0.5618681907653809,
           0.9062486290931702,
           0.9120926856994629,
           0.9207876920700073,
           0.7345408201217651,
           0.5805152654647827,
           0.9615879058837891,
           0.9810364842414856,
           0.9371599555015564,
           0.7308368682861328,
           0.5769088268280029,
           0.9751887917518616,
           1.000000238418579,
           0.9180951118469238,
           0.6980205774307251,
           0.5614811182022095
          ],
          [
           0.3954862654209137,
           0.4128219485282898,
           0.5221683979034424,
           0.5372971892356873,
           0.5324026346206665,
           0.414905846118927,
           0.4378155469894409,
           0.560021698474884,
           0.5716549754142761,
           0.5681269764900208,
           0.5878530740737915,
           0.5974986553192139,
           0.687809407711029,
           0.6831984519958496,
           0.6757271885871887,
           0.7166368365287781,
           0.7188959121704102,
           0.783661425113678,
           0.7568541765213013,
           0.7397097945213318,
           0.741754412651062,
           0.7526367902755737,
           0.7887418866157532,
           0.7424514889717102,
           0.7213752269744873,
           0.5579847693443298,
           0.5603216290473938,
           0.7360221147537231,
           0.7510640025138855,
           0.7339788675308228,
           0.5819472074508667,
           0.5819206237792969,
           0.7868773937225342,
           0.8086682558059692,
           0.7703226208686829,
           0.6900292038917542,
           0.7335197925567627,
           0.9160223603248596,
           0.9069693088531494,
           0.8265767097473145,
           0.7890896201133728,
           0.8558209538459778,
           0.9781325459480286,
           0.9333010315895081,
           0.8405308723449707,
           0.8436576724052429,
           0.9180951118469238,
           1.0000001192092896,
           0.9146701097488403,
           0.8281606435775757
          ],
          [
           0.3429293632507324,
           0.3734431862831116,
           0.5285707116127014,
           0.6082335710525513,
           0.6325312256813049,
           0.35418808460235596,
           0.39056119322776794,
           0.5633968114852905,
           0.6479024887084961,
           0.6786768436431885,
           0.49972057342529297,
           0.5350666642189026,
           0.6871071457862854,
           0.7741592526435852,
           0.8071498274803162,
           0.6368919610977173,
           0.6666954755783081,
           0.8081120252609253,
           0.8739567399024963,
           0.8923957347869873,
           0.7058023810386658,
           0.7385550737380981,
           0.8485355377197266,
           0.8711730241775513,
           0.8771793842315674,
           0.335943341255188,
           0.36215940117836,
           0.6014907360076904,
           0.7737134099006653,
           0.8389018774032593,
           0.3326900601387024,
           0.3609048128128052,
           0.635723352432251,
           0.8355792760848999,
           0.8819333910942078,
           0.3992515206336975,
           0.4697851240634918,
           0.7504205107688904,
           0.9326393604278564,
           0.9373334646224976,
           0.5068007111549377,
           0.6021302938461304,
           0.8422597050666809,
           0.9897372722625732,
           0.9747310876846313,
           0.5951194763183594,
           0.6980205774307251,
           0.9146701097488403,
           0.9999999403953552,
           0.9778017997741699
          ],
          [
           0.25661686062812805,
           0.28879687190055847,
           0.460157573223114,
           0.5635671019554138,
           0.6102162599563599,
           0.2665374279022217,
           0.30354928970336914,
           0.4956153631210327,
           0.6076047420501709,
           0.6667360067367554,
           0.4035615026950836,
           0.44521814584732056,
           0.6174594759941101,
           0.7380974888801575,
           0.8070919513702393,
           0.5499637126922607,
           0.584496796131134,
           0.7469193339347839,
           0.8469530344009399,
           0.8999902606010437,
           0.6374058723449707,
           0.6719520688056946,
           0.8029690980911255,
           0.8507913947105408,
           0.8856130838394165,
           0.19094423949718475,
           0.21871696412563324,
           0.4746581017971039,
           0.705009937286377,
           0.8234386444091797,
           0.18366965651512146,
           0.21490821242332458,
           0.5102472305297852,
           0.7779242396354675,
           0.8834471702575684,
           0.24005922675132751,
           0.31391963362693787,
           0.6317852139472961,
           0.8854020833969116,
           0.9497479796409607,
           0.3528914153575897,
           0.45382413268089294,
           0.7366032004356384,
           0.9562560319900513,
           0.9939720034599304,
           0.4534487724304199,
           0.5614811182022095,
           0.8281606435775757,
           0.9778017997741699,
           0.9999998211860657
          ]
         ]
        }
       ],
       "layout": {
        "coloraxis": {
         "colorscale": [
          [
           0,
           "#0d0887"
          ],
          [
           0.1111111111111111,
           "#46039f"
          ],
          [
           0.2222222222222222,
           "#7201a8"
          ],
          [
           0.3333333333333333,
           "#9c179e"
          ],
          [
           0.4444444444444444,
           "#bd3786"
          ],
          [
           0.5555555555555556,
           "#d8576b"
          ],
          [
           0.6666666666666666,
           "#ed7953"
          ],
          [
           0.7777777777777778,
           "#fb9f3a"
          ],
          [
           0.8888888888888888,
           "#fdca26"
          ],
          [
           1,
           "#f0f921"
          ]
         ]
        },
        "margin": {
         "t": 60
        },
        "template": {
         "data": {
          "bar": [
           {
            "error_x": {
             "color": "#2a3f5f"
            },
            "error_y": {
             "color": "#2a3f5f"
            },
            "marker": {
             "line": {
              "color": "#E5ECF6",
              "width": 0.5
             },
             "pattern": {
              "fillmode": "overlay",
              "size": 10,
              "solidity": 0.2
             }
            },
            "type": "bar"
           }
          ],
          "barpolar": [
           {
            "marker": {
             "line": {
              "color": "#E5ECF6",
              "width": 0.5
             },
             "pattern": {
              "fillmode": "overlay",
              "size": 10,
              "solidity": 0.2
             }
            },
            "type": "barpolar"
           }
          ],
          "carpet": [
           {
            "aaxis": {
             "endlinecolor": "#2a3f5f",
             "gridcolor": "white",
             "linecolor": "white",
             "minorgridcolor": "white",
             "startlinecolor": "#2a3f5f"
            },
            "baxis": {
             "endlinecolor": "#2a3f5f",
             "gridcolor": "white",
             "linecolor": "white",
             "minorgridcolor": "white",
             "startlinecolor": "#2a3f5f"
            },
            "type": "carpet"
           }
          ],
          "choropleth": [
           {
            "colorbar": {
             "outlinewidth": 0,
             "ticks": ""
            },
            "type": "choropleth"
           }
          ],
          "contour": [
           {
            "colorbar": {
             "outlinewidth": 0,
             "ticks": ""
            },
            "colorscale": [
             [
              0,
              "#0d0887"
             ],
             [
              0.1111111111111111,
              "#46039f"
             ],
             [
              0.2222222222222222,
              "#7201a8"
             ],
             [
              0.3333333333333333,
              "#9c179e"
             ],
             [
              0.4444444444444444,
              "#bd3786"
             ],
             [
              0.5555555555555556,
              "#d8576b"
             ],
             [
              0.6666666666666666,
              "#ed7953"
             ],
             [
              0.7777777777777778,
              "#fb9f3a"
             ],
             [
              0.8888888888888888,
              "#fdca26"
             ],
             [
              1,
              "#f0f921"
             ]
            ],
            "type": "contour"
           }
          ],
          "contourcarpet": [
           {
            "colorbar": {
             "outlinewidth": 0,
             "ticks": ""
            },
            "type": "contourcarpet"
           }
          ],
          "heatmap": [
           {
            "colorbar": {
             "outlinewidth": 0,
             "ticks": ""
            },
            "colorscale": [
             [
              0,
              "#0d0887"
             ],
             [
              0.1111111111111111,
              "#46039f"
             ],
             [
              0.2222222222222222,
              "#7201a8"
             ],
             [
              0.3333333333333333,
              "#9c179e"
             ],
             [
              0.4444444444444444,
              "#bd3786"
             ],
             [
              0.5555555555555556,
              "#d8576b"
             ],
             [
              0.6666666666666666,
              "#ed7953"
             ],
             [
              0.7777777777777778,
              "#fb9f3a"
             ],
             [
              0.8888888888888888,
              "#fdca26"
             ],
             [
              1,
              "#f0f921"
             ]
            ],
            "type": "heatmap"
           }
          ],
          "heatmapgl": [
           {
            "colorbar": {
             "outlinewidth": 0,
             "ticks": ""
            },
            "colorscale": [
             [
              0,
              "#0d0887"
             ],
             [
              0.1111111111111111,
              "#46039f"
             ],
             [
              0.2222222222222222,
              "#7201a8"
             ],
             [
              0.3333333333333333,
              "#9c179e"
             ],
             [
              0.4444444444444444,
              "#bd3786"
             ],
             [
              0.5555555555555556,
              "#d8576b"
             ],
             [
              0.6666666666666666,
              "#ed7953"
             ],
             [
              0.7777777777777778,
              "#fb9f3a"
             ],
             [
              0.8888888888888888,
              "#fdca26"
             ],
             [
              1,
              "#f0f921"
             ]
            ],
            "type": "heatmapgl"
           }
          ],
          "histogram": [
           {
            "marker": {
             "pattern": {
              "fillmode": "overlay",
              "size": 10,
              "solidity": 0.2
             }
            },
            "type": "histogram"
           }
          ],
          "histogram2d": [
           {
            "colorbar": {
             "outlinewidth": 0,
             "ticks": ""
            },
            "colorscale": [
             [
              0,
              "#0d0887"
             ],
             [
              0.1111111111111111,
              "#46039f"
             ],
             [
              0.2222222222222222,
              "#7201a8"
             ],
             [
              0.3333333333333333,
              "#9c179e"
             ],
             [
              0.4444444444444444,
              "#bd3786"
             ],
             [
              0.5555555555555556,
              "#d8576b"
             ],
             [
              0.6666666666666666,
              "#ed7953"
             ],
             [
              0.7777777777777778,
              "#fb9f3a"
             ],
             [
              0.8888888888888888,
              "#fdca26"
             ],
             [
              1,
              "#f0f921"
             ]
            ],
            "type": "histogram2d"
           }
          ],
          "histogram2dcontour": [
           {
            "colorbar": {
             "outlinewidth": 0,
             "ticks": ""
            },
            "colorscale": [
             [
              0,
              "#0d0887"
             ],
             [
              0.1111111111111111,
              "#46039f"
             ],
             [
              0.2222222222222222,
              "#7201a8"
             ],
             [
              0.3333333333333333,
              "#9c179e"
             ],
             [
              0.4444444444444444,
              "#bd3786"
             ],
             [
              0.5555555555555556,
              "#d8576b"
             ],
             [
              0.6666666666666666,
              "#ed7953"
             ],
             [
              0.7777777777777778,
              "#fb9f3a"
             ],
             [
              0.8888888888888888,
              "#fdca26"
             ],
             [
              1,
              "#f0f921"
             ]
            ],
            "type": "histogram2dcontour"
           }
          ],
          "mesh3d": [
           {
            "colorbar": {
             "outlinewidth": 0,
             "ticks": ""
            },
            "type": "mesh3d"
           }
          ],
          "parcoords": [
           {
            "line": {
             "colorbar": {
              "outlinewidth": 0,
              "ticks": ""
             }
            },
            "type": "parcoords"
           }
          ],
          "pie": [
           {
            "automargin": true,
            "type": "pie"
           }
          ],
          "scatter": [
           {
            "marker": {
             "colorbar": {
              "outlinewidth": 0,
              "ticks": ""
             }
            },
            "type": "scatter"
           }
          ],
          "scatter3d": [
           {
            "line": {
             "colorbar": {
              "outlinewidth": 0,
              "ticks": ""
             }
            },
            "marker": {
             "colorbar": {
              "outlinewidth": 0,
              "ticks": ""
             }
            },
            "type": "scatter3d"
           }
          ],
          "scattercarpet": [
           {
            "marker": {
             "colorbar": {
              "outlinewidth": 0,
              "ticks": ""
             }
            },
            "type": "scattercarpet"
           }
          ],
          "scattergeo": [
           {
            "marker": {
             "colorbar": {
              "outlinewidth": 0,
              "ticks": ""
             }
            },
            "type": "scattergeo"
           }
          ],
          "scattergl": [
           {
            "marker": {
             "colorbar": {
              "outlinewidth": 0,
              "ticks": ""
             }
            },
            "type": "scattergl"
           }
          ],
          "scattermapbox": [
           {
            "marker": {
             "colorbar": {
              "outlinewidth": 0,
              "ticks": ""
             }
            },
            "type": "scattermapbox"
           }
          ],
          "scatterpolar": [
           {
            "marker": {
             "colorbar": {
              "outlinewidth": 0,
              "ticks": ""
             }
            },
            "type": "scatterpolar"
           }
          ],
          "scatterpolargl": [
           {
            "marker": {
             "colorbar": {
              "outlinewidth": 0,
              "ticks": ""
             }
            },
            "type": "scatterpolargl"
           }
          ],
          "scatterternary": [
           {
            "marker": {
             "colorbar": {
              "outlinewidth": 0,
              "ticks": ""
             }
            },
            "type": "scatterternary"
           }
          ],
          "surface": [
           {
            "colorbar": {
             "outlinewidth": 0,
             "ticks": ""
            },
            "colorscale": [
             [
              0,
              "#0d0887"
             ],
             [
              0.1111111111111111,
              "#46039f"
             ],
             [
              0.2222222222222222,
              "#7201a8"
             ],
             [
              0.3333333333333333,
              "#9c179e"
             ],
             [
              0.4444444444444444,
              "#bd3786"
             ],
             [
              0.5555555555555556,
              "#d8576b"
             ],
             [
              0.6666666666666666,
              "#ed7953"
             ],
             [
              0.7777777777777778,
              "#fb9f3a"
             ],
             [
              0.8888888888888888,
              "#fdca26"
             ],
             [
              1,
              "#f0f921"
             ]
            ],
            "type": "surface"
           }
          ],
          "table": [
           {
            "cells": {
             "fill": {
              "color": "#EBF0F8"
             },
             "line": {
              "color": "white"
             }
            },
            "header": {
             "fill": {
              "color": "#C8D4E3"
             },
             "line": {
              "color": "white"
             }
            },
            "type": "table"
           }
          ]
         },
         "layout": {
          "annotationdefaults": {
           "arrowcolor": "#2a3f5f",
           "arrowhead": 0,
           "arrowwidth": 1
          },
          "autotypenumbers": "strict",
          "coloraxis": {
           "colorbar": {
            "outlinewidth": 0,
            "ticks": ""
           }
          },
          "colorscale": {
           "diverging": [
            [
             0,
             "#8e0152"
            ],
            [
             0.1,
             "#c51b7d"
            ],
            [
             0.2,
             "#de77ae"
            ],
            [
             0.3,
             "#f1b6da"
            ],
            [
             0.4,
             "#fde0ef"
            ],
            [
             0.5,
             "#f7f7f7"
            ],
            [
             0.6,
             "#e6f5d0"
            ],
            [
             0.7,
             "#b8e186"
            ],
            [
             0.8,
             "#7fbc41"
            ],
            [
             0.9,
             "#4d9221"
            ],
            [
             1,
             "#276419"
            ]
           ],
           "sequential": [
            [
             0,
             "#0d0887"
            ],
            [
             0.1111111111111111,
             "#46039f"
            ],
            [
             0.2222222222222222,
             "#7201a8"
            ],
            [
             0.3333333333333333,
             "#9c179e"
            ],
            [
             0.4444444444444444,
             "#bd3786"
            ],
            [
             0.5555555555555556,
             "#d8576b"
            ],
            [
             0.6666666666666666,
             "#ed7953"
            ],
            [
             0.7777777777777778,
             "#fb9f3a"
            ],
            [
             0.8888888888888888,
             "#fdca26"
            ],
            [
             1,
             "#f0f921"
            ]
           ],
           "sequentialminus": [
            [
             0,
             "#0d0887"
            ],
            [
             0.1111111111111111,
             "#46039f"
            ],
            [
             0.2222222222222222,
             "#7201a8"
            ],
            [
             0.3333333333333333,
             "#9c179e"
            ],
            [
             0.4444444444444444,
             "#bd3786"
            ],
            [
             0.5555555555555556,
             "#d8576b"
            ],
            [
             0.6666666666666666,
             "#ed7953"
            ],
            [
             0.7777777777777778,
             "#fb9f3a"
            ],
            [
             0.8888888888888888,
             "#fdca26"
            ],
            [
             1,
             "#f0f921"
            ]
           ]
          },
          "colorway": [
           "#636efa",
           "#EF553B",
           "#00cc96",
           "#ab63fa",
           "#FFA15A",
           "#19d3f3",
           "#FF6692",
           "#B6E880",
           "#FF97FF",
           "#FECB52"
          ],
          "font": {
           "color": "#2a3f5f"
          },
          "geo": {
           "bgcolor": "white",
           "lakecolor": "white",
           "landcolor": "#E5ECF6",
           "showlakes": true,
           "showland": true,
           "subunitcolor": "white"
          },
          "hoverlabel": {
           "align": "left"
          },
          "hovermode": "closest",
          "mapbox": {
           "style": "light"
          },
          "paper_bgcolor": "white",
          "plot_bgcolor": "#E5ECF6",
          "polar": {
           "angularaxis": {
            "gridcolor": "white",
            "linecolor": "white",
            "ticks": ""
           },
           "bgcolor": "#E5ECF6",
           "radialaxis": {
            "gridcolor": "white",
            "linecolor": "white",
            "ticks": ""
           }
          },
          "scene": {
           "xaxis": {
            "backgroundcolor": "#E5ECF6",
            "gridcolor": "white",
            "gridwidth": 2,
            "linecolor": "white",
            "showbackground": true,
            "ticks": "",
            "zerolinecolor": "white"
           },
           "yaxis": {
            "backgroundcolor": "#E5ECF6",
            "gridcolor": "white",
            "gridwidth": 2,
            "linecolor": "white",
            "showbackground": true,
            "ticks": "",
            "zerolinecolor": "white"
           },
           "zaxis": {
            "backgroundcolor": "#E5ECF6",
            "gridcolor": "white",
            "gridwidth": 2,
            "linecolor": "white",
            "showbackground": true,
            "ticks": "",
            "zerolinecolor": "white"
           }
          },
          "shapedefaults": {
           "line": {
            "color": "#2a3f5f"
           }
          },
          "ternary": {
           "aaxis": {
            "gridcolor": "white",
            "linecolor": "white",
            "ticks": ""
           },
           "baxis": {
            "gridcolor": "white",
            "linecolor": "white",
            "ticks": ""
           },
           "bgcolor": "#E5ECF6",
           "caxis": {
            "gridcolor": "white",
            "linecolor": "white",
            "ticks": ""
           }
          },
          "title": {
           "x": 0.05
          },
          "xaxis": {
           "automargin": true,
           "gridcolor": "white",
           "linecolor": "white",
           "ticks": "",
           "title": {
            "standoff": 15
           },
           "zerolinecolor": "white",
           "zerolinewidth": 2
          },
          "yaxis": {
           "automargin": true,
           "gridcolor": "white",
           "linecolor": "white",
           "ticks": "",
           "title": {
            "standoff": 15
           },
           "zerolinecolor": "white",
           "zerolinewidth": 2
          }
         }
        },
        "xaxis": {
         "anchor": "y",
         "constrain": "domain",
         "domain": [
          0,
          1
         ],
         "scaleanchor": "y"
        },
        "yaxis": {
         "anchor": "x",
         "autorange": "reversed",
         "constrain": "domain",
         "domain": [
          0,
          1
         ]
        }
       }
      }
     },
     "metadata": {},
     "output_type": "display_data"
    }
   ],
   "source": [
    "all_features = np.load('data/exp3_features.npy')\n",
    "context = np.load('data/exp3_context.npy')-1\n",
    "ys1 = all_features[:,0]\n",
    "ys2 = all_features[:,1]\n",
    "\n",
    "# Visualize embeddings for two models, one blocked and one interleaved\n",
    "for m, rot_type in zip([model_data[1],model_data[-1]],['angle','flip']):\n",
    "    embedding = experiment3.get_embedding(m,xs)\n",
    "    mds_reps = experiment3.get_rotated_mds(embedding,rot_type)\n",
    "    utils.format_figure(px.scatter(mds_reps,x=0,y=2,color=ys2,size=ys1,symbol=context),width=500,height=500).show()\n",
    "    utils.format_figure(px.scatter(mds_reps,x=1,y=2,color=ys2,size=ys1,symbol=context),width=500,height=500).show()\n",
    "    px.imshow(cosine_similarity(embedding)).show()"
   ]
  }
 ],
 "metadata": {
  "kernelspec": {
   "display_name": "calypso2",
   "language": "python",
   "name": "python3"
  },
  "language_info": {
   "codemirror_mode": {
    "name": "ipython",
    "version": 3
   },
   "file_extension": ".py",
   "mimetype": "text/x-python",
   "name": "python",
   "nbconvert_exporter": "python",
   "pygments_lexer": "ipython3",
   "version": "3.10.2"
  }
 },
 "nbformat": 4,
 "nbformat_minor": 2
}
